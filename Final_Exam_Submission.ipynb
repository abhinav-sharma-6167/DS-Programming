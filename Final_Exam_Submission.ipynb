{
 "cells": [
  {
   "cell_type": "code",
   "execution_count": 38,
   "id": "understanding-replica",
   "metadata": {},
   "outputs": [
    {
     "name": "stdout",
     "output_type": "stream",
     "text": [
      "Populating the interactive namespace from numpy and matplotlib\n"
     ]
    }
   ],
   "source": [
    "import pandas as pd\n",
    "from pandas import Series, DataFrame\n",
    "%pylab inline"
   ]
  },
  {
   "cell_type": "markdown",
   "id": "liked-animation",
   "metadata": {},
   "source": [
    "### Q1 [12 points] Classification\n",
    "\n",
    "Consider the following 2 datasets, each of which has equal numbers of red and blue points.\n",
    "\n",
    "![both](both.png)"
   ]
  },
  {
   "cell_type": "markdown",
   "id": "substantial-telephone",
   "metadata": {},
   "source": [
    "### Q1(a) [4 points] Suppose you can build a decision tree to classify the red points from the blue points. \n",
    "You can set the depth anywhere between 1 and 10 (recall that depth 1 means you get to split at most once).\n",
    "Which depth gives you the best training accuracy for dataset 1? And for dataset 2?\n",
    "If several choices for depth achieve the highest accuracy, report the smallest depth that achieves that accuracy."
   ]
  },
  {
   "cell_type": "markdown",
   "id": "continued-transsexual",
   "metadata": {},
   "source": [
    "**Depth = 10 gives best training accuracy on both dataset 1 and dataset 2. In dataset 1, tree can find cuts such as x > 1, y < -1 etc to segregate sections of blue and red. In dataset 2, since blue and red are closer together, same number of tree cuts as with dataset one might not achieve same accuracy. All trees with depth more than equal to 3 gives 100% accuracy on dataset1**\n",
    "\n",
    "**For dataset 2, we will have more or less 50% misclassification rate since the datapoints are so close to each other. Tree with depth 10 gives best accuracy on train**"
   ]
  },
  {
   "cell_type": "markdown",
   "id": "senior-mirror",
   "metadata": {},
   "source": [
    "### Q1(b) [4 points] What is the accuracy achieved by logistic regression on dataset 1? On dataset 2?\n",
    "\n",
    "For dataset 2, you may give an approximate answer assuming that the red and blue circles are very very close to each other."
   ]
  },
  {
   "cell_type": "markdown",
   "id": "awful-nutrition",
   "metadata": {},
   "source": [
    "**Since logistic also fit linear line internally and transforms into sigmoid, best accuracy for data 1 is with line y =-1, with all red points correctly classified and 2/3rd blue points misclassified, giving overall accuracy of 67%.**\n",
    "\n",
    "\n",
    "**For dataset 2, since points are really close, all linear separators give 50% accuracy.**"
   ]
  },
  {
   "cell_type": "markdown",
   "id": "significant-anatomy",
   "metadata": {},
   "source": [
    "### Q1(c) [4 points] What accuracy would a K-Nearest Neighbors algorithm achieve on dataset 1? On dataset 2?\n",
    "\n",
    "You may assume a reasonably large value for K, say, K=20. You can also assume that the points are uniformly spread out over the circles, and for dataset 2, the two circles are very very close to each other."
   ]
  },
  {
   "cell_type": "markdown",
   "id": "juvenile-playback",
   "metadata": {},
   "source": [
    "**Assume k = 20, KNN gets 100% accuracy on dataset1 and 50% on dataset 2. Since KNN works with euclidean distance, in dataset 1 where both circles are far apart compared to distance between points, a good-enough K will be able to separate it out.In dataset 2, nearest neighbor of red point might be either red or blue with equal probability. Hence accuracy = 50%**"
   ]
  },
  {
   "cell_type": "markdown",
   "id": "processed-visiting",
   "metadata": {},
   "source": [
    "---\n",
    "\n",
    "We will consider a dataset where each row is one active businesses in the Los Angeles area. We care about the following fields:\n",
    "* BUSINESS NAME, STREET ADDRESS, CITY, ZIP CODE: self-explanatory\n",
    "* MAILING ADDRESS, MAILING CITY, MAILING ZIP CODE: these correspond to locations where letters addressed to the business need to be mailed\n",
    "* LOCATION DESCRIPTION: a column that combines the street name and zip code\n",
    "* NAICS: North American Industry Classification System (essentially the type of business)\n",
    "* PRIMARY NAICS DESCRIPTION: a description of the NAICS code\n",
    "* COUNCIL DISTRICT: another location identifier\n",
    "* LOCATION START DATE: when did the business start using this location.\n",
    "\n",
    "*Note*: You can assume that STREET ADDRESS has no NaNs. However, **there may be NaNs in all other columns, and your code may need to account for that if necessary!**"
   ]
  },
  {
   "cell_type": "markdown",
   "id": "primary-consciousness",
   "metadata": {},
   "source": [
    "### Q2 [3 points] Read in \"ActiveBusinesses.csv\" and print the first line."
   ]
  },
  {
   "cell_type": "code",
   "execution_count": 39,
   "id": "plain-discrimination",
   "metadata": {},
   "outputs": [
    {
     "data": {
      "text/plain": [
       "LOCATION ACCOUNT #                                           0002737837-0001-4\n",
       "BUSINESS NAME                                            ERDEM ENTERPRISES LLC\n",
       "DBA NAME                                                                   NaN\n",
       "STREET ADDRESS                               6177 N LINCOLN AVENUE   UNIT #337\n",
       "CITY                                                                   CHICAGO\n",
       "ZIP CODE                                                            60659-2313\n",
       "LOCATION DESCRIPTION                                        6177 LINCOLN 60659\n",
       "MAILING ADDRESS                          5805   WHITE OAK AVENUE   UNIT #16999\n",
       "MAILING CITY                                                            ENCINO\n",
       "MAILING ZIP CODE                                                    91416-5052\n",
       "NAICS                                                                 512100.0\n",
       "PRIMARY NAICS DESCRIPTION    Motion picture & video industries (except vide...\n",
       "COUNCIL DISTRICT                                                             0\n",
       "LOCATION START DATE                                        2014-03-13 00:00:00\n",
       "LOCATION END DATE                                                          NaT\n",
       "LOCATION                                                   (41.9939, -87.7129)\n",
       "Name: 0, dtype: object"
      ]
     },
     "execution_count": 39,
     "metadata": {},
     "output_type": "execute_result"
    }
   ],
   "source": [
    "#Read data and parse date vars\n",
    "df = pd.read_csv('ActiveBusinesses.csv',parse_dates=['LOCATION START DATE','LOCATION END DATE'])\n",
    "df.iloc[0]"
   ]
  },
  {
   "cell_type": "code",
   "execution_count": 40,
   "id": "f6160ca0",
   "metadata": {},
   "outputs": [
    {
     "data": {
      "text/html": [
       "<div>\n",
       "<style scoped>\n",
       "    .dataframe tbody tr th:only-of-type {\n",
       "        vertical-align: middle;\n",
       "    }\n",
       "\n",
       "    .dataframe tbody tr th {\n",
       "        vertical-align: top;\n",
       "    }\n",
       "\n",
       "    .dataframe thead th {\n",
       "        text-align: right;\n",
       "    }\n",
       "</style>\n",
       "<table border=\"1\" class=\"dataframe\">\n",
       "  <thead>\n",
       "    <tr style=\"text-align: right;\">\n",
       "      <th></th>\n",
       "      <th>LOCATION ACCOUNT #</th>\n",
       "      <th>BUSINESS NAME</th>\n",
       "      <th>DBA NAME</th>\n",
       "      <th>STREET ADDRESS</th>\n",
       "      <th>CITY</th>\n",
       "      <th>ZIP CODE</th>\n",
       "      <th>LOCATION DESCRIPTION</th>\n",
       "      <th>MAILING ADDRESS</th>\n",
       "      <th>MAILING CITY</th>\n",
       "      <th>MAILING ZIP CODE</th>\n",
       "      <th>NAICS</th>\n",
       "      <th>PRIMARY NAICS DESCRIPTION</th>\n",
       "      <th>COUNCIL DISTRICT</th>\n",
       "      <th>LOCATION START DATE</th>\n",
       "      <th>LOCATION END DATE</th>\n",
       "      <th>LOCATION</th>\n",
       "    </tr>\n",
       "  </thead>\n",
       "  <tbody>\n",
       "    <tr>\n",
       "      <th>0</th>\n",
       "      <td>0002737837-0001-4</td>\n",
       "      <td>ERDEM ENTERPRISES LLC</td>\n",
       "      <td>NaN</td>\n",
       "      <td>6177 N LINCOLN AVENUE   UNIT #337</td>\n",
       "      <td>CHICAGO</td>\n",
       "      <td>60659-2313</td>\n",
       "      <td>6177 LINCOLN 60659</td>\n",
       "      <td>5805   WHITE OAK AVENUE   UNIT #16999</td>\n",
       "      <td>ENCINO</td>\n",
       "      <td>91416-5052</td>\n",
       "      <td>512100.0</td>\n",
       "      <td>Motion picture &amp; video industries (except vide...</td>\n",
       "      <td>0</td>\n",
       "      <td>2014-03-13</td>\n",
       "      <td>NaT</td>\n",
       "      <td>(41.9939, -87.7129)</td>\n",
       "    </tr>\n",
       "    <tr>\n",
       "      <th>1</th>\n",
       "      <td>0002692060-0001-4</td>\n",
       "      <td>7348 TUJUNGA AVE LLC</td>\n",
       "      <td>NaN</td>\n",
       "      <td>7348 TUJUNGA AVENUE</td>\n",
       "      <td>NORTH HOLLYWOOD</td>\n",
       "      <td>91605-3927</td>\n",
       "      <td>7348 TUJUNGA 91605-3927</td>\n",
       "      <td>21738 NICOLLE AVENUE</td>\n",
       "      <td>CARSON</td>\n",
       "      <td>90745-7564</td>\n",
       "      <td>532290.0</td>\n",
       "      <td>Other consumer goods rental</td>\n",
       "      <td>2</td>\n",
       "      <td>2013-07-17</td>\n",
       "      <td>NaT</td>\n",
       "      <td>(34.2038, -118.379)</td>\n",
       "    </tr>\n",
       "    <tr>\n",
       "      <th>2</th>\n",
       "      <td>0003012013-0001-1</td>\n",
       "      <td>MIKA GUROVICH PRODUCTION</td>\n",
       "      <td>NaN</td>\n",
       "      <td>11224   RICHARD AVENUE   UNIT #4</td>\n",
       "      <td>LOS ANGELES</td>\n",
       "      <td>90064-</td>\n",
       "      <td>11224 RICHARD 90064-</td>\n",
       "      <td>NaN</td>\n",
       "      <td>NaN</td>\n",
       "      <td>NaN</td>\n",
       "      <td>541920.0</td>\n",
       "      <td>Photographic services</td>\n",
       "      <td>0</td>\n",
       "      <td>2017-01-18</td>\n",
       "      <td>NaT</td>\n",
       "      <td>(0.0, 0.0)</td>\n",
       "    </tr>\n",
       "    <tr>\n",
       "      <th>3</th>\n",
       "      <td>0002490453-0001-1</td>\n",
       "      <td>LINDA S NELSON TRUST</td>\n",
       "      <td>NaN</td>\n",
       "      <td>771 E 14TH STREET</td>\n",
       "      <td>LOS ANGELES</td>\n",
       "      <td>90021-2113</td>\n",
       "      <td>771 14TH 90021-2113</td>\n",
       "      <td>6 WILLIAMSBURG LANE</td>\n",
       "      <td>COTO DE CAZA</td>\n",
       "      <td>92679-5024</td>\n",
       "      <td>531100.0</td>\n",
       "      <td>Lessors of real estate (including mini warehou...</td>\n",
       "      <td>14</td>\n",
       "      <td>2010-03-01</td>\n",
       "      <td>NaT</td>\n",
       "      <td>(34.0311, -118.2523)</td>\n",
       "    </tr>\n",
       "    <tr>\n",
       "      <th>4</th>\n",
       "      <td>0003162145-0001-6</td>\n",
       "      <td>ZJH ENTERPRISE LLC</td>\n",
       "      <td>NaN</td>\n",
       "      <td>9615 BOLTON ROAD</td>\n",
       "      <td>LOS ANGELES</td>\n",
       "      <td>90034-1041</td>\n",
       "      <td>9615 Bolton 90034-1041</td>\n",
       "      <td>NaN</td>\n",
       "      <td>NaN</td>\n",
       "      <td>NaN</td>\n",
       "      <td>512100.0</td>\n",
       "      <td>Motion picture &amp; video industries (except vide...</td>\n",
       "      <td>5</td>\n",
       "      <td>2017-01-01</td>\n",
       "      <td>NaT</td>\n",
       "      <td>(34.0452, -118.3974)</td>\n",
       "    </tr>\n",
       "  </tbody>\n",
       "</table>\n",
       "</div>"
      ],
      "text/plain": [
       "  LOCATION ACCOUNT #             BUSINESS NAME DBA NAME  \\\n",
       "0  0002737837-0001-4     ERDEM ENTERPRISES LLC      NaN   \n",
       "1  0002692060-0001-4      7348 TUJUNGA AVE LLC      NaN   \n",
       "2  0003012013-0001-1  MIKA GUROVICH PRODUCTION      NaN   \n",
       "3  0002490453-0001-1      LINDA S NELSON TRUST      NaN   \n",
       "4  0003162145-0001-6        ZJH ENTERPRISE LLC      NaN   \n",
       "\n",
       "                      STREET ADDRESS             CITY    ZIP CODE  \\\n",
       "0  6177 N LINCOLN AVENUE   UNIT #337          CHICAGO  60659-2313   \n",
       "1                7348 TUJUNGA AVENUE  NORTH HOLLYWOOD  91605-3927   \n",
       "2   11224   RICHARD AVENUE   UNIT #4      LOS ANGELES      90064-   \n",
       "3                  771 E 14TH STREET      LOS ANGELES  90021-2113   \n",
       "4                   9615 BOLTON ROAD      LOS ANGELES  90034-1041   \n",
       "\n",
       "      LOCATION DESCRIPTION                        MAILING ADDRESS  \\\n",
       "0       6177 LINCOLN 60659  5805   WHITE OAK AVENUE   UNIT #16999   \n",
       "1  7348 TUJUNGA 91605-3927                   21738 NICOLLE AVENUE   \n",
       "2     11224 RICHARD 90064-                                    NaN   \n",
       "3      771 14TH 90021-2113                    6 WILLIAMSBURG LANE   \n",
       "4   9615 Bolton 90034-1041                                    NaN   \n",
       "\n",
       "   MAILING CITY MAILING ZIP CODE     NAICS  \\\n",
       "0        ENCINO       91416-5052  512100.0   \n",
       "1        CARSON       90745-7564  532290.0   \n",
       "2           NaN              NaN  541920.0   \n",
       "3  COTO DE CAZA       92679-5024  531100.0   \n",
       "4           NaN              NaN  512100.0   \n",
       "\n",
       "                           PRIMARY NAICS DESCRIPTION  COUNCIL DISTRICT  \\\n",
       "0  Motion picture & video industries (except vide...                 0   \n",
       "1                        Other consumer goods rental                 2   \n",
       "2                              Photographic services                 0   \n",
       "3  Lessors of real estate (including mini warehou...                14   \n",
       "4  Motion picture & video industries (except vide...                 5   \n",
       "\n",
       "  LOCATION START DATE LOCATION END DATE              LOCATION  \n",
       "0          2014-03-13               NaT   (41.9939, -87.7129)  \n",
       "1          2013-07-17               NaT   (34.2038, -118.379)  \n",
       "2          2017-01-18               NaT            (0.0, 0.0)  \n",
       "3          2010-03-01               NaT  (34.0311, -118.2523)  \n",
       "4          2017-01-01               NaT  (34.0452, -118.3974)  "
      ]
     },
     "execution_count": 40,
     "metadata": {},
     "output_type": "execute_result"
    }
   ],
   "source": [
    "df.head()"
   ]
  },
  {
   "cell_type": "markdown",
   "id": "satisfactory-newman",
   "metadata": {},
   "source": [
    "### Q3 [4 points] Businesses with the same street address.\n",
    "\n",
    "Find the most frequent STREET ADDRESS (i.e., the STREET ADDRESS that shows up in the most rows). List all the BUSINESS NAMEs at that STREET ADDRESS."
   ]
  },
  {
   "cell_type": "code",
   "execution_count": 41,
   "id": "martial-grove",
   "metadata": {},
   "outputs": [
    {
     "data": {
      "text/plain": [
       "'15821 VENTURA BLVD SUITE #370'"
      ]
     },
     "execution_count": 41,
     "metadata": {},
     "output_type": "execute_result"
    }
   ],
   "source": [
    "addr = df['STREET ADDRESS'].value_counts().index.values[0]\n",
    "addr"
   ]
  },
  {
   "cell_type": "code",
   "execution_count": 42,
   "id": "36664ffb",
   "metadata": {},
   "outputs": [
    {
     "data": {
      "text/plain": [
       "3258              HYPERSONIC, INC.\n",
       "4033              TWIN ENGINES LLC\n",
       "7397               COMANDANTE, LLC\n",
       "8901     PHILIP CHRISTOPHER HARVEY\n",
       "10108      DIA DE LOS DEFTONES LLC\n",
       "10278    SMOKIN CAMELS CARAVAN INC\n",
       "13022            BVB TOURING, INC.\n",
       "16371           ELLA MAI MUSIC INC\n",
       "17100                   EMMIT FENN\n",
       "17737                KIDD KASH INC\n",
       "19533                 HOT MILK INC\n",
       "19597                  CC BLUE INC\n",
       "Name: BUSINESS NAME, dtype: object"
      ]
     },
     "execution_count": 42,
     "metadata": {},
     "output_type": "execute_result"
    }
   ],
   "source": [
    "df['BUSINESS NAME'][df['STREET ADDRESS'] == addr]"
   ]
  },
  {
   "cell_type": "markdown",
   "id": "institutional-selection",
   "metadata": {},
   "source": [
    "### Q4 [4 points] Plot the top 10 most frequent BUSINESS NAMEs.\n",
    "The x-axis should be the BUSINESS NAME, and the y-axis should be the number of rows with that BUSINESS NAME."
   ]
  },
  {
   "cell_type": "code",
   "execution_count": 43,
   "id": "close-hamburg",
   "metadata": {},
   "outputs": [
    {
     "data": {
      "text/plain": [
       "<AxesSubplot:>"
      ]
     },
     "execution_count": 43,
     "metadata": {},
     "output_type": "execute_result"
    },
    {
     "data": {
      "image/png": "[encoded data removed]",
      "text/plain": [
       "<Figure size 432x288 with 1 Axes>"
      ]
     },
     "metadata": {
      "needs_background": "light"
     },
     "output_type": "display_data"
    }
   ],
   "source": [
    "df['BUSINESS NAME'].value_counts()[0:10].plot(kind='bar')"
   ]
  },
  {
   "cell_type": "markdown",
   "id": "nervous-entrance",
   "metadata": {},
   "source": [
    "### Q5 [4 points] Top street names\n",
    "\n",
    "Define the street name as the LOCATION DESCRIPTION without the first word (street number) and the last word (the zip code).\n",
    "Print the frequencies of the top 10 street names."
   ]
  },
  {
   "cell_type": "code",
   "execution_count": 44,
   "id": "c0dab17e",
   "metadata": {},
   "outputs": [
    {
     "data": {
      "text/plain": [
       "VENTURA         579\n",
       "WILSHIRE        513\n",
       "OLYMPIC         157\n",
       "FIGUEROA        148\n",
       "SHERMAN         146\n",
       "SUNSET          145\n",
       "SANTA MONICA    135\n",
       "SEPULVEDA       133\n",
       "PICO            132\n",
       "WESTERN         128\n",
       "Name: LOCATION DESCRIPTION, dtype: int64"
      ]
     },
     "execution_count": 44,
     "metadata": {},
     "output_type": "execute_result"
    }
   ],
   "source": [
    "df_dropped = df.dropna(subset = ['LOCATION DESCRIPTION'])\n",
    "df_dropped['LOCATION DESCRIPTION'].apply(lambda s: ' '.join(s.split()[1:-1])).value_counts()[:10]"
   ]
  },
  {
   "cell_type": "markdown",
   "id": "apart-minneapolis",
   "metadata": {},
   "source": [
    "### Q6 [4 points] Plot the frequencies of the top-10 cities except LOS ANGELES."
   ]
  },
  {
   "cell_type": "code",
   "execution_count": 45,
   "id": "historic-liberia",
   "metadata": {},
   "outputs": [
    {
     "data": {
      "text/plain": [
       "<AxesSubplot:>"
      ]
     },
     "execution_count": 45,
     "metadata": {},
     "output_type": "execute_result"
    },
    {
     "data": {
      "image/png": "[encoded data removed]",
      "text/plain": [
       "<Figure size 432x288 with 1 Axes>"
      ]
     },
     "metadata": {
      "needs_background": "light"
     },
     "output_type": "display_data"
    }
   ],
   "source": [
    "df['CITY'][df['CITY']  != 'LOS ANGELES'].value_counts()[0:10].plot(kind='bar')"
   ]
  },
  {
   "cell_type": "markdown",
   "id": "related-transportation",
   "metadata": {},
   "source": [
    "### Q7 [4 points] Among rows where both ZIP CODE and MAILING ZIP CODE are not missing, what fraction of rows have different values for these two columns?"
   ]
  },
  {
   "cell_type": "code",
   "execution_count": 46,
   "id": "brazilian-cyprus",
   "metadata": {},
   "outputs": [
    {
     "data": {
      "text/plain": [
       "0.5952614059134521"
      ]
     },
     "execution_count": 46,
     "metadata": {},
     "output_type": "execute_result"
    }
   ],
   "source": [
    "df_zip = df[(df['ZIP CODE'].notnull()) & (df['MAILING ZIP CODE'].notnull())]\n",
    "len_zip = len(df_zip[df_zip['ZIP CODE'] != df_zip['MAILING ZIP CODE']])\n",
    "len_zip/len(df_zip)"
   ]
  },
  {
   "cell_type": "markdown",
   "id": "marked-enforcement",
   "metadata": {},
   "source": [
    "### Q8 [4 points] How many unique STREET ADDRESSes have a single character as their second word?\n",
    "\n",
    "For example, the second word of \"1155 N LA CIENEGA BLVD\" is \"N\"."
   ]
  },
  {
   "cell_type": "code",
   "execution_count": 47,
   "id": "a82aef12",
   "metadata": {},
   "outputs": [],
   "source": [
    "df['WORDS'] = df['STREET ADDRESS'].str.split()"
   ]
  },
  {
   "cell_type": "code",
   "execution_count": 48,
   "id": "strong-mills",
   "metadata": {},
   "outputs": [],
   "source": [
    "df['WORDS 2'] = df['WORDS'].map(lambda x : x[1] if len(x)>1 else 'Unknown' )"
   ]
  },
  {
   "cell_type": "code",
   "execution_count": 49,
   "id": "6bf3c700",
   "metadata": {},
   "outputs": [
    {
     "data": {
      "text/plain": [
       "5950"
      ]
     },
     "execution_count": 49,
     "metadata": {},
     "output_type": "execute_result"
    }
   ],
   "source": [
    "df['STREET ADDRESS'][df['WORDS 2'].map(lambda x : len(x)) == 1].nunique()"
   ]
  },
  {
   "cell_type": "markdown",
   "id": "skilled-producer",
   "metadata": {},
   "source": [
    "### Q9 [4 points] Among rows where NAICS is not missing, what fraction also have PRIMARY NAICS DESCRIPTION also not missing?"
   ]
  },
  {
   "cell_type": "code",
   "execution_count": 50,
   "id": "photographic-modem",
   "metadata": {},
   "outputs": [
    {
     "data": {
      "text/plain": [
       "1.0"
      ]
     },
     "execution_count": 50,
     "metadata": {},
     "output_type": "execute_result"
    }
   ],
   "source": [
    "len1 = len(df[df['NAICS'].notnull()])\n",
    "len2 = len(df[(df['NAICS'].notnull())  & (df['PRIMARY NAICS DESCRIPTION'].notnull())])\n",
    "len2/len1"
   ]
  },
  {
   "cell_type": "markdown",
   "id": "official-turtle",
   "metadata": {},
   "source": [
    "### Q10 [4 points] Find all unique BUSINESS NAMEs where the CITY in which the business is located is part of the BUSINESS NAME.\n",
    "\n",
    "For example, \"LOS ANGELES VALLEY CAREGIVERS, INC.\" in the city of LOS ANGELES."
   ]
  },
  {
   "cell_type": "code",
   "execution_count": 51,
   "id": "fca9c3af",
   "metadata": {},
   "outputs": [],
   "source": [
    "mask1 = df.apply(lambda x: str(x['CITY']) in str(x['BUSINESS NAME']), axis=1)"
   ]
  },
  {
   "cell_type": "code",
   "execution_count": 52,
   "id": "24e3a936",
   "metadata": {},
   "outputs": [
    {
     "data": {
      "text/plain": [
       "array(['LOS ANGELES DRAMA CLUB', 'RESEDA PHARMACY INC',\n",
       "       'URBAN PARTNERS LOS ANGELES INC', 'SHERMAN OAKS-A, INC',\n",
       "       'ENCINO STARDUST INVESTMENT COMPANY',\n",
       "       'LOS ANGELES PSYCHOANALYTIC SOCIETY & INSTITUTE',\n",
       "       'EL LEON CIGARS DE LOS ANGELES INC',\n",
       "       'ONTARIO CHAMMBER OF COMMERCE', 'GALLAGHER DESIGNS LOS ANGELES',\n",
       "       'VENICE ALE HOUSE LLC',\n",
       "       'KIDS ENJOY EXERCISE NOW (KEEN) LOS ANGELES LLC',\n",
       "       'COTNER LOS ANGELES LLC', 'LOS ANGELES MOBILE TRUCK WASH LLC',\n",
       "       'CANOGA PARK COMMUNITY CENTER',\n",
       "       'VALLEY VILLAGE MANAGEMENT CORPORATION',\n",
       "       '1533 N MCCADDEN PLACE LOS ANGELES CA 90028 FAMILY TRUST',\n",
       "       'A A OFICINA CENTRAL HISPANA DE LOS ANGELES /C',\n",
       "       'LOS ANGELES KIDNEY CENTER A PMC', 'TARZANA LOCK AND SAFE INC',\n",
       "       'METROPOLIS LOS ANGELES LLC', 'ONTARIO SUPER 8 INC',\n",
       "       'KOLLEL-LOS ANGELES /C', 'CITY OF LOS ANGELES',\n",
       "       'SPAY NEUTER PROJECT OF LOS ANGELES INC',\n",
       "       'LOS ANGELES SECURITY ACADEMY INC',\n",
       "       'NATIONAL COUNCIL OF JEWISH WOMEN INC/LOS ANGELES SECTION',\n",
       "       'M & B CARPET SUPPLIERS OF TEMPLE CITY INC',\n",
       "       'SUNLAND INVESTMENT GROUP INC', 'LOS ANGELES HOMEOWNERS AID INC',\n",
       "       'LOS ANGELES CITY FIRE DEPARTMENT',\n",
       "       'ENCINO PROPERTY BUSINESS IMPROVEMENT DISTRICT',\n",
       "       'LOS ANGELES SLEEP INSTITUTE, INC.',\n",
       "       'THE SHERMAN OAKS NURSERY SCHOOL /C', 'LOS ANGELES LDA SERVICES',\n",
       "       'MA DE LOS ANGELES MARTINEZ',\n",
       "       'COMMERCE HOSE/INDUSTRIAL PRODUCTS INC',\n",
       "       'FIRST MOTOR GROUP OF ENCINO LLC',\n",
       "       'PREMIER SURGICAL PAVILION OF LOS ANGELES CORP.',\n",
       "       'CASA DE CARLOS-CHATSWORTH INC',\n",
       "       'METRO VILLAS PHASE 2 LOS ANGELES LP', 'ENCINO CARE PHARMACY INC',\n",
       "       'ANAHEIM STONE WORKS, INC.', 'LOS ANGELES VOLLEYBALL CLUB',\n",
       "       'WILMINGTON RETAIL CENTER LLC', 'LOS ANGELES PARTNERSHIP INC',\n",
       "       'LOS ANGELES OPERA CO /C', 'VENICE HILLS, INC.',\n",
       "       'BILL JOHN LOS ANGELES, LLC',\n",
       "       'LOS ANGELES HEMATOLOGY / ONCOLOGY MEDICAL GROUP',\n",
       "       'SENIOR CITIZENS HOUSING DEVELOPMENT CORPORATION OF LOS ANGELES',\n",
       "       'RADIOLOGY DISC OF ENCINO INC', 'VETCOR OF LOS ANGELES LP',\n",
       "       'VENICEKUSH BRAND LLC', 'VALLEY VILLAGE FRIENDLY FAMILY',\n",
       "       'RAINTREE PLAZA AT SHERMAN OAKS LLC',\n",
       "       'BILL JOHNSON LOS ANGELES LLC',\n",
       "       'WOODLAND HILLS GROCERY MARKET, INC',\n",
       "       'LOS ANGELES MOVEMENT STRENGTH LLC', 'MISSION HILLS PARTNERS LLC',\n",
       "       'APOLLO WEST THEATRE AND DRAMA WORKSHOP CARSON PLAYERS',\n",
       "       'ACUCENTER OF LOS ANGELES, INC',\n",
       "       'SUSTAINABLE ECONOMIC ENTERPRISES OF LOS ANGELES /C',\n",
       "       'TARZANA BAKERY & CAFE INC', 'BLAME LOS ANGELES, LLC',\n",
       "       'BREA/ORANGE COUNTY PLUMBING,HEATING & A.C., INC.',\n",
       "       'LOS ANGELES ALUMNI CHAPTER DELTA SIGMA THETA INC',\n",
       "       'AUTO RECYCLING OF WILMINGTON INC',\n",
       "       'MTD PROPERTIES LOS ANGELES INC',\n",
       "       'CONCERNED CITIZENS OF SOUTH CENTRAL LOS ANGELES/C',\n",
       "       'SHERMAN OAKS CHAMBER FOUNDATION', 'LOS ANGELES CITY BD OF EDUCN',\n",
       "       'BURBANK GLENOAKS LLC', 'ORANGE COAST PETROLEUM EQUIPMENT INC',\n",
       "       'NORTH VENICE BOARDWALK LLC',\n",
       "       'MT CHAPEL BAPTIST CHURCH OF LOS ANGELES /C',\n",
       "       'THE PUBLIC HEALTH FOUNDATION OF LOS ANGELES COUNTY INC',\n",
       "       'YIDDISHKAYT LOS ANGELES', 'TARZANA SENIOR LIVING, INC.',\n",
       "       'LOS ANGELES CARES MENTORING MOVEMENT',\n",
       "       'AA OFICINA CENTRAL HISPANA DE LOS ANGELES',\n",
       "       'LOS ANGELES SECOND BAPTIST HOMES INC',\n",
       "       'PLANNED PARENTHOOD LOS ANGELES',\n",
       "       'PLAYA VISTA PARKS AND LANDSCAPE CORPORATION',\n",
       "       'GARDENA TERRACE VENTURES LLC',\n",
       "       'SAN BERNARDINO REGIONAL EMERGENCY TRAINING CENTER JOINT POWERS OF AUTHORITY',\n",
       "       'VAN NUYS PLATING INC', 'LOS ANGELES HOME OWNERS AID INC',\n",
       "       'LOS ANGELES REGIONAL FAMILY PREGNANCY PREVENTION',\n",
       "       '1021 1132 N WILMINGTON AVENUE LLC', 'ZELMAN CHATSWORTH LP',\n",
       "       'ROWI ENCINO INC', 'LOS ANGELES UNITED INVESTMENT CO/C',\n",
       "       'LOS ANGELES ORTHOPAEDIC CENTER MED GROUP',\n",
       "       'NORTHRIDGE PROPERTY LLC',\n",
       "       'ARCHDIOCESE OF LOS ANGELES EDUCATION/WELFARE CORP',\n",
       "       'URBAN NEIGHBORHOOD LOS ANGELES MB, LLC',\n",
       "       'SMOKERS ZONE LOS ANGELES',\n",
       "       'CATHOLIC CHARITIES OF LOS ANGELES INC',\n",
       "       'LOS ANGELES POLICE DEPARTMENT VENICE LAW ENFORCEMENT EXPLORER POST 1400',\n",
       "       'LOS ANGELES INFANT TODDLER ACADEMY /C',\n",
       "       'JUST FIT LOS ANGELES LLC', '23668 MALIBU COLONY RD. LLC',\n",
       "       'LOS ANGELES URBAN LEAGUE',\n",
       "       'LOS ANGELES ORTHOPAEDIC MEDICAL CENTER/C',\n",
       "       'WHITTIER FIGHT SHOP INC', 'LOS ANGELES MOTOR CARS INC',\n",
       "       'PQ ENCINO BAKERY INC', 'GARDENA HD ASSOCIATES',\n",
       "       'PACOIMA CENTER LLC', 'BURLINGTON SAFETY LABORATORY INC',\n",
       "       'SYLMAR INDEPENDENT BASEBALL LEAGUE, INC',\n",
       "       'BIOFEEDBACK INSTITUTE OF LOS ANGELES /C'], dtype=object)"
      ]
     },
     "execution_count": 52,
     "metadata": {},
     "output_type": "execute_result"
    }
   ],
   "source": [
    "df[mask1]['BUSINESS NAME'].unique()"
   ]
  },
  {
   "cell_type": "markdown",
   "id": "recognized-native",
   "metadata": {},
   "source": [
    "### Q11 [4 points] Print out all cities with 5 or more unique council districts associated with them."
   ]
  },
  {
   "cell_type": "code",
   "execution_count": 53,
   "id": "bacterial-situation",
   "metadata": {},
   "outputs": [
    {
     "data": {
      "text/plain": [
       "array(['ENCINO', 'NORTH HOLLYWOOD', 'NORTHRIDGE', 'SHERMAN OAKS',\n",
       "       'VAN NUYS', 'LOS ANGELES'], dtype=object)"
      ]
     },
     "execution_count": 53,
     "metadata": {},
     "output_type": "execute_result"
    }
   ],
   "source": [
    "df_num = df.groupby(['CITY'])['COUNCIL DISTRICT'].agg('nunique').to_frame('NumCountDist')\n",
    "df_num = df_num[df_num['NumCountDist'] >= 5]\n",
    "df_num.sort_values('NumCountDist').index.values"
   ]
  },
  {
   "cell_type": "markdown",
   "id": "bronze-piano",
   "metadata": {},
   "source": [
    "### Q12 [6 points] Multiple NAICS\n",
    "Find all instances where there are several different NAICS for the same PRIMARY NAICS DESCRIPTION. Print out these NAICS and PRIMARY NAICS DESCRIPTIONs."
   ]
  },
  {
   "cell_type": "code",
   "execution_count": 54,
   "id": "hearing-arthritis",
   "metadata": {},
   "outputs": [
    {
     "data": {
      "text/plain": [
       "array(['Home furnishings stores'], dtype=object)"
      ]
     },
     "execution_count": 54,
     "metadata": {},
     "output_type": "execute_result"
    }
   ],
   "source": [
    "df_num2 = df.groupby(['PRIMARY NAICS DESCRIPTION'])['NAICS'].agg('nunique').to_frame(name = 'NumNAICS')\n",
    "diffNAICS = df_num2[df_num2['NumNAICS'] > 1].index.values\n",
    "diffNAICS"
   ]
  },
  {
   "cell_type": "code",
   "execution_count": 55,
   "id": "7856ff7c",
   "metadata": {},
   "outputs": [
    {
     "data": {
      "text/html": [
       "<div>\n",
       "<style scoped>\n",
       "    .dataframe tbody tr th:only-of-type {\n",
       "        vertical-align: middle;\n",
       "    }\n",
       "\n",
       "    .dataframe tbody tr th {\n",
       "        vertical-align: top;\n",
       "    }\n",
       "\n",
       "    .dataframe thead th {\n",
       "        text-align: right;\n",
       "    }\n",
       "</style>\n",
       "<table border=\"1\" class=\"dataframe\">\n",
       "  <thead>\n",
       "    <tr style=\"text-align: right;\">\n",
       "      <th></th>\n",
       "      <th>NAICS</th>\n",
       "      <th>PRIMARY NAICS DESCRIPTION</th>\n",
       "    </tr>\n",
       "  </thead>\n",
       "  <tbody>\n",
       "    <tr>\n",
       "      <th>696</th>\n",
       "      <td>445290.0</td>\n",
       "      <td>Home furnishings stores</td>\n",
       "    </tr>\n",
       "    <tr>\n",
       "      <th>919</th>\n",
       "      <td>442200.0</td>\n",
       "      <td>Home furnishings stores</td>\n",
       "    </tr>\n",
       "  </tbody>\n",
       "</table>\n",
       "</div>"
      ],
      "text/plain": [
       "        NAICS PRIMARY NAICS DESCRIPTION\n",
       "696  445290.0   Home furnishings stores\n",
       "919  442200.0   Home furnishings stores"
      ]
     },
     "execution_count": 55,
     "metadata": {},
     "output_type": "execute_result"
    }
   ],
   "source": [
    "df[['NAICS','PRIMARY NAICS DESCRIPTION']][df['PRIMARY NAICS DESCRIPTION'].isin(diffNAICS)].drop_duplicates()"
   ]
  },
  {
   "cell_type": "markdown",
   "id": "every-hammer",
   "metadata": {},
   "source": [
    "### Q13 [6 points] Plot the frequency of street last-names.\n",
    "\n",
    "The street last-name is defined as follows:\n",
    "* Look at a STREET ADDRESS (e.g., \"5670 WILSHIRE BLVD #B 1\")\n",
    "* Read its words backwards (here:, \"1\", \"#B\", \"BLVD\", \"WILSHIRE\", \"5670\")\n",
    "* Pick the first word that doesn't have any digits or \"#\" in it (here: \"BLVD\")\n",
    "\n",
    "Calculate the number of rows associated with each unique last-name. Plot the frequencies of the top 10 last-names."
   ]
  },
  {
   "cell_type": "code",
   "execution_count": 56,
   "id": "hydraulic-sharp",
   "metadata": {},
   "outputs": [],
   "source": [
    "df['LAST WORD'] = df['STREET ADDRESS'].str.replace('[\\d\\#]',\"\",regex=True).str.strip().str.split()\n",
    "df['LAST WORD 2'] = df['LAST WORD'].map(lambda x : x[-1] if len(x) >= 1 else NaN)"
   ]
  },
  {
   "cell_type": "code",
   "execution_count": 57,
   "id": "0f7fd556",
   "metadata": {},
   "outputs": [
    {
     "data": {
      "text/plain": [
       "18220    915\n",
       "Name: STREET ADDRESS, dtype: object"
      ]
     },
     "execution_count": 57,
     "metadata": {},
     "output_type": "execute_result"
    }
   ],
   "source": [
    "#identified edge case \n",
    "df['STREET ADDRESS'][df['LAST WORD 2'].isnull()]"
   ]
  },
  {
   "cell_type": "code",
   "execution_count": 58,
   "id": "5980822e",
   "metadata": {},
   "outputs": [
    {
     "data": {
      "text/plain": [
       "268"
      ]
     },
     "execution_count": 58,
     "metadata": {},
     "output_type": "execute_result"
    }
   ],
   "source": [
    "len(df['LAST WORD 2'].unique())"
   ]
  },
  {
   "cell_type": "code",
   "execution_count": 59,
   "id": "cf176c8d",
   "metadata": {},
   "outputs": [
    {
     "data": {
      "text/plain": [
       "AVENUE    4749\n",
       "STREET    4062\n",
       "BLVD      2570\n",
       "SUITE     1753\n",
       "APT       1410\n",
       "          ... \n",
       "RIBERA       1\n",
       "ID           1\n",
       "HQN          1\n",
       "BESO         1\n",
       "CRUZ         1\n",
       "Name: LAST WORD 2, Length: 267, dtype: int64"
      ]
     },
     "execution_count": 59,
     "metadata": {},
     "output_type": "execute_result"
    }
   ],
   "source": [
    "vc = df['LAST WORD 2'].value_counts()\n",
    "vc"
   ]
  },
  {
   "cell_type": "code",
   "execution_count": 60,
   "id": "c5ad4011",
   "metadata": {},
   "outputs": [
    {
     "data": {
      "text/plain": [
       "<AxesSubplot:>"
      ]
     },
     "execution_count": 60,
     "metadata": {},
     "output_type": "execute_result"
    },
    {
     "data": {
      "image/png": "[encoded data removed]",
      "text/plain": [
       "<Figure size 432x288 with 1 Axes>"
      ]
     },
     "metadata": {
      "needs_background": "light"
     },
     "output_type": "display_data"
    }
   ],
   "source": [
    "vc[0:10].plot(kind='bar')"
   ]
  },
  {
   "cell_type": "markdown",
   "id": "expected-patent",
   "metadata": {},
   "source": [
    "### Q14 [6 points] Streets with the widest range of street numbers\n",
    "\n",
    "* Drop all STREET ADDRESSES where the first word is not all numbers. For example, keep the row where the STREET ADDRESS is \"15136 STAGG STREET\" but drop the row with \"POST OFFICE BOX 123\".\n",
    "* Among these STREET ADDRESSES, call the first word STREET NUMBER and the rest of the address STREET BASE.\n",
    "    * For example, a STREET ADDRESS of \"15136 STAGG STREET\" has a STREET NUMBER of 15136 and a STREET BASE of \"STAGG STREET\"\n",
    "* For each STREET BASE, figure out the range of STREET NUMBERs.\n",
    "    * For example, if you see \"15126 STAGG STREET\", \"15100 STAGG STREET\" and \"15200 STAGG STREET\", then the range for \"STAGG STREET\" is 15200-15100=100.\n",
    "* Print out the top 5 STREET BASEs with the largest range of STREET NUMBERs."
   ]
  },
  {
   "cell_type": "code",
   "execution_count": 61,
   "id": "anonymous-mathematics",
   "metadata": {},
   "outputs": [],
   "source": [
    "df['WORDS 1'] = df['WORDS'].map(lambda x : x[0])\n",
    "df_dig = df[df['WORDS 1'].str.isdigit()].copy()\n",
    "\n",
    "df_dig['STREET NUMBER'] = df_dig['WORDS 1'].astype('int')\n",
    "df_dig['STREET BASE'] = df_dig['WORDS'].map(lambda x : ' '.join(x[1:]))"
   ]
  },
  {
   "cell_type": "code",
   "execution_count": 62,
   "id": "e6778178",
   "metadata": {},
   "outputs": [
    {
     "data": {
      "text/html": [
       "<div>\n",
       "<style scoped>\n",
       "    .dataframe tbody tr th:only-of-type {\n",
       "        vertical-align: middle;\n",
       "    }\n",
       "\n",
       "    .dataframe tbody tr th {\n",
       "        vertical-align: top;\n",
       "    }\n",
       "\n",
       "    .dataframe thead th {\n",
       "        text-align: right;\n",
       "    }\n",
       "</style>\n",
       "<table border=\"1\" class=\"dataframe\">\n",
       "  <thead>\n",
       "    <tr style=\"text-align: right;\">\n",
       "      <th></th>\n",
       "      <th>Range</th>\n",
       "    </tr>\n",
       "    <tr>\n",
       "      <th>STREET BASE</th>\n",
       "      <th></th>\n",
       "    </tr>\n",
       "  </thead>\n",
       "  <tbody>\n",
       "    <tr>\n",
       "      <th>DUNN DRIVE</th>\n",
       "      <td>78397</td>\n",
       "    </tr>\n",
       "    <tr>\n",
       "      <th>ATLANTIC AVENUE</th>\n",
       "      <td>64710</td>\n",
       "    </tr>\n",
       "    <tr>\n",
       "      <th>CORPORATE DRIVE</th>\n",
       "      <td>34455</td>\n",
       "    </tr>\n",
       "    <tr>\n",
       "      <th>PACIFIC COAST HIGHWAY</th>\n",
       "      <td>30010</td>\n",
       "    </tr>\n",
       "    <tr>\n",
       "      <th>S WESTERN AVENUE</th>\n",
       "      <td>27962</td>\n",
       "    </tr>\n",
       "  </tbody>\n",
       "</table>\n",
       "</div>"
      ],
      "text/plain": [
       "                       Range\n",
       "STREET BASE                 \n",
       "DUNN DRIVE             78397\n",
       "ATLANTIC AVENUE        64710\n",
       "CORPORATE DRIVE        34455\n",
       "PACIFIC COAST HIGHWAY  30010\n",
       "S WESTERN AVENUE       27962"
      ]
     },
     "execution_count": 62,
     "metadata": {},
     "output_type": "execute_result"
    }
   ],
   "source": [
    "def rangeFunc(x):\n",
    "    return x.max() - x.min()\n",
    "\n",
    "df_dig.groupby(['STREET BASE'])['STREET NUMBER'].agg(rangeFunc).to_frame(name = 'Range').sort_values('Range',ascending=False)[0:5]"
   ]
  },
  {
   "cell_type": "markdown",
   "id": "million-petroleum",
   "metadata": {},
   "source": [
    "### Q15 [6 points] Among MAILING CITIES that appear at least 50 times, what is the fraction of rows for which the MAILING ADDRESS contains the string \"POST OFFICE BOX\"?"
   ]
  },
  {
   "cell_type": "code",
   "execution_count": 63,
   "id": "nuclear-framework",
   "metadata": {},
   "outputs": [],
   "source": [
    "vc2 = df['MAILING CITY'].value_counts()\n",
    "CITY_ = vc2.index.values[vc2.values >= 50]"
   ]
  },
  {
   "cell_type": "code",
   "execution_count": 64,
   "id": "06dd88ce",
   "metadata": {},
   "outputs": [
    {
     "data": {
      "text/plain": [
       "0.07069261591299371"
      ]
     },
     "execution_count": 64,
     "metadata": {},
     "output_type": "execute_result"
    }
   ],
   "source": [
    "df['ContainPO'] = df['MAILING ADDRESS'].map(lambda x : 'POST OFFICE BOX' in str(x))\n",
    "num_len = len(df[ (df['MAILING CITY'].isin(CITY_)) & (df['ContainPO']) ])\n",
    "den_len = len(df[df['MAILING CITY'].isin(CITY_)])\n",
    "num_len/den_len"
   ]
  },
  {
   "cell_type": "markdown",
   "id": "logical-operation",
   "metadata": {},
   "source": [
    "### Q16 [6 points] Business chains\n",
    "\n",
    "* Find all BUSINESS NAMEs that are associated with 6 or more unique non-missing LOCATIONs.\n",
    "* For each such BUSINESS NAME, print out a DataFrame with the index being the BUSINESS NAME and two columns:\n",
    "    * the number of unique cities in which the business operates, and\n",
    "    * the CITY with the maximum number of locations for this business (you need not consider unique locations here)."
   ]
  },
  {
   "cell_type": "code",
   "execution_count": 65,
   "id": "fatty-purchase",
   "metadata": {},
   "outputs": [],
   "source": [
    "df_loc = df.groupby(['BUSINESS NAME'])['LOCATION'].agg('nunique').to_frame(name = 'NumLoc')\n",
    "BUSINESS_ = df_loc[df_loc['NumLoc'] >= 6].index.values"
   ]
  },
  {
   "cell_type": "code",
   "execution_count": 66,
   "id": "836f207d",
   "metadata": {},
   "outputs": [
    {
     "data": {
      "text/html": [
       "<div>\n",
       "<style scoped>\n",
       "    .dataframe tbody tr th:only-of-type {\n",
       "        vertical-align: middle;\n",
       "    }\n",
       "\n",
       "    .dataframe tbody tr th {\n",
       "        vertical-align: top;\n",
       "    }\n",
       "\n",
       "    .dataframe thead th {\n",
       "        text-align: right;\n",
       "    }\n",
       "</style>\n",
       "<table border=\"1\" class=\"dataframe\">\n",
       "  <thead>\n",
       "    <tr style=\"text-align: right;\">\n",
       "      <th></th>\n",
       "      <th>nunique</th>\n",
       "      <th>&lt;lambda_0&gt;</th>\n",
       "    </tr>\n",
       "    <tr>\n",
       "      <th>BUSINESS NAME</th>\n",
       "      <th></th>\n",
       "      <th></th>\n",
       "    </tr>\n",
       "  </thead>\n",
       "  <tbody>\n",
       "    <tr>\n",
       "      <th>ABM INDUSTRY GROUPS, LLC</th>\n",
       "      <td>3</td>\n",
       "      <td>LOS ANGELES</td>\n",
       "    </tr>\n",
       "    <tr>\n",
       "      <th>COINSTAR ASSET HOLDINGS, LLC</th>\n",
       "      <td>7</td>\n",
       "      <td>LOS ANGELES</td>\n",
       "    </tr>\n",
       "    <tr>\n",
       "      <th>LAZ KARP ASSOCIATES LLC</th>\n",
       "      <td>2</td>\n",
       "      <td>LOS ANGELES</td>\n",
       "    </tr>\n",
       "    <tr>\n",
       "      <th>REDBOX AUTOMATED RETAIL LLC</th>\n",
       "      <td>4</td>\n",
       "      <td>LOS ANGELES</td>\n",
       "    </tr>\n",
       "    <tr>\n",
       "      <th>STARBUCKS CORPORATION</th>\n",
       "      <td>6</td>\n",
       "      <td>LOS ANGELES</td>\n",
       "    </tr>\n",
       "    <tr>\n",
       "      <th>T MOBILE WEST LLC</th>\n",
       "      <td>6</td>\n",
       "      <td>SHERMAN OAKS</td>\n",
       "    </tr>\n",
       "  </tbody>\n",
       "</table>\n",
       "</div>"
      ],
      "text/plain": [
       "                              nunique    <lambda_0>\n",
       "BUSINESS NAME                                      \n",
       "ABM INDUSTRY GROUPS, LLC            3   LOS ANGELES\n",
       "COINSTAR ASSET HOLDINGS, LLC        7   LOS ANGELES\n",
       "LAZ KARP ASSOCIATES LLC             2   LOS ANGELES\n",
       "REDBOX AUTOMATED RETAIL LLC         4   LOS ANGELES\n",
       "STARBUCKS CORPORATION               6   LOS ANGELES\n",
       "T MOBILE WEST LLC                   6  SHERMAN OAKS"
      ]
     },
     "execution_count": 66,
     "metadata": {},
     "output_type": "execute_result"
    }
   ],
   "source": [
    "df[df['BUSINESS NAME'].isin(BUSINESS_)].groupby(['BUSINESS NAME'])['CITY'].agg(['nunique',lambda x : x.value_counts().index.values[0]])"
   ]
  },
  {
   "cell_type": "code",
   "execution_count": 67,
   "id": "e68dff8b",
   "metadata": {},
   "outputs": [
    {
     "data": {
      "text/plain": [
       "LOS ANGELES          2\n",
       "VAN NUYS             2\n",
       "SAN PEDRO            1\n",
       "PACIFIC PALISADES    1\n",
       "WILMINGTON           1\n",
       "WEST HILLS           1\n",
       "NORTH HOLLYWOOD      1\n",
       "Name: CITY, dtype: int64"
      ]
     },
     "execution_count": 67,
     "metadata": {},
     "output_type": "execute_result"
    }
   ],
   "source": [
    "#For COINSTAR ASSET HOLDINGS, LLC both Van Nuys and LA are mode\n",
    "df[df['BUSINESS NAME'] == \"COINSTAR ASSET HOLDINGS, LLC\"]['CITY'].value_counts()"
   ]
  },
  {
   "cell_type": "markdown",
   "id": "egyptian-donor",
   "metadata": {},
   "source": [
    "### Q17 [6 points] Visualize Ventura\n",
    "\n",
    "* Find all rows where the STREET ADDRESS contains \"VENTURA BLVD\".\n",
    "* Look at the LOCATION column for these rows. These are in the form (latitude, longitude)\n",
    "* Drop any rows where the LOCATION is missing or equals \"(0.0, 0.0)\"\n",
    "* Extract the latitudes and longitudes. \n",
    "* Show a scatter plot of locations with latitude on the y-axis and longitude on the x-axis. These give a visualization of roads named Ventura Blvd."
   ]
  },
  {
   "cell_type": "code",
   "execution_count": 68,
   "id": "quarterly-minority",
   "metadata": {},
   "outputs": [
    {
     "data": {
      "text/plain": [
       "(313, 23)"
      ]
     },
     "execution_count": 68,
     "metadata": {},
     "output_type": "execute_result"
    }
   ],
   "source": [
    "df['ContainVentura'] = df['MAILING ADDRESS'].map(lambda x : 'VENTURA BLVD' in str(x))\n",
    "df_latlong = df[(df['ContainVentura']) & (df['LOCATION'].notnull()) & (df['LOCATION'] != '(0.0, 0.0)') ].copy()\n",
    "df_latlong.shape"
   ]
  },
  {
   "cell_type": "code",
   "execution_count": 69,
   "id": "2b000a64",
   "metadata": {},
   "outputs": [],
   "source": [
    "df_latlong['LAT'] = df_latlong['LOCATION'].map(lambda x : x.strip().split(', ')[0].lstrip('('))\n",
    "df_latlong['LONG'] = df_latlong['LOCATION'].map(lambda x : x.strip().split(', ')[1].rstrip(')'))\n"
   ]
  },
  {
   "cell_type": "code",
   "execution_count": 70,
   "id": "31a54471",
   "metadata": {},
   "outputs": [
    {
     "data": {
      "image/png": "[encoded data removed]",
      "text/plain": [
       "<Figure size 432x288 with 1 Axes>"
      ]
     },
     "metadata": {
      "needs_background": "light"
     },
     "output_type": "display_data"
    }
   ],
   "source": [
    "plot(df_latlong['LONG'], df_latlong['LAT'], marker='o', color='blue', linestyle='None')\n",
    "xlabel('Longitude')\n",
    "ylabel('Latitude')\n",
    "title('Roads named Ventura Blvd')\n",
    "show()"
   ]
  },
  {
   "cell_type": "markdown",
   "id": "superb-seven",
   "metadata": {},
   "source": [
    "### Q18 [4 points] Plot the total number of rows for each month from 01/01/2000 to 01/01/2021."
   ]
  },
  {
   "cell_type": "code",
   "execution_count": 71,
   "id": "a58ba063",
   "metadata": {},
   "outputs": [
    {
     "data": {
      "text/plain": [
       "0       2014-03-13\n",
       "1       2013-07-17\n",
       "2       2017-01-18\n",
       "3       2010-03-01\n",
       "4       2017-01-01\n",
       "           ...    \n",
       "19995   2012-03-01\n",
       "19996   2011-12-10\n",
       "19997   1948-06-01\n",
       "19998   1991-02-01\n",
       "19999   2018-07-11\n",
       "Name: LOCATION START DATE, Length: 20000, dtype: datetime64[ns]"
      ]
     },
     "execution_count": 71,
     "metadata": {},
     "output_type": "execute_result"
    }
   ],
   "source": [
    "df['LOCATION START DATE']"
   ]
  },
  {
   "cell_type": "code",
   "execution_count": 72,
   "id": "proper-stuart",
   "metadata": {},
   "outputs": [],
   "source": [
    "df_date_fil = df[(df['LOCATION START DATE'] >= '2000-01-01') & (df['LOCATION START DATE'] <= '2021-01-01')  ].copy()"
   ]
  },
  {
   "cell_type": "code",
   "execution_count": 74,
   "id": "6c1e6571",
   "metadata": {},
   "outputs": [
    {
     "data": {
      "text/plain": [
       "<AxesSubplot:xlabel='LOCATION START DATE'>"
      ]
     },
     "execution_count": 74,
     "metadata": {},
     "output_type": "execute_result"
    },
    {
     "data": {
      "image/png": "[encoded data removed]",
      "text/plain": [
       "<Figure size 432x288 with 1 Axes>"
      ]
     },
     "metadata": {
      "needs_background": "light"
     },
     "output_type": "display_data"
    }
   ],
   "source": [
    "\n",
    "df_date_fil.set_index('LOCATION START DATE',inplace=True)\n",
    "df_date_fil['dummy']=1\n",
    "df_date_fil.resample('M',kind='Period')['dummy'].sum().plot()\n"
   ]
  },
  {
   "cell_type": "markdown",
   "id": "attended-graphics",
   "metadata": {},
   "source": [
    "---\n",
    "\n",
    "### Autism Classification\n",
    "\n",
    "We will consider a dataset where each row is an adult who may be autistic (Class/ASD is YES). We will only need the columns named A1_Score to A10_Score. These are scores achieved on answers to different questions measuring mental acuity. A score of 1 is a correct answer, while 0 is a wrong answer."
   ]
  },
  {
   "cell_type": "code",
   "execution_count": 75,
   "id": "attached-closure",
   "metadata": {},
   "outputs": [
    {
     "data": {
      "text/plain": [
       "A1_Score                         1\n",
       "A2_Score                         1\n",
       "A3_Score                         1\n",
       "A4_Score                         1\n",
       "A5_Score                         0\n",
       "A6_Score                         0\n",
       "A7_Score                         1\n",
       "A8_Score                         1\n",
       "A9_Score                         0\n",
       "A10_Score                        0\n",
       "age                             26\n",
       "gender                           f\n",
       "ethnicity           White-European\n",
       "jaundice                        no\n",
       "austim                          no\n",
       "country_of_res     'United States'\n",
       "used_app_before                 no\n",
       "result                           6\n",
       "age_desc             '18 and more'\n",
       "relation                      Self\n",
       "Class/ASD                       NO\n",
       "Name: 0, dtype: object"
      ]
     },
     "execution_count": 75,
     "metadata": {},
     "output_type": "execute_result"
    }
   ],
   "source": [
    "df = pd.read_csv('Autism-Adult-Data.arff', skiprows=25, header=None, \\\n",
    "                 names=['A1_Score', 'A2_Score', 'A3_Score', 'A4_Score', 'A5_Score', 'A6_Score',\n",
    "                        'A7_Score', 'A8_Score', 'A9_Score', 'A10_Score', 'age',\n",
    "                        'gender', 'ethnicity', 'jaundice', 'austim', 'country_of_res',\n",
    "                        'used_app_before', 'result', 'age_desc', 'relation', 'Class/ASD'])\n",
    "df.iloc[0]"
   ]
  },
  {
   "cell_type": "markdown",
   "id": "earned-norman",
   "metadata": {},
   "source": [
    "### Q19 [3 points] Create a target column which is 1 if Class/ASD is YES, and 0 otherwise.\n",
    "\n",
    "Print out the baseline accuracy on this dataset."
   ]
  },
  {
   "cell_type": "code",
   "execution_count": 76,
   "id": "female-wisdom",
   "metadata": {},
   "outputs": [],
   "source": [
    "df['Target'] = df['Class/ASD'].map(lambda x : 1 if x == 'YES' else 0)"
   ]
  },
  {
   "cell_type": "markdown",
   "id": "civil-pricing",
   "metadata": {},
   "source": [
    "### Q20 [6 points] Minimum number of questions\n",
    "\n",
    "Calculate the average cross-validation accuracy for predicting the target using 10 different classifiers. Each classifier is a Nearest Neighbors classifier with K=15 nearest neighbors (all other settings can be set to their defaults), but with different features.\n",
    "* Classifier 1 uses A1_Score\n",
    "* Classifier 2 uses A1_Score and A2_Score\n",
    "* Classifier 3 uses A1_Score, A2_Score, and A3_Score\n",
    "* ...\n",
    "* Classifier 10 uses A1_Score, A2_Score, ..., A10_Score\n",
    "\n",
    "None of the classifiers use any of the other available columns such as age/gender/etc.\n",
    "\n",
    "Find the maximum cross-validation accuracy among these 10 classifiers.\n",
    "Then find out which classifiers achieve a cross-validation accuracy that is at least 95% of this maximum.\n",
    "Among these, print out which classifier uses the fewest features."
   ]
  },
  {
   "cell_type": "code",
   "execution_count": 77,
   "id": "overhead-gather",
   "metadata": {},
   "outputs": [],
   "source": [
    "from sklearn.neighbors import KNeighborsClassifier\n",
    "from sklearn.metrics import accuracy_score, confusion_matrix\n",
    "from sklearn.model_selection import cross_val_score, cross_val_predict,KFold, train_test_split"
   ]
  },
  {
   "cell_type": "code",
   "execution_count": 78,
   "id": "f43d8556",
   "metadata": {},
   "outputs": [],
   "source": [
    "acc_df = pd.DataFrame(columns=['Accuracy','Num Features'])"
   ]
  },
  {
   "cell_type": "code",
   "execution_count": 79,
   "id": "612b6eb3",
   "metadata": {},
   "outputs": [],
   "source": [
    "for i in range(1,11):\n",
    "    \n",
    "    X = df.iloc[:,0:i]\n",
    "    Y = df['Target']\n",
    "    clf = KNeighborsClassifier(n_neighbors=15)\n",
    "    kf = cross_val_score(clf , X ,Y )\n",
    "    acc_df.loc[i-1,'Accuracy'] = kf.mean()\n",
    "    acc_df.loc[i-1,'Num Features'] = i"
   ]
  },
  {
   "cell_type": "code",
   "execution_count": 80,
   "id": "a9a19b6f",
   "metadata": {},
   "outputs": [
    {
     "data": {
      "text/html": [
       "<div>\n",
       "<style scoped>\n",
       "    .dataframe tbody tr th:only-of-type {\n",
       "        vertical-align: middle;\n",
       "    }\n",
       "\n",
       "    .dataframe tbody tr th {\n",
       "        vertical-align: top;\n",
       "    }\n",
       "\n",
       "    .dataframe thead th {\n",
       "        text-align: right;\n",
       "    }\n",
       "</style>\n",
       "<table border=\"1\" class=\"dataframe\">\n",
       "  <thead>\n",
       "    <tr style=\"text-align: right;\">\n",
       "      <th></th>\n",
       "      <th>Accuracy</th>\n",
       "      <th>Num Features</th>\n",
       "    </tr>\n",
       "  </thead>\n",
       "  <tbody>\n",
       "    <tr>\n",
       "      <th>0</th>\n",
       "      <td>0.657781</td>\n",
       "      <td>1</td>\n",
       "    </tr>\n",
       "    <tr>\n",
       "      <th>1</th>\n",
       "      <td>0.653516</td>\n",
       "      <td>2</td>\n",
       "    </tr>\n",
       "    <tr>\n",
       "      <th>2</th>\n",
       "      <td>0.779899</td>\n",
       "      <td>3</td>\n",
       "    </tr>\n",
       "    <tr>\n",
       "      <th>3</th>\n",
       "      <td>0.826697</td>\n",
       "      <td>4</td>\n",
       "    </tr>\n",
       "    <tr>\n",
       "      <th>4</th>\n",
       "      <td>0.894894</td>\n",
       "      <td>5</td>\n",
       "    </tr>\n",
       "    <tr>\n",
       "      <th>5</th>\n",
       "      <td>0.909037</td>\n",
       "      <td>6</td>\n",
       "    </tr>\n",
       "    <tr>\n",
       "      <th>6</th>\n",
       "      <td>0.93459</td>\n",
       "      <td>7</td>\n",
       "    </tr>\n",
       "    <tr>\n",
       "      <th>7</th>\n",
       "      <td>0.950233</td>\n",
       "      <td>8</td>\n",
       "    </tr>\n",
       "    <tr>\n",
       "      <th>8</th>\n",
       "      <td>0.964478</td>\n",
       "      <td>9</td>\n",
       "    </tr>\n",
       "    <tr>\n",
       "      <th>9</th>\n",
       "      <td>0.978693</td>\n",
       "      <td>10</td>\n",
       "    </tr>\n",
       "  </tbody>\n",
       "</table>\n",
       "</div>"
      ],
      "text/plain": [
       "   Accuracy Num Features\n",
       "0  0.657781            1\n",
       "1  0.653516            2\n",
       "2  0.779899            3\n",
       "3  0.826697            4\n",
       "4  0.894894            5\n",
       "5  0.909037            6\n",
       "6   0.93459            7\n",
       "7  0.950233            8\n",
       "8  0.964478            9\n",
       "9  0.978693           10"
      ]
     },
     "execution_count": 80,
     "metadata": {},
     "output_type": "execute_result"
    }
   ],
   "source": [
    "acc_df"
   ]
  },
  {
   "cell_type": "markdown",
   "id": "4069944a",
   "metadata": {},
   "source": [
    "Maximum accuracy for num features  = 10"
   ]
  },
  {
   "cell_type": "code",
   "execution_count": 81,
   "id": "40f297f2",
   "metadata": {},
   "outputs": [
    {
     "data": {
      "text/html": [
       "<div>\n",
       "<style scoped>\n",
       "    .dataframe tbody tr th:only-of-type {\n",
       "        vertical-align: middle;\n",
       "    }\n",
       "\n",
       "    .dataframe tbody tr th {\n",
       "        vertical-align: top;\n",
       "    }\n",
       "\n",
       "    .dataframe thead th {\n",
       "        text-align: right;\n",
       "    }\n",
       "</style>\n",
       "<table border=\"1\" class=\"dataframe\">\n",
       "  <thead>\n",
       "    <tr style=\"text-align: right;\">\n",
       "      <th></th>\n",
       "      <th>Accuracy</th>\n",
       "      <th>Num Features</th>\n",
       "    </tr>\n",
       "  </thead>\n",
       "  <tbody>\n",
       "    <tr>\n",
       "      <th>7</th>\n",
       "      <td>0.950233</td>\n",
       "      <td>8</td>\n",
       "    </tr>\n",
       "    <tr>\n",
       "      <th>8</th>\n",
       "      <td>0.964478</td>\n",
       "      <td>9</td>\n",
       "    </tr>\n",
       "    <tr>\n",
       "      <th>9</th>\n",
       "      <td>0.978693</td>\n",
       "      <td>10</td>\n",
       "    </tr>\n",
       "  </tbody>\n",
       "</table>\n",
       "</div>"
      ],
      "text/plain": [
       "   Accuracy Num Features\n",
       "7  0.950233            8\n",
       "8  0.964478            9\n",
       "9  0.978693           10"
      ]
     },
     "execution_count": 81,
     "metadata": {},
     "output_type": "execute_result"
    }
   ],
   "source": [
    "acc_df[acc_df['Accuracy'] > 0.95]"
   ]
  },
  {
   "cell_type": "markdown",
   "id": "8d3b607e",
   "metadata": {},
   "source": [
    "Classifiers with 8, 9, 10 give more than 95% accuracy"
   ]
  },
  {
   "cell_type": "markdown",
   "id": "2d1dc191",
   "metadata": {},
   "source": [
    "Classifier with fewest features is the one with A1-A8"
   ]
  },
  {
   "cell_type": "code",
   "execution_count": null,
   "id": "e7baa352",
   "metadata": {},
   "outputs": [],
   "source": []
  },
  {
   "cell_type": "code",
   "execution_count": null,
   "id": "e267572d",
   "metadata": {},
   "outputs": [],
   "source": []
  },
  {
   "cell_type": "code",
   "execution_count": null,
   "id": "87c2fc7e",
   "metadata": {},
   "outputs": [],
   "source": []
  },
  {
   "cell_type": "code",
   "execution_count": null,
   "id": "dedd0453",
   "metadata": {},
   "outputs": [],
   "source": []
  }
 ],
 "metadata": {
  "kernelspec": {
   "display_name": "Python 3",
   "language": "python",
   "name": "python3"
  },
  "language_info": {
   "codemirror_mode": {
    "name": "ipython",
    "version": 3
   },
   "file_extension": ".py",
   "mimetype": "text/x-python",
   "name": "python",
   "nbconvert_exporter": "python",
   "pygments_lexer": "ipython3",
   "version": "3.8.8"
  },
  "toc": {
   "base_numbering": 1,
   "nav_menu": {},
   "number_sections": true,
   "sideBar": true,
   "skip_h1_title": false,
   "title_cell": "Table of Contents",
   "title_sidebar": "Contents",
   "toc_cell": false,
   "toc_position": {},
   "toc_section_display": true,
   "toc_window_display": true
  },
  "varInspector": {
   "cols": {
    "lenName": 16,
    "lenType": 16,
    "lenVar": 40
   },
   "kernels_config": {
    "python": {
     "delete_cmd_postfix": "",
     "delete_cmd_prefix": "del ",
     "library": "var_list.py",
     "varRefreshCmd": "print(var_dic_list())"
    },
    "r": {
     "delete_cmd_postfix": ") ",
     "delete_cmd_prefix": "rm(",
     "library": "var_list.r",
     "varRefreshCmd": "cat(var_dic_list()) "
    }
   },
   "types_to_exclude": [
    "module",
    "function",
    "builtin_function_or_method",
    "instance",
    "_Feature"
   ],
   "window_display": false
  }
 },
 "nbformat": 4,
 "nbformat_minor": 5
}
