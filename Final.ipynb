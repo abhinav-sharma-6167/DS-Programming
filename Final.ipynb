{
 "cells": [
  {
   "cell_type": "code",
   "execution_count": 1,
   "metadata": {},
   "outputs": [
    {
     "name": "stdout",
     "output_type": "stream",
     "text": [
      "Populating the interactive namespace from numpy and matplotlib\n"
     ]
    }
   ],
   "source": [
    "from pandas import Series, DataFrame\n",
    "import pandas as pd\n",
    "%pylab inline"
   ]
  },
  {
   "cell_type": "markdown",
   "metadata": {},
   "source": [
    "---\n",
    "\n",
    "The exam has 20 questions.\n",
    "* Q1 is a conceptual question with 3 parts, each worth 3 points.\n",
    "* Q2-Q19 is about a dataset of drug overdoses.\n",
    "    * Q2 is worth 3 points\n",
    "    * Q3-Q15 are worth 4 points each\n",
    "    * Q16-Q18 are worth 6 points each\n",
    "    * Q19 is worth 8 points\n",
    "* Q20 is a classification question on a dataset of chess games.\n",
    "    * Part (a) is worth 7 points\n",
    "    * Part (b) is worth 3 points\n",
    "\n",
    "*Best of luck!*\n",
    "\n",
    "---"
   ]
  },
  {
   "cell_type": "markdown",
   "metadata": {},
   "source": [
    "![Figures](Figures.png)\n",
    "\n",
    "Consider the two datasets above, where the two colors correspond to two different classes. For the following questions, provide a short reason for your answers. You may use the points named in the figures (from A to P) for your explanations. If there are multiple possible choices for your answer, you can provide any one."
   ]
  },
  {
   "cell_type": "markdown",
   "metadata": {},
   "source": [
    "### [Q1(a) 3 points]\n",
    "Which dataset can I classify better using a depth-1 decision tree (which only allows one top-level split)?"
   ]
  },
  {
   "cell_type": "markdown",
   "metadata": {},
   "source": [
    "Both same"
   ]
  },
  {
   "cell_type": "markdown",
   "metadata": {},
   "source": [
    "### [Q1(b) 3 points]\n",
    "Which dataset can I classify better using a depth-2 decision tree?"
   ]
  },
  {
   "cell_type": "markdown",
   "metadata": {},
   "source": [
    "Dataset 1"
   ]
  },
  {
   "cell_type": "markdown",
   "metadata": {},
   "source": [
    "### [Q1(c) 3 points]\n",
    "Can any linear separator achieve better than 50% accuracy on Dataset 1? Why or why not?"
   ]
  },
  {
   "cell_type": "markdown",
   "metadata": {},
   "source": [
    "Not more than 50%, no linear line can cut the dataset1 without misclassifying more than or equal to 50% of data"
   ]
  },
  {
   "cell_type": "markdown",
   "metadata": {},
   "source": [
    "---\n",
    "\n",
    "We will consider a dataset (*overdoses.csv*) where each row represents one drug-related death in Connecticut. We will use the following fields:\n",
    "* Date, Age, Sex, and Race are self-explanatory\n",
    "* ResidenceCity and ResidenceCounty are the city and county where the deceased person lived.\n",
    "* DeathCity and DeathCounty are the city and county where the death was reported.\n",
    "* COD is a text string for the Cause Of Death\n",
    "* Location is the place where the person died. For example, it could be a Hospital.\n",
    "* LocationifOther is an extra string giving more details about the Location.\n",
    "* There are many columns for individual drugs. For example, under the column named \"Heroin\", we have a \"Y\" if the person had Heroin in their blood. If there was no Heroin in their blood, the value is missing.\n",
    "    * Sometimes the value may be something other than a \"Y\". When this happens, we will just think of it as missing.\n",
    "    * The \"Other\" column lists drug names instead of a \"Y\". We will ignore the \"Other\" column.\n",
    "* DeathCityGeo and ResidenceCityGeo give latitude and longitude coordinates for the death and residence cities\n",
    "\n",
    "### [Q2 3 points] Read in overdoses.csv\n",
    "\n",
    "Print the SECOND row."
   ]
  },
  {
   "cell_type": "code",
   "execution_count": 10,
   "metadata": {},
   "outputs": [
    {
     "data": {
      "text/plain": [
       "ID                                                 13-0102\n",
       "Date                                   2013-03-21 00:00:00\n",
       "DateType                                       DateofDeath\n",
       "Age                                                   48.0\n",
       "Sex                                                   Male\n",
       "Race                                                 Black\n",
       "ResidenceCity                                      NORWALK\n",
       "ResidenceCounty                                        NaN\n",
       "ResidenceState                                         NaN\n",
       "DeathCity                                          NORWALK\n",
       "DeathCounty                                      FAIRFIELD\n",
       "Location                                          Hospital\n",
       "LocationifOther                                        NaN\n",
       "DescriptionofInjury                                    NaN\n",
       "InjuryPlace                                            NaN\n",
       "InjuryCity                                             NaN\n",
       "InjuryCounty                                           NaN\n",
       "InjuryState                                            NaN\n",
       "COD                                   Cocaine Intoxication\n",
       "OtherSignifican                                        NaN\n",
       "Heroin                                                 NaN\n",
       "Cocaine                                                  Y\n",
       "Fentanyl                                               NaN\n",
       "FentanylAnalogue                                       NaN\n",
       "Oxycodone                                              NaN\n",
       "Oxymorphone                                            NaN\n",
       "Ethanol                                                NaN\n",
       "Hydrocodone                                            NaN\n",
       "Benzodiazepine                                         NaN\n",
       "Methadone                                              NaN\n",
       "Amphet                                                 NaN\n",
       "Tramad                                                 NaN\n",
       "Morphine_NotHeroin                                     NaN\n",
       "Hydromorphone                                          NaN\n",
       "Other                                                  NaN\n",
       "OpiateNOS                                              NaN\n",
       "AnyOpioid                                              NaN\n",
       "MannerofDeath                                     Accident\n",
       "DeathCityGeo           Norwalk, CT\\n(41.11805, -73.412906)\n",
       "ResidenceCityGeo       NORWALK, CT\\n(41.11805, -73.412906)\n",
       "InjuryCityGeo                  CT\\n(41.575155, -72.738288)\n",
       "Name: 1, dtype: object"
      ]
     },
     "execution_count": 10,
     "metadata": {},
     "output_type": "execute_result"
    }
   ],
   "source": [
    "over = pd.read_csv(\"overdoses.csv\" , parse_dates=['Date'])\n",
    "over.iloc[1]"
   ]
  },
  {
   "cell_type": "markdown",
   "metadata": {},
   "source": [
    "\n",
    "In some of the following questions, we will need to access the columns corresponding to various drugs.\n",
    "To make it easier, I have created a list called **drug_names** that you should use in your code. \n",
    "\n",
    "* You will need this in Q14, Q16, Q18, and Q19.\n",
    "\n",
    "**Make sure you run this code cell before proceeding**"
   ]
  },
  {
   "cell_type": "code",
   "execution_count": 11,
   "metadata": {},
   "outputs": [],
   "source": [
    "drug_names = ['Heroin', 'Cocaine', 'Fentanyl', 'FentanylAnalogue', 'Oxycodone', 'Oxymorphone',\n",
    "              'Ethanol', 'Hydrocodone', 'Benzodiazepine', 'Methadone', 'Amphet', 'Tramad',\n",
    "              'Morphine_NotHeroin', 'Hydromorphone', 'OpiateNOS', 'AnyOpioid']"
   ]
  },
  {
   "cell_type": "markdown",
   "metadata": {},
   "source": [
    "### [Q3 4 points] What is the ratio of Males to Females in this dataset?"
   ]
  },
  {
   "cell_type": "code",
   "execution_count": 16,
   "metadata": {},
   "outputs": [
    {
     "data": {
      "text/plain": [
       "0.7400431626446929"
      ]
     },
     "execution_count": 16,
     "metadata": {},
     "output_type": "execute_result"
    }
   ],
   "source": [
    "over.Sex.value_counts()[0]/(over.Sex.value_counts()[0] + over.Sex.value_counts()[1])"
   ]
  },
  {
   "cell_type": "markdown",
   "metadata": {},
   "source": [
    "### [Q4 4 points] How often is the DeathCity the same as the ResidenceCity?"
   ]
  },
  {
   "cell_type": "code",
   "execution_count": 17,
   "metadata": {},
   "outputs": [
    {
     "data": {
      "text/plain": [
       "5103"
      ]
     },
     "execution_count": 17,
     "metadata": {},
     "output_type": "execute_result"
    }
   ],
   "source": [
    "len(over['Age'])"
   ]
  },
  {
   "cell_type": "code",
   "execution_count": 19,
   "metadata": {},
   "outputs": [
    {
     "data": {
      "text/plain": [
       "3595"
      ]
     },
     "execution_count": 19,
     "metadata": {},
     "output_type": "execute_result"
    }
   ],
   "source": [
    "(over['DeathCity'] == over['ResidenceCity']).sum()"
   ]
  },
  {
   "cell_type": "markdown",
   "metadata": {},
   "source": [
    "### [Q5 4 points] How many rows are missing either the ResidenceCity or the DeathCity or both?"
   ]
  },
  {
   "cell_type": "code",
   "execution_count": 24,
   "metadata": {},
   "outputs": [
    {
     "data": {
      "text/plain": [
       "172"
      ]
     },
     "execution_count": 24,
     "metadata": {},
     "output_type": "execute_result"
    }
   ],
   "source": [
    "len(over['ResidenceCity']) - len(over[['ResidenceCity','DeathCity']].dropna(how='any')['ResidenceCity'])"
   ]
  },
  {
   "cell_type": "code",
   "execution_count": 29,
   "metadata": {},
   "outputs": [
    {
     "data": {
      "text/plain": [
       "172"
      ]
     },
     "execution_count": 29,
     "metadata": {},
     "output_type": "execute_result"
    }
   ],
   "source": [
    "(over['ResidenceCity'] + over['DeathCity']).isnull().sum()"
   ]
  },
  {
   "cell_type": "markdown",
   "metadata": {},
   "source": [
    "### [Q6 4 points] Cities per county\n",
    "\n",
    "Print out the number of unique DeathCity in each DeathCounty.\n",
    "* Sometimes either DeathCity or DeathCounty is missing. You should not count these missing rows.\n",
    "* You will find one obviously-wrong value for DeathCounty. Don't worry about it."
   ]
  },
  {
   "cell_type": "code",
   "execution_count": 30,
   "metadata": {},
   "outputs": [
    {
     "data": {
      "text/html": [
       "<div>\n",
       "<style scoped>\n",
       "    .dataframe tbody tr th:only-of-type {\n",
       "        vertical-align: middle;\n",
       "    }\n",
       "\n",
       "    .dataframe tbody tr th {\n",
       "        vertical-align: top;\n",
       "    }\n",
       "\n",
       "    .dataframe thead th {\n",
       "        text-align: right;\n",
       "    }\n",
       "</style>\n",
       "<table border=\"1\" class=\"dataframe\">\n",
       "  <thead>\n",
       "    <tr style=\"text-align: right;\">\n",
       "      <th></th>\n",
       "      <th>nunique</th>\n",
       "    </tr>\n",
       "    <tr>\n",
       "      <th>DeathCounty</th>\n",
       "      <th></th>\n",
       "    </tr>\n",
       "  </thead>\n",
       "  <tbody>\n",
       "    <tr>\n",
       "      <th>FAIRFIELD</th>\n",
       "      <td>25</td>\n",
       "    </tr>\n",
       "    <tr>\n",
       "      <th>HARTFORD</th>\n",
       "      <td>36</td>\n",
       "    </tr>\n",
       "    <tr>\n",
       "      <th>LITCHFIELD</th>\n",
       "      <td>30</td>\n",
       "    </tr>\n",
       "    <tr>\n",
       "      <th>MIDDLESEX</th>\n",
       "      <td>17</td>\n",
       "    </tr>\n",
       "    <tr>\n",
       "      <th>NEW HAVEN</th>\n",
       "      <td>29</td>\n",
       "    </tr>\n",
       "    <tr>\n",
       "      <th>NEW LONDON</th>\n",
       "      <td>33</td>\n",
       "    </tr>\n",
       "    <tr>\n",
       "      <th>TOLLAND</th>\n",
       "      <td>19</td>\n",
       "    </tr>\n",
       "    <tr>\n",
       "      <th>USA</th>\n",
       "      <td>1</td>\n",
       "    </tr>\n",
       "    <tr>\n",
       "      <th>WINDHAM</th>\n",
       "      <td>27</td>\n",
       "    </tr>\n",
       "  </tbody>\n",
       "</table>\n",
       "</div>"
      ],
      "text/plain": [
       "             nunique\n",
       "DeathCounty         \n",
       "FAIRFIELD         25\n",
       "HARTFORD          36\n",
       "LITCHFIELD        30\n",
       "MIDDLESEX         17\n",
       "NEW HAVEN         29\n",
       "NEW LONDON        33\n",
       "TOLLAND           19\n",
       "USA                1\n",
       "WINDHAM           27"
      ]
     },
     "execution_count": 30,
     "metadata": {},
     "output_type": "execute_result"
    }
   ],
   "source": [
    "over.groupby(['DeathCounty'])['DeathCity'].agg(['nunique'])"
   ]
  },
  {
   "cell_type": "code",
   "execution_count": 32,
   "metadata": {},
   "outputs": [
    {
     "data": {
      "text/html": [
       "<div>\n",
       "<style scoped>\n",
       "    .dataframe tbody tr th:only-of-type {\n",
       "        vertical-align: middle;\n",
       "    }\n",
       "\n",
       "    .dataframe tbody tr th {\n",
       "        vertical-align: top;\n",
       "    }\n",
       "\n",
       "    .dataframe thead th {\n",
       "        text-align: right;\n",
       "    }\n",
       "</style>\n",
       "<table border=\"1\" class=\"dataframe\">\n",
       "  <thead>\n",
       "    <tr style=\"text-align: right;\">\n",
       "      <th></th>\n",
       "      <th>count</th>\n",
       "    </tr>\n",
       "    <tr>\n",
       "      <th>DeathCounty</th>\n",
       "      <th></th>\n",
       "    </tr>\n",
       "  </thead>\n",
       "  <tbody>\n",
       "    <tr>\n",
       "      <th>FAIRFIELD</th>\n",
       "      <td>25</td>\n",
       "    </tr>\n",
       "    <tr>\n",
       "      <th>HARTFORD</th>\n",
       "      <td>36</td>\n",
       "    </tr>\n",
       "    <tr>\n",
       "      <th>LITCHFIELD</th>\n",
       "      <td>30</td>\n",
       "    </tr>\n",
       "    <tr>\n",
       "      <th>MIDDLESEX</th>\n",
       "      <td>17</td>\n",
       "    </tr>\n",
       "    <tr>\n",
       "      <th>NEW HAVEN</th>\n",
       "      <td>29</td>\n",
       "    </tr>\n",
       "    <tr>\n",
       "      <th>NEW LONDON</th>\n",
       "      <td>33</td>\n",
       "    </tr>\n",
       "    <tr>\n",
       "      <th>TOLLAND</th>\n",
       "      <td>19</td>\n",
       "    </tr>\n",
       "    <tr>\n",
       "      <th>USA</th>\n",
       "      <td>1</td>\n",
       "    </tr>\n",
       "    <tr>\n",
       "      <th>WINDHAM</th>\n",
       "      <td>27</td>\n",
       "    </tr>\n",
       "  </tbody>\n",
       "</table>\n",
       "</div>"
      ],
      "text/plain": [
       "             count\n",
       "DeathCounty       \n",
       "FAIRFIELD       25\n",
       "HARTFORD        36\n",
       "LITCHFIELD      30\n",
       "MIDDLESEX       17\n",
       "NEW HAVEN       29\n",
       "NEW LONDON      33\n",
       "TOLLAND         19\n",
       "USA              1\n",
       "WINDHAM         27"
      ]
     },
     "execution_count": 32,
     "metadata": {},
     "output_type": "execute_result"
    }
   ],
   "source": [
    "over[['DeathCounty','DeathCity']].dropna(subset = ['DeathCity','DeathCounty']).drop_duplicates().groupby(['DeathCounty'])['DeathCity'].agg(['count'])"
   ]
  },
  {
   "cell_type": "markdown",
   "metadata": {},
   "source": [
    "### [Q7 4 points] Drugs for age groups\n",
    "\n",
    "Split the deaths into 5 equal-sized groups based on Age.\n",
    "* Each group should have (roughly) the same number of people.\n",
    "\n",
    "Find the most common COD for each age group."
   ]
  },
  {
   "cell_type": "code",
   "execution_count": 38,
   "metadata": {},
   "outputs": [
    {
     "data": {
      "text/plain": [
       "(13.999, 30.0]    1137\n",
       "(46.0, 54.0]      1086\n",
       "(30.0, 38.0]      1016\n",
       "(38.0, 46.0]       947\n",
       "(54.0, 87.0]       915\n",
       "Name: Qcut, dtype: int64"
      ]
     },
     "execution_count": 38,
     "metadata": {},
     "output_type": "execute_result"
    }
   ],
   "source": [
    "over['Qcut'] = pd.qcut(over['Age'],5)\n",
    "over['Qcut'].value_counts()"
   ]
  },
  {
   "cell_type": "code",
   "execution_count": 49,
   "metadata": {},
   "outputs": [
    {
     "data": {
      "text/html": [
       "<div>\n",
       "<style scoped>\n",
       "    .dataframe tbody tr th:only-of-type {\n",
       "        vertical-align: middle;\n",
       "    }\n",
       "\n",
       "    .dataframe tbody tr th {\n",
       "        vertical-align: top;\n",
       "    }\n",
       "\n",
       "    .dataframe thead th {\n",
       "        text-align: right;\n",
       "    }\n",
       "</style>\n",
       "<table border=\"1\" class=\"dataframe\">\n",
       "  <thead>\n",
       "    <tr style=\"text-align: right;\">\n",
       "      <th></th>\n",
       "      <th>COD Mode</th>\n",
       "    </tr>\n",
       "    <tr>\n",
       "      <th>Qcut</th>\n",
       "      <th></th>\n",
       "    </tr>\n",
       "  </thead>\n",
       "  <tbody>\n",
       "    <tr>\n",
       "      <th>(13.999, 30.0]</th>\n",
       "      <td>Acute Fentanyl Intoxication</td>\n",
       "    </tr>\n",
       "    <tr>\n",
       "      <th>(30.0, 38.0]</th>\n",
       "      <td>Acute Fentanyl Intoxication</td>\n",
       "    </tr>\n",
       "    <tr>\n",
       "      <th>(38.0, 46.0]</th>\n",
       "      <td>Heroin Intoxication</td>\n",
       "    </tr>\n",
       "    <tr>\n",
       "      <th>(46.0, 54.0]</th>\n",
       "      <td>Multiple Drug Toxicity</td>\n",
       "    </tr>\n",
       "    <tr>\n",
       "      <th>(54.0, 87.0]</th>\n",
       "      <td>Multiple Drug Toxicity</td>\n",
       "    </tr>\n",
       "  </tbody>\n",
       "</table>\n",
       "</div>"
      ],
      "text/plain": [
       "                                   COD Mode\n",
       "Qcut                                       \n",
       "(13.999, 30.0]  Acute Fentanyl Intoxication\n",
       "(30.0, 38.0]    Acute Fentanyl Intoxication\n",
       "(38.0, 46.0]            Heroin Intoxication\n",
       "(46.0, 54.0]         Multiple Drug Toxicity\n",
       "(54.0, 87.0]         Multiple Drug Toxicity"
      ]
     },
     "execution_count": 49,
     "metadata": {},
     "output_type": "execute_result"
    }
   ],
   "source": [
    "over.groupby(['Qcut'])['COD'].agg(lambda x : x.value_counts().index[0]).to_frame(name = 'COD Mode')"
   ]
  },
  {
   "cell_type": "code",
   "execution_count": 58,
   "metadata": {},
   "outputs": [],
   "source": [
    "#over.groupby(['Qcut']).agg({'Age':['mean','count'], 'DeathCity' : ['nunique',lambda x:x.value_counts().index[0]]})"
   ]
  },
  {
   "cell_type": "markdown",
   "metadata": {},
   "source": [
    "### [Q8 4 points] Among deaths where the Location of death was a person's Residence, find the number of deaths in each ResidenceCity.\n",
    "\n",
    "Plot the number of such deaths in the top-10 Residence Cities."
   ]
  },
  {
   "cell_type": "code",
   "execution_count": 61,
   "metadata": {},
   "outputs": [
    {
     "data": {
      "text/plain": [
       "array([nan, 'Hospital', 'Residence', 'Other', 'Nursing Home',\n",
       "       'Convalescent Home', 'Hospice'], dtype=object)"
      ]
     },
     "execution_count": 61,
     "metadata": {},
     "output_type": "execute_result"
    }
   ],
   "source": [
    "over['Location'].unique()"
   ]
  },
  {
   "cell_type": "code",
   "execution_count": 76,
   "metadata": {},
   "outputs": [
    {
     "data": {
      "text/plain": [
       "<AxesSubplot:xlabel='ResidenceCity'>"
      ]
     },
     "execution_count": 76,
     "metadata": {},
     "output_type": "execute_result"
    },
    {
     "data": {
      "image/png": "[encoded data removed]",
      "text/plain": [
       "<Figure size 432x288 with 1 Axes>"
      ]
     },
     "metadata": {
      "needs_background": "light"
     },
     "output_type": "display_data"
    }
   ],
   "source": [
    "over[over['Location'] == 'Residence'].groupby(['ResidenceCity'])['ID'].agg(['count']).sort_values('count',ascending=False)[0:10].plot(kind='bar')"
   ]
  },
  {
   "cell_type": "markdown",
   "metadata": {},
   "source": [
    "### [Q9 4 points] For each Race, find the most common Sex among those who died."
   ]
  },
  {
   "cell_type": "code",
   "execution_count": 77,
   "metadata": {},
   "outputs": [
    {
     "data": {
      "text/html": [
       "<div>\n",
       "<style scoped>\n",
       "    .dataframe tbody tr th:only-of-type {\n",
       "        vertical-align: middle;\n",
       "    }\n",
       "\n",
       "    .dataframe tbody tr th {\n",
       "        vertical-align: top;\n",
       "    }\n",
       "\n",
       "    .dataframe thead th {\n",
       "        text-align: right;\n",
       "    }\n",
       "</style>\n",
       "<table border=\"1\" class=\"dataframe\">\n",
       "  <thead>\n",
       "    <tr style=\"text-align: right;\">\n",
       "      <th></th>\n",
       "      <th>Sex</th>\n",
       "    </tr>\n",
       "    <tr>\n",
       "      <th>Race</th>\n",
       "      <th></th>\n",
       "    </tr>\n",
       "  </thead>\n",
       "  <tbody>\n",
       "    <tr>\n",
       "      <th>Asian Indian</th>\n",
       "      <td>Male</td>\n",
       "    </tr>\n",
       "    <tr>\n",
       "      <th>Asian, Other</th>\n",
       "      <td>Male</td>\n",
       "    </tr>\n",
       "    <tr>\n",
       "      <th>Black</th>\n",
       "      <td>Male</td>\n",
       "    </tr>\n",
       "    <tr>\n",
       "      <th>Chinese</th>\n",
       "      <td>Male</td>\n",
       "    </tr>\n",
       "    <tr>\n",
       "      <th>Hawaiian</th>\n",
       "      <td>Male</td>\n",
       "    </tr>\n",
       "    <tr>\n",
       "      <th>Hispanic, Black</th>\n",
       "      <td>Male</td>\n",
       "    </tr>\n",
       "    <tr>\n",
       "      <th>Hispanic, White</th>\n",
       "      <td>Male</td>\n",
       "    </tr>\n",
       "    <tr>\n",
       "      <th>Native American, Other</th>\n",
       "      <td>Male</td>\n",
       "    </tr>\n",
       "    <tr>\n",
       "      <th>Other</th>\n",
       "      <td>Male</td>\n",
       "    </tr>\n",
       "    <tr>\n",
       "      <th>Unknown</th>\n",
       "      <td>Male</td>\n",
       "    </tr>\n",
       "    <tr>\n",
       "      <th>White</th>\n",
       "      <td>Male</td>\n",
       "    </tr>\n",
       "  </tbody>\n",
       "</table>\n",
       "</div>"
      ],
      "text/plain": [
       "                         Sex\n",
       "Race                        \n",
       "Asian Indian            Male\n",
       "Asian, Other            Male\n",
       "Black                   Male\n",
       "Chinese                 Male\n",
       "Hawaiian                Male\n",
       "Hispanic, Black         Male\n",
       "Hispanic, White         Male\n",
       "Native American, Other  Male\n",
       "Other                   Male\n",
       "Unknown                 Male\n",
       "White                   Male"
      ]
     },
     "execution_count": 77,
     "metadata": {},
     "output_type": "execute_result"
    }
   ],
   "source": [
    "over.groupby('Race')['Sex'].agg(lambda x : x.value_counts().index[0]).to_frame(name = 'Sex')"
   ]
  },
  {
   "cell_type": "markdown",
   "metadata": {},
   "source": [
    "### [Q10 4 points] Among the deaths where the COD is \"Cocaine Intoxication\", what fraction has a 'Y' under the Cocaine column?"
   ]
  },
  {
   "cell_type": "code",
   "execution_count": 81,
   "metadata": {},
   "outputs": [
    {
     "data": {
      "text/plain": [
       "Y    1520\n",
       "Name: Cocaine, dtype: int64"
      ]
     },
     "execution_count": 81,
     "metadata": {},
     "output_type": "execute_result"
    }
   ],
   "source": [
    "over['Cocaine'].value_counts()"
   ]
  },
  {
   "cell_type": "code",
   "execution_count": 89,
   "metadata": {},
   "outputs": [
    {
     "data": {
      "text/plain": [
       "1.0"
      ]
     },
     "execution_count": 89,
     "metadata": {},
     "output_type": "execute_result"
    }
   ],
   "source": [
    "len(over[(over['COD'] == \"Cocaine Intoxication\") & (over['Cocaine'] == 'Y')])/len(over[(over['COD'] == \"Cocaine Intoxication\")])"
   ]
  },
  {
   "cell_type": "markdown",
   "metadata": {},
   "source": [
    "### [Q11 4 points] Among deaths where Cocaine is detected but the COD does not mention 'Cocaine' or 'COCAINE', what is the most common COD?"
   ]
  },
  {
   "cell_type": "code",
   "execution_count": 95,
   "metadata": {},
   "outputs": [
    {
     "data": {
      "text/plain": [
       "'Acute Cocaine Intoxication'"
      ]
     },
     "execution_count": 95,
     "metadata": {},
     "output_type": "execute_result"
    }
   ],
   "source": [
    "over[(over['Cocaine'] == 'Y') & (over['COD'].str.lower() != 'cocaine')]['COD'].value_counts().index[0]"
   ]
  },
  {
   "cell_type": "markdown",
   "metadata": {},
   "source": [
    "### [Q12 4 points] Plot number of deaths by Race.\n",
    "\n",
    "Remove the \"Unknown\" Race from the plot."
   ]
  },
  {
   "cell_type": "code",
   "execution_count": 97,
   "metadata": {},
   "outputs": [
    {
     "data": {
      "text/plain": [
       "<AxesSubplot:>"
      ]
     },
     "execution_count": 97,
     "metadata": {},
     "output_type": "execute_result"
    },
    {
     "data": {
      "image/png": "[encoded data removed]",
      "text/plain": [
       "<Figure size 432x288 with 1 Axes>"
      ]
     },
     "metadata": {
      "needs_background": "light"
     },
     "output_type": "display_data"
    }
   ],
   "source": [
    "over[over['Race'] != 'Unknown']['Race'].value_counts().plot(kind = 'bar')\n"
   ]
  },
  {
   "cell_type": "markdown",
   "metadata": {},
   "source": [
    "### [Q13 4 points] LocationifOther data check\n",
    "\n",
    "The LocationifOther column is supposed to be used only if the Location column has the value \"Other\". Let us check this.\n",
    "\n",
    "Count the number of rows where LocationifOther is not missing, but Location is not Other."
   ]
  },
  {
   "cell_type": "code",
   "execution_count": 99,
   "metadata": {},
   "outputs": [
    {
     "data": {
      "text/plain": [
       "30"
      ]
     },
     "execution_count": 99,
     "metadata": {},
     "output_type": "execute_result"
    }
   ],
   "source": [
    "len(over[(over['Location'] != 'Other') & (over['LocationifOther'].notnull())])"
   ]
  },
  {
   "cell_type": "markdown",
   "metadata": {},
   "source": [
    "### [Q14 4 points] What drugs never co-occur with OpiateNOS?\n",
    "\n",
    "Two drugs co-occur if there is at least one death where both those drugs had a \"Y\" under their columns.\n",
    "You should consider all the drugs whose names are listed in **drug_names**."
   ]
  },
  {
   "cell_type": "code",
   "execution_count": 109,
   "metadata": {},
   "outputs": [
    {
     "data": {
      "text/plain": [
       "Heroin                 0\n",
       "Cocaine                9\n",
       "Fentanyl              15\n",
       "FentanylAnalogue       0\n",
       "Oxycodone             17\n",
       "Oxymorphone            1\n",
       "Ethanol               18\n",
       "Hydrocodone            4\n",
       "Benzodiazepine        32\n",
       "Methadone              5\n",
       "Amphet                 4\n",
       "Tramad                 4\n",
       "Morphine_NotHeroin    11\n",
       "Hydromorphone          0\n",
       "OpiateNOS             88\n",
       "AnyOpioid             72\n",
       "dtype: int64"
      ]
     },
     "execution_count": 109,
     "metadata": {},
     "output_type": "execute_result"
    }
   ],
   "source": [
    "(over[over['OpiateNOS'] == 'Y'][drug_names] == 'Y').sum()"
   ]
  },
  {
   "cell_type": "markdown",
   "metadata": {},
   "source": [
    "### [Q15 4 points] Create a column called DeathCityLatLong\n",
    "\n",
    "Extract the latitude and longitude from the DeathCityGeo column. For example,\n",
    "* If DeathCityGeo is \"Norwalk, CT\\n(41.11805, -73.412906)\", then the DeathCityLatLong column should have the value \"41.11805, -73.412906\"\n",
    "\n",
    "Print out the DeathCityGeo and DeathCityLatLong columns for the first 5 rows."
   ]
  },
  {
   "cell_type": "code",
   "execution_count": 116,
   "metadata": {},
   "outputs": [
    {
     "data": {
      "text/plain": [
       "0                  CT\\n(41.575155, -72.738288)\n",
       "1          Norwalk, CT\\n(41.11805, -73.412906)\n",
       "2         Danbury, CT\\n(41.393666, -73.451539)\n",
       "3       Greenwich, CT\\n(41.026526, -73.628549)\n",
       "4       Greenwich, CT\\n(41.026526, -73.628549)\n",
       "                         ...                  \n",
       "5098     CHESHIRE, CT\\n(41.498834, -72.901448)\n",
       "5099    New Haven, CT\\n(41.308252, -72.924161)\n",
       "5100      DANBURY, CT\\n(41.393666, -73.451539)\n",
       "5101       WINDSOR, CT\\n(41.852781, -72.64379)\n",
       "5102    WATERBURY, CT\\n(41.554261, -73.043069)\n",
       "Name: DeathCityGeo, Length: 5103, dtype: object"
      ]
     },
     "execution_count": 116,
     "metadata": {},
     "output_type": "execute_result"
    }
   ],
   "source": [
    "over['DeathCityGeo']"
   ]
  },
  {
   "cell_type": "code",
   "execution_count": 123,
   "metadata": {},
   "outputs": [
    {
     "data": {
      "text/html": [
       "<div>\n",
       "<style scoped>\n",
       "    .dataframe tbody tr th:only-of-type {\n",
       "        vertical-align: middle;\n",
       "    }\n",
       "\n",
       "    .dataframe tbody tr th {\n",
       "        vertical-align: top;\n",
       "    }\n",
       "\n",
       "    .dataframe thead th {\n",
       "        text-align: right;\n",
       "    }\n",
       "</style>\n",
       "<table border=\"1\" class=\"dataframe\">\n",
       "  <thead>\n",
       "    <tr style=\"text-align: right;\">\n",
       "      <th></th>\n",
       "      <th>DeathCityGeo</th>\n",
       "      <th>DeathCityLatLong</th>\n",
       "    </tr>\n",
       "  </thead>\n",
       "  <tbody>\n",
       "    <tr>\n",
       "      <th>0</th>\n",
       "      <td>CT\\n(41.575155, -72.738288)</td>\n",
       "      <td>41.575155, -72.738288</td>\n",
       "    </tr>\n",
       "    <tr>\n",
       "      <th>1</th>\n",
       "      <td>Norwalk, CT\\n(41.11805, -73.412906)</td>\n",
       "      <td>41.11805, -73.412906</td>\n",
       "    </tr>\n",
       "    <tr>\n",
       "      <th>2</th>\n",
       "      <td>Danbury, CT\\n(41.393666, -73.451539)</td>\n",
       "      <td>41.393666, -73.451539</td>\n",
       "    </tr>\n",
       "    <tr>\n",
       "      <th>3</th>\n",
       "      <td>Greenwich, CT\\n(41.026526, -73.628549)</td>\n",
       "      <td>41.026526, -73.628549</td>\n",
       "    </tr>\n",
       "    <tr>\n",
       "      <th>4</th>\n",
       "      <td>Greenwich, CT\\n(41.026526, -73.628549)</td>\n",
       "      <td>41.026526, -73.628549</td>\n",
       "    </tr>\n",
       "  </tbody>\n",
       "</table>\n",
       "</div>"
      ],
      "text/plain": [
       "                             DeathCityGeo       DeathCityLatLong\n",
       "0             CT\\n(41.575155, -72.738288)  41.575155, -72.738288\n",
       "1     Norwalk, CT\\n(41.11805, -73.412906)   41.11805, -73.412906\n",
       "2    Danbury, CT\\n(41.393666, -73.451539)  41.393666, -73.451539\n",
       "3  Greenwich, CT\\n(41.026526, -73.628549)  41.026526, -73.628549\n",
       "4  Greenwich, CT\\n(41.026526, -73.628549)  41.026526, -73.628549"
      ]
     },
     "execution_count": 123,
     "metadata": {},
     "output_type": "execute_result"
    }
   ],
   "source": [
    "over['DeathCityLatLong'] = over['DeathCityGeo'].str.replace(\"\\n\",\"\", regex=True).str.replace(\"\\(\",\"\", regex=True).str.replace(\"\\)\",\"\", regex=True)\n",
    "over['DeathCityLatLong'] = over['DeathCityLatLong'].str.extract(r'CT(.*)')\n",
    "over[['DeathCityGeo','DeathCityLatLong']][0:5]"
   ]
  },
  {
   "cell_type": "markdown",
   "metadata": {},
   "source": [
    "### [Q16 6 points] Data check\n",
    "\n",
    "* Find all deaths where the COD has two words, and the last word is Intoxication. Call these \"one-COD deaths\".\n",
    "    * For example, if COD is \"Cocaine Intoxication\", then it is a one-COD death.\n",
    "    * But if COD is \"Cocaine and Heroin Intoxication\", it is not a one-COD death.\n",
    "* For every one-COD death, figure out how many drug_names were found in the person's blood\n",
    "    * So if there was a \"Y\" under the columns \"Cocaine\" and \"AnyOpioid\", we count that as 2 drugs.\n",
    "* Find out how many \"one-COD deaths\" actually had two or more drug_names in the person's blood.\n",
    "\n",
    "**Note**: You may find that \"Heroin\" and \"AnyOpioid\" are both \"Y\", but the COD only says \"Heroin Intoxication\". We will count that as two drugs in the person's blood, even though Heroin is actually an Opioid and this is not really a data error."
   ]
  },
  {
   "cell_type": "code",
   "execution_count": 173,
   "metadata": {},
   "outputs": [],
   "source": [
    "over['Len COD'] = over['COD'].str.split().map(len)\n",
    "over_sub = over[over['Len COD'] == 2]\n",
    "\n",
    "mask1 = Series(over_sub['COD'].map(lambda x : x.split()[1]) == 'Intoxication')\n",
    "\n",
    "oneCODdeath = over_sub[mask1]"
   ]
  },
  {
   "cell_type": "code",
   "execution_count": 187,
   "metadata": {},
   "outputs": [],
   "source": [
    "oneCODdeath = oneCODdeath.assign(NumDrugs=(oneCODdeath[drug_names] == 'Y').apply('sum',axis=1))"
   ]
  },
  {
   "cell_type": "code",
   "execution_count": 194,
   "metadata": {},
   "outputs": [
    {
     "data": {
      "text/plain": [
       "40"
      ]
     },
     "execution_count": 194,
     "metadata": {},
     "output_type": "execute_result"
    }
   ],
   "source": [
    "len(oneCODdeath) - len(oneCODdeath[oneCODdeath['NumDrugs'] == 1])"
   ]
  },
  {
   "cell_type": "code",
   "execution_count": 193,
   "metadata": {},
   "outputs": [
    {
     "data": {
      "text/plain": [
       "210"
      ]
     },
     "execution_count": 193,
     "metadata": {},
     "output_type": "execute_result"
    }
   ],
   "source": [
    "len(oneCODdeath[oneCODdeath['NumDrugs'] == 1])"
   ]
  },
  {
   "cell_type": "markdown",
   "metadata": {},
   "source": [
    "### [ Q17 6 points] Plot the number of deaths every month.\n",
    "\n",
    "The x-axis should be the month, and the y-axis the number of deaths (i.e., rows) for that month."
   ]
  },
  {
   "cell_type": "code",
   "execution_count": 204,
   "metadata": {},
   "outputs": [],
   "source": [
    "over.set_index('Date',inplace=True)\n",
    "over.sort_index(inplace=True)"
   ]
  },
  {
   "cell_type": "code",
   "execution_count": 207,
   "metadata": {},
   "outputs": [
    {
     "data": {
      "text/plain": [
       "<AxesSubplot:xlabel='Date'>"
      ]
     },
     "execution_count": 207,
     "metadata": {},
     "output_type": "execute_result"
    },
    {
     "data": {
      "image/png": "[encoded data removed]",
      "text/plain": [
       "<Figure size 432x288 with 1 Axes>"
      ]
     },
     "metadata": {
      "needs_background": "light"
     },
     "output_type": "display_data"
    }
   ],
   "source": [
    "over.resample('M',kind='period')['ID'].count().plot()\n"
   ]
  },
  {
   "cell_type": "markdown",
   "metadata": {},
   "source": [
    "### [Q18 6 points] Drug Cocktails\n",
    "Look at deaths where COD mentions the word 'COMBINED'.\n",
    "Among these deaths, count how many drugs were involved by checking how many of the drug name columns had a 'Y'\n",
    "Show a bar plot where the x-axis is the number of drugs used, and the y-axis is the number of deaths caused by this drug cocktail."
   ]
  },
  {
   "cell_type": "code",
   "execution_count": 227,
   "metadata": {},
   "outputs": [],
   "source": [
    "over = over.assign(IsCombined = over['COD'].map(lambda x : 'COMBINED' in x.strip().split()))\n",
    "over_sub_cocktail = over[over['IsCombined']][drug_names] \n",
    "over_sub_cocktail = over_sub_cocktail.assign(Num_Cocktail = (over_sub_cocktail == 'Y').apply('sum',axis=1))"
   ]
  },
  {
   "cell_type": "code",
   "execution_count": 230,
   "metadata": {},
   "outputs": [
    {
     "data": {
      "text/plain": [
       "<AxesSubplot:>"
      ]
     },
     "execution_count": 230,
     "metadata": {},
     "output_type": "execute_result"
    },
    {
     "data": {
      "image/png": "[encoded data removed]",
      "text/plain": [
       "<Figure size 432x288 with 1 Axes>"
      ]
     },
     "metadata": {
      "needs_background": "light"
     },
     "output_type": "display_data"
    }
   ],
   "source": [
    "over_sub_cocktail['Num_Cocktail'].value_counts().sort_index().plot(kind= 'bar')"
   ]
  },
  {
   "cell_type": "markdown",
   "metadata": {},
   "source": [
    "### [Q19 8 points] Differences between races\n",
    "\n",
    "* For each DeathCity and Race, figure out how many people had a particular drug in their blood when they died. For example,\n",
    "    * among Whites in City A, there may be 50 deaths with Cocaine and 12 with Heroin.\n",
    "    * among Asians in City A, there may be 30 Heroin and 20 Cocaine deaths.\n",
    "    * among Hispanics in City A, there may be 19 Cocaine and 18 Heroin deaths.\n",
    "* Now, figure out the top drug which caused the most deaths for each DeathCity and Race. Only consider drugs that killed at least 20 people of that Race in that DeathCity; if there is no such drug, just act as if no one of that Race died in that DeathCity.\n",
    "    * among Whites in City A, Cocaine is the top drug.\n",
    "    * among Asians in City A, it is Heroin.\n",
    "    * among Hispanics in City A, no drug led to at least 20 deaths, so there is no top drug.\n",
    "* Now, print out the DeathCities for which the top drug is different for at least two Races.\n",
    "    * Since the top drugs in City A are Cocaine (Whites) and Heroin (Asians), print out City A.\n",
    "    * But if a City B had Cocaine (Whites) and Cocaine (Asians), don't print out City B.\n",
    "    * Or if a City C had Heroin (Asians) but no other race had enough deaths to have a top drug, don't print out City C."
   ]
  },
  {
   "cell_type": "code",
   "execution_count": 248,
   "metadata": {},
   "outputs": [
    {
     "data": {
      "text/html": [
       "<div>\n",
       "<style scoped>\n",
       "    .dataframe tbody tr th:only-of-type {\n",
       "        vertical-align: middle;\n",
       "    }\n",
       "\n",
       "    .dataframe tbody tr th {\n",
       "        vertical-align: top;\n",
       "    }\n",
       "\n",
       "    .dataframe thead th {\n",
       "        text-align: right;\n",
       "    }\n",
       "</style>\n",
       "<table border=\"1\" class=\"dataframe\">\n",
       "  <thead>\n",
       "    <tr style=\"text-align: right;\">\n",
       "      <th></th>\n",
       "      <th></th>\n",
       "      <th>Heroin</th>\n",
       "      <th>Cocaine</th>\n",
       "      <th>Fentanyl</th>\n",
       "      <th>FentanylAnalogue</th>\n",
       "      <th>Oxycodone</th>\n",
       "      <th>Oxymorphone</th>\n",
       "      <th>Ethanol</th>\n",
       "      <th>Hydrocodone</th>\n",
       "      <th>Benzodiazepine</th>\n",
       "      <th>Methadone</th>\n",
       "      <th>Amphet</th>\n",
       "      <th>Tramad</th>\n",
       "      <th>Morphine_NotHeroin</th>\n",
       "      <th>Hydromorphone</th>\n",
       "      <th>OpiateNOS</th>\n",
       "      <th>AnyOpioid</th>\n",
       "    </tr>\n",
       "    <tr>\n",
       "      <th>DeathCity</th>\n",
       "      <th>Race</th>\n",
       "      <th></th>\n",
       "      <th></th>\n",
       "      <th></th>\n",
       "      <th></th>\n",
       "      <th></th>\n",
       "      <th></th>\n",
       "      <th></th>\n",
       "      <th></th>\n",
       "      <th></th>\n",
       "      <th></th>\n",
       "      <th></th>\n",
       "      <th></th>\n",
       "      <th></th>\n",
       "      <th></th>\n",
       "      <th></th>\n",
       "      <th></th>\n",
       "    </tr>\n",
       "  </thead>\n",
       "  <tbody>\n",
       "    <tr>\n",
       "      <th>6340</th>\n",
       "      <th>White</th>\n",
       "      <td>0</td>\n",
       "      <td>1</td>\n",
       "      <td>1</td>\n",
       "      <td>0</td>\n",
       "      <td>0</td>\n",
       "      <td>0</td>\n",
       "      <td>1</td>\n",
       "      <td>0</td>\n",
       "      <td>0</td>\n",
       "      <td>0</td>\n",
       "      <td>0</td>\n",
       "      <td>0</td>\n",
       "      <td>0</td>\n",
       "      <td>0</td>\n",
       "      <td>0</td>\n",
       "      <td>0</td>\n",
       "    </tr>\n",
       "    <tr>\n",
       "      <th>AMSTON</th>\n",
       "      <th>White</th>\n",
       "      <td>1</td>\n",
       "      <td>0</td>\n",
       "      <td>1</td>\n",
       "      <td>0</td>\n",
       "      <td>0</td>\n",
       "      <td>0</td>\n",
       "      <td>0</td>\n",
       "      <td>0</td>\n",
       "      <td>0</td>\n",
       "      <td>0</td>\n",
       "      <td>0</td>\n",
       "      <td>0</td>\n",
       "      <td>0</td>\n",
       "      <td>0</td>\n",
       "      <td>0</td>\n",
       "      <td>1</td>\n",
       "    </tr>\n",
       "    <tr>\n",
       "      <th>ANDOVER</th>\n",
       "      <th>White</th>\n",
       "      <td>1</td>\n",
       "      <td>0</td>\n",
       "      <td>2</td>\n",
       "      <td>0</td>\n",
       "      <td>2</td>\n",
       "      <td>0</td>\n",
       "      <td>1</td>\n",
       "      <td>0</td>\n",
       "      <td>0</td>\n",
       "      <td>0</td>\n",
       "      <td>0</td>\n",
       "      <td>0</td>\n",
       "      <td>0</td>\n",
       "      <td>0</td>\n",
       "      <td>0</td>\n",
       "      <td>2</td>\n",
       "    </tr>\n",
       "    <tr>\n",
       "      <th rowspan=\"2\" valign=\"top\">ANSONIA</th>\n",
       "      <th>Black</th>\n",
       "      <td>1</td>\n",
       "      <td>0</td>\n",
       "      <td>0</td>\n",
       "      <td>0</td>\n",
       "      <td>0</td>\n",
       "      <td>0</td>\n",
       "      <td>1</td>\n",
       "      <td>0</td>\n",
       "      <td>0</td>\n",
       "      <td>1</td>\n",
       "      <td>0</td>\n",
       "      <td>0</td>\n",
       "      <td>0</td>\n",
       "      <td>0</td>\n",
       "      <td>0</td>\n",
       "      <td>0</td>\n",
       "    </tr>\n",
       "    <tr>\n",
       "      <th>Hispanic, White</th>\n",
       "      <td>0</td>\n",
       "      <td>0</td>\n",
       "      <td>1</td>\n",
       "      <td>0</td>\n",
       "      <td>0</td>\n",
       "      <td>0</td>\n",
       "      <td>1</td>\n",
       "      <td>0</td>\n",
       "      <td>0</td>\n",
       "      <td>0</td>\n",
       "      <td>0</td>\n",
       "      <td>0</td>\n",
       "      <td>0</td>\n",
       "      <td>0</td>\n",
       "      <td>0</td>\n",
       "      <td>1</td>\n",
       "    </tr>\n",
       "    <tr>\n",
       "      <th>...</th>\n",
       "      <th>...</th>\n",
       "      <td>...</td>\n",
       "      <td>...</td>\n",
       "      <td>...</td>\n",
       "      <td>...</td>\n",
       "      <td>...</td>\n",
       "      <td>...</td>\n",
       "      <td>...</td>\n",
       "      <td>...</td>\n",
       "      <td>...</td>\n",
       "      <td>...</td>\n",
       "      <td>...</td>\n",
       "      <td>...</td>\n",
       "      <td>...</td>\n",
       "      <td>...</td>\n",
       "      <td>...</td>\n",
       "      <td>...</td>\n",
       "    </tr>\n",
       "    <tr>\n",
       "      <th rowspan=\"2\" valign=\"top\">WOLCOTT</th>\n",
       "      <th>Hispanic, White</th>\n",
       "      <td>0</td>\n",
       "      <td>1</td>\n",
       "      <td>1</td>\n",
       "      <td>0</td>\n",
       "      <td>0</td>\n",
       "      <td>0</td>\n",
       "      <td>0</td>\n",
       "      <td>0</td>\n",
       "      <td>0</td>\n",
       "      <td>0</td>\n",
       "      <td>0</td>\n",
       "      <td>0</td>\n",
       "      <td>0</td>\n",
       "      <td>0</td>\n",
       "      <td>0</td>\n",
       "      <td>1</td>\n",
       "    </tr>\n",
       "    <tr>\n",
       "      <th>White</th>\n",
       "      <td>0</td>\n",
       "      <td>0</td>\n",
       "      <td>0</td>\n",
       "      <td>0</td>\n",
       "      <td>0</td>\n",
       "      <td>0</td>\n",
       "      <td>1</td>\n",
       "      <td>0</td>\n",
       "      <td>0</td>\n",
       "      <td>0</td>\n",
       "      <td>0</td>\n",
       "      <td>0</td>\n",
       "      <td>0</td>\n",
       "      <td>0</td>\n",
       "      <td>0</td>\n",
       "      <td>0</td>\n",
       "    </tr>\n",
       "    <tr>\n",
       "      <th>WOODBRIDGE</th>\n",
       "      <th>White</th>\n",
       "      <td>3</td>\n",
       "      <td>0</td>\n",
       "      <td>1</td>\n",
       "      <td>0</td>\n",
       "      <td>1</td>\n",
       "      <td>0</td>\n",
       "      <td>0</td>\n",
       "      <td>0</td>\n",
       "      <td>2</td>\n",
       "      <td>0</td>\n",
       "      <td>0</td>\n",
       "      <td>1</td>\n",
       "      <td>0</td>\n",
       "      <td>0</td>\n",
       "      <td>0</td>\n",
       "      <td>2</td>\n",
       "    </tr>\n",
       "    <tr>\n",
       "      <th>WOODBURY</th>\n",
       "      <th>White</th>\n",
       "      <td>2</td>\n",
       "      <td>0</td>\n",
       "      <td>0</td>\n",
       "      <td>0</td>\n",
       "      <td>0</td>\n",
       "      <td>0</td>\n",
       "      <td>2</td>\n",
       "      <td>0</td>\n",
       "      <td>1</td>\n",
       "      <td>0</td>\n",
       "      <td>0</td>\n",
       "      <td>0</td>\n",
       "      <td>0</td>\n",
       "      <td>0</td>\n",
       "      <td>0</td>\n",
       "      <td>0</td>\n",
       "    </tr>\n",
       "    <tr>\n",
       "      <th>WOODSTOCK</th>\n",
       "      <th>White</th>\n",
       "      <td>0</td>\n",
       "      <td>1</td>\n",
       "      <td>2</td>\n",
       "      <td>0</td>\n",
       "      <td>2</td>\n",
       "      <td>0</td>\n",
       "      <td>2</td>\n",
       "      <td>0</td>\n",
       "      <td>2</td>\n",
       "      <td>0</td>\n",
       "      <td>1</td>\n",
       "      <td>0</td>\n",
       "      <td>0</td>\n",
       "      <td>0</td>\n",
       "      <td>0</td>\n",
       "      <td>2</td>\n",
       "    </tr>\n",
       "  </tbody>\n",
       "</table>\n",
       "<p>387 rows × 16 columns</p>\n",
       "</div>"
      ],
      "text/plain": [
       "                            Heroin  Cocaine  Fentanyl  FentanylAnalogue  \\\n",
       "DeathCity  Race                                                           \n",
       "6340       White                 0        1         1                 0   \n",
       "AMSTON     White                 1        0         1                 0   \n",
       "ANDOVER    White                 1        0         2                 0   \n",
       "ANSONIA    Black                 1        0         0                 0   \n",
       "           Hispanic, White       0        0         1                 0   \n",
       "...                            ...      ...       ...               ...   \n",
       "WOLCOTT    Hispanic, White       0        1         1                 0   \n",
       "           White                 0        0         0                 0   \n",
       "WOODBRIDGE White                 3        0         1                 0   \n",
       "WOODBURY   White                 2        0         0                 0   \n",
       "WOODSTOCK  White                 0        1         2                 0   \n",
       "\n",
       "                            Oxycodone  Oxymorphone  Ethanol  Hydrocodone  \\\n",
       "DeathCity  Race                                                            \n",
       "6340       White                    0            0        1            0   \n",
       "AMSTON     White                    0            0        0            0   \n",
       "ANDOVER    White                    2            0        1            0   \n",
       "ANSONIA    Black                    0            0        1            0   \n",
       "           Hispanic, White          0            0        1            0   \n",
       "...                               ...          ...      ...          ...   \n",
       "WOLCOTT    Hispanic, White          0            0        0            0   \n",
       "           White                    0            0        1            0   \n",
       "WOODBRIDGE White                    1            0        0            0   \n",
       "WOODBURY   White                    0            0        2            0   \n",
       "WOODSTOCK  White                    2            0        2            0   \n",
       "\n",
       "                            Benzodiazepine  Methadone  Amphet  Tramad  \\\n",
       "DeathCity  Race                                                         \n",
       "6340       White                         0          0       0       0   \n",
       "AMSTON     White                         0          0       0       0   \n",
       "ANDOVER    White                         0          0       0       0   \n",
       "ANSONIA    Black                         0          1       0       0   \n",
       "           Hispanic, White               0          0       0       0   \n",
       "...                                    ...        ...     ...     ...   \n",
       "WOLCOTT    Hispanic, White               0          0       0       0   \n",
       "           White                         0          0       0       0   \n",
       "WOODBRIDGE White                         2          0       0       1   \n",
       "WOODBURY   White                         1          0       0       0   \n",
       "WOODSTOCK  White                         2          0       1       0   \n",
       "\n",
       "                            Morphine_NotHeroin  Hydromorphone  OpiateNOS  \\\n",
       "DeathCity  Race                                                            \n",
       "6340       White                             0              0          0   \n",
       "AMSTON     White                             0              0          0   \n",
       "ANDOVER    White                             0              0          0   \n",
       "ANSONIA    Black                             0              0          0   \n",
       "           Hispanic, White                   0              0          0   \n",
       "...                                        ...            ...        ...   \n",
       "WOLCOTT    Hispanic, White                   0              0          0   \n",
       "           White                             0              0          0   \n",
       "WOODBRIDGE White                             0              0          0   \n",
       "WOODBURY   White                             0              0          0   \n",
       "WOODSTOCK  White                             0              0          0   \n",
       "\n",
       "                            AnyOpioid  \n",
       "DeathCity  Race                        \n",
       "6340       White                    0  \n",
       "AMSTON     White                    1  \n",
       "ANDOVER    White                    2  \n",
       "ANSONIA    Black                    0  \n",
       "           Hispanic, White          1  \n",
       "...                               ...  \n",
       "WOLCOTT    Hispanic, White          1  \n",
       "           White                    0  \n",
       "WOODBRIDGE White                    2  \n",
       "WOODBURY   White                    0  \n",
       "WOODSTOCK  White                    2  \n",
       "\n",
       "[387 rows x 16 columns]"
      ]
     },
     "execution_count": 248,
     "metadata": {},
     "output_type": "execute_result"
    }
   ],
   "source": [
    "def Mortality(x):\n",
    "    return(x == 'Y').sum()\n",
    "\n",
    "over_summ = over.groupby(['DeathCity','Race'])[drug_names].agg(Mortality)\n",
    "over_summ"
   ]
  },
  {
   "cell_type": "code",
   "execution_count": 249,
   "metadata": {},
   "outputs": [],
   "source": [
    "over_summ = over_summ.assign(Max_Num = over_summ[drug_names].apply('max',axis=1))"
   ]
  },
  {
   "cell_type": "code",
   "execution_count": 250,
   "metadata": {},
   "outputs": [],
   "source": [
    "over_summ_filt = over_summ[over_summ['Max_Num'] >= 20]"
   ]
  },
  {
   "cell_type": "code",
   "execution_count": 253,
   "metadata": {},
   "outputs": [
    {
     "data": {
      "text/html": [
       "<div>\n",
       "<style scoped>\n",
       "    .dataframe tbody tr th:only-of-type {\n",
       "        vertical-align: middle;\n",
       "    }\n",
       "\n",
       "    .dataframe tbody tr th {\n",
       "        vertical-align: top;\n",
       "    }\n",
       "\n",
       "    .dataframe thead th {\n",
       "        text-align: right;\n",
       "    }\n",
       "</style>\n",
       "<table border=\"1\" class=\"dataframe\">\n",
       "  <thead>\n",
       "    <tr style=\"text-align: right;\">\n",
       "      <th></th>\n",
       "      <th></th>\n",
       "      <th>MostMortalityDrug</th>\n",
       "    </tr>\n",
       "    <tr>\n",
       "      <th>DeathCity</th>\n",
       "      <th>Race</th>\n",
       "      <th></th>\n",
       "    </tr>\n",
       "  </thead>\n",
       "  <tbody>\n",
       "    <tr>\n",
       "      <th rowspan=\"3\" valign=\"top\">BRIDGEPORT</th>\n",
       "      <th>Black</th>\n",
       "      <td>Cocaine</td>\n",
       "    </tr>\n",
       "    <tr>\n",
       "      <th>Hispanic, White</th>\n",
       "      <td>Heroin</td>\n",
       "    </tr>\n",
       "    <tr>\n",
       "      <th>White</th>\n",
       "      <td>Heroin</td>\n",
       "    </tr>\n",
       "    <tr>\n",
       "      <th>BRISTOL</th>\n",
       "      <th>White</th>\n",
       "      <td>AnyOpioid</td>\n",
       "    </tr>\n",
       "    <tr>\n",
       "      <th>DANBURY</th>\n",
       "      <th>White</th>\n",
       "      <td>Heroin</td>\n",
       "    </tr>\n",
       "    <tr>\n",
       "      <th>DERBY</th>\n",
       "      <th>White</th>\n",
       "      <td>AnyOpioid</td>\n",
       "    </tr>\n",
       "    <tr>\n",
       "      <th>EAST HARTFORD</th>\n",
       "      <th>White</th>\n",
       "      <td>Fentanyl</td>\n",
       "    </tr>\n",
       "    <tr>\n",
       "      <th>ENFIELD</th>\n",
       "      <th>White</th>\n",
       "      <td>Fentanyl</td>\n",
       "    </tr>\n",
       "    <tr>\n",
       "      <th>GROTON</th>\n",
       "      <th>White</th>\n",
       "      <td>Heroin</td>\n",
       "    </tr>\n",
       "    <tr>\n",
       "      <th rowspan=\"3\" valign=\"top\">HARTFORD</th>\n",
       "      <th>Black</th>\n",
       "      <td>Cocaine</td>\n",
       "    </tr>\n",
       "    <tr>\n",
       "      <th>Hispanic, White</th>\n",
       "      <td>Heroin</td>\n",
       "    </tr>\n",
       "    <tr>\n",
       "      <th>White</th>\n",
       "      <td>Heroin</td>\n",
       "    </tr>\n",
       "    <tr>\n",
       "      <th>MANCHESTER</th>\n",
       "      <th>White</th>\n",
       "      <td>AnyOpioid</td>\n",
       "    </tr>\n",
       "    <tr>\n",
       "      <th>MERIDEN</th>\n",
       "      <th>White</th>\n",
       "      <td>Heroin</td>\n",
       "    </tr>\n",
       "    <tr>\n",
       "      <th>MIDDLETOWN</th>\n",
       "      <th>White</th>\n",
       "      <td>Fentanyl</td>\n",
       "    </tr>\n",
       "    <tr>\n",
       "      <th>MILFORD</th>\n",
       "      <th>White</th>\n",
       "      <td>Heroin</td>\n",
       "    </tr>\n",
       "    <tr>\n",
       "      <th rowspan=\"2\" valign=\"top\">NEW BRITAIN</th>\n",
       "      <th>Hispanic, White</th>\n",
       "      <td>Fentanyl</td>\n",
       "    </tr>\n",
       "    <tr>\n",
       "      <th>White</th>\n",
       "      <td>AnyOpioid</td>\n",
       "    </tr>\n",
       "    <tr>\n",
       "      <th rowspan=\"3\" valign=\"top\">NEW HAVEN</th>\n",
       "      <th>Black</th>\n",
       "      <td>Cocaine</td>\n",
       "    </tr>\n",
       "    <tr>\n",
       "      <th>Hispanic, White</th>\n",
       "      <td>Heroin</td>\n",
       "    </tr>\n",
       "    <tr>\n",
       "      <th>White</th>\n",
       "      <td>Heroin</td>\n",
       "    </tr>\n",
       "    <tr>\n",
       "      <th>NEW LONDON</th>\n",
       "      <th>White</th>\n",
       "      <td>Heroin</td>\n",
       "    </tr>\n",
       "    <tr>\n",
       "      <th>NEW MILFORD</th>\n",
       "      <th>White</th>\n",
       "      <td>Heroin</td>\n",
       "    </tr>\n",
       "    <tr>\n",
       "      <th>NORWALK</th>\n",
       "      <th>White</th>\n",
       "      <td>Heroin</td>\n",
       "    </tr>\n",
       "    <tr>\n",
       "      <th>NORWICH</th>\n",
       "      <th>White</th>\n",
       "      <td>Heroin</td>\n",
       "    </tr>\n",
       "    <tr>\n",
       "      <th>SOUTHINGTON</th>\n",
       "      <th>White</th>\n",
       "      <td>Heroin</td>\n",
       "    </tr>\n",
       "    <tr>\n",
       "      <th>STAMFORD</th>\n",
       "      <th>White</th>\n",
       "      <td>Benzodiazepine</td>\n",
       "    </tr>\n",
       "    <tr>\n",
       "      <th>STRATFORD</th>\n",
       "      <th>White</th>\n",
       "      <td>AnyOpioid</td>\n",
       "    </tr>\n",
       "    <tr>\n",
       "      <th>TORRINGTON</th>\n",
       "      <th>White</th>\n",
       "      <td>Heroin</td>\n",
       "    </tr>\n",
       "    <tr>\n",
       "      <th>VERNON</th>\n",
       "      <th>White</th>\n",
       "      <td>Fentanyl</td>\n",
       "    </tr>\n",
       "    <tr>\n",
       "      <th rowspan=\"3\" valign=\"top\">WATERBURY</th>\n",
       "      <th>Black</th>\n",
       "      <td>Cocaine</td>\n",
       "    </tr>\n",
       "    <tr>\n",
       "      <th>Hispanic, White</th>\n",
       "      <td>Fentanyl</td>\n",
       "    </tr>\n",
       "    <tr>\n",
       "      <th>White</th>\n",
       "      <td>Heroin</td>\n",
       "    </tr>\n",
       "    <tr>\n",
       "      <th>WEST HAVEN</th>\n",
       "      <th>White</th>\n",
       "      <td>AnyOpioid</td>\n",
       "    </tr>\n",
       "  </tbody>\n",
       "</table>\n",
       "</div>"
      ],
      "text/plain": [
       "                              MostMortalityDrug\n",
       "DeathCity     Race                             \n",
       "BRIDGEPORT    Black                     Cocaine\n",
       "              Hispanic, White            Heroin\n",
       "              White                      Heroin\n",
       "BRISTOL       White                   AnyOpioid\n",
       "DANBURY       White                      Heroin\n",
       "DERBY         White                   AnyOpioid\n",
       "EAST HARTFORD White                    Fentanyl\n",
       "ENFIELD       White                    Fentanyl\n",
       "GROTON        White                      Heroin\n",
       "HARTFORD      Black                     Cocaine\n",
       "              Hispanic, White            Heroin\n",
       "              White                      Heroin\n",
       "MANCHESTER    White                   AnyOpioid\n",
       "MERIDEN       White                      Heroin\n",
       "MIDDLETOWN    White                    Fentanyl\n",
       "MILFORD       White                      Heroin\n",
       "NEW BRITAIN   Hispanic, White          Fentanyl\n",
       "              White                   AnyOpioid\n",
       "NEW HAVEN     Black                     Cocaine\n",
       "              Hispanic, White            Heroin\n",
       "              White                      Heroin\n",
       "NEW LONDON    White                      Heroin\n",
       "NEW MILFORD   White                      Heroin\n",
       "NORWALK       White                      Heroin\n",
       "NORWICH       White                      Heroin\n",
       "SOUTHINGTON   White                      Heroin\n",
       "STAMFORD      White              Benzodiazepine\n",
       "STRATFORD     White                   AnyOpioid\n",
       "TORRINGTON    White                      Heroin\n",
       "VERNON        White                    Fentanyl\n",
       "WATERBURY     Black                     Cocaine\n",
       "              Hispanic, White          Fentanyl\n",
       "              White                      Heroin\n",
       "WEST HAVEN    White                   AnyOpioid"
      ]
     },
     "execution_count": 253,
     "metadata": {},
     "output_type": "execute_result"
    }
   ],
   "source": [
    "over_summ_filt = over_summ_filt.assign(MostMortalityDrug = over_summ_filt[drug_names].apply('idxmax',axis=1))\n",
    "over_summ_filt['MostMortalityDrug'].to_frame()"
   ]
  },
  {
   "cell_type": "code",
   "execution_count": 271,
   "metadata": {},
   "outputs": [
    {
     "data": {
      "text/plain": [
       "White              164\n",
       "Hispanic, White     43\n",
       "Black               13\n",
       "Other                2\n",
       "Unknown              2\n",
       "Asian Indian         2\n",
       "Name: Race, dtype: int64"
      ]
     },
     "execution_count": 271,
     "metadata": {},
     "output_type": "execute_result"
    }
   ],
   "source": [
    "#over[over['DeathCity'] == 'NEW BRITAIN']['Race'].value_counts()"
   ]
  },
  {
   "cell_type": "code",
   "execution_count": 256,
   "metadata": {},
   "outputs": [],
   "source": [
    "over_summ_filt = over_summ_filt['MostMortalityDrug'].to_frame().reset_index()"
   ]
  },
  {
   "cell_type": "code",
   "execution_count": 264,
   "metadata": {},
   "outputs": [
    {
     "data": {
      "text/html": [
       "<div>\n",
       "<style scoped>\n",
       "    .dataframe tbody tr th:only-of-type {\n",
       "        vertical-align: middle;\n",
       "    }\n",
       "\n",
       "    .dataframe tbody tr th {\n",
       "        vertical-align: top;\n",
       "    }\n",
       "\n",
       "    .dataframe thead th {\n",
       "        text-align: right;\n",
       "    }\n",
       "</style>\n",
       "<table border=\"1\" class=\"dataframe\">\n",
       "  <thead>\n",
       "    <tr style=\"text-align: right;\">\n",
       "      <th></th>\n",
       "      <th>MostMortalityDrug</th>\n",
       "    </tr>\n",
       "    <tr>\n",
       "      <th>DeathCity</th>\n",
       "      <th></th>\n",
       "    </tr>\n",
       "  </thead>\n",
       "  <tbody>\n",
       "    <tr>\n",
       "      <th>BRIDGEPORT</th>\n",
       "      <td>2</td>\n",
       "    </tr>\n",
       "    <tr>\n",
       "      <th>HARTFORD</th>\n",
       "      <td>2</td>\n",
       "    </tr>\n",
       "    <tr>\n",
       "      <th>NEW BRITAIN</th>\n",
       "      <td>2</td>\n",
       "    </tr>\n",
       "    <tr>\n",
       "      <th>NEW HAVEN</th>\n",
       "      <td>2</td>\n",
       "    </tr>\n",
       "    <tr>\n",
       "      <th>WATERBURY</th>\n",
       "      <td>3</td>\n",
       "    </tr>\n",
       "  </tbody>\n",
       "</table>\n",
       "</div>"
      ],
      "text/plain": [
       "             MostMortalityDrug\n",
       "DeathCity                     \n",
       "BRIDGEPORT                   2\n",
       "HARTFORD                     2\n",
       "NEW BRITAIN                  2\n",
       "NEW HAVEN                    2\n",
       "WATERBURY                    3"
      ]
     },
     "execution_count": 264,
     "metadata": {},
     "output_type": "execute_result"
    }
   ],
   "source": [
    "over_summ_filt2 = over_summ_filt.groupby(['DeathCity'])['MostMortalityDrug'].agg('nunique').to_frame() \n",
    "over_summ_filt2[over_summ_filt2['MostMortalityDrug'] > 1]"
   ]
  },
  {
   "cell_type": "markdown",
   "metadata": {},
   "source": [
    "---\n",
    "\n",
    "We will try to predict chess games, using the file *games.csv*.\n",
    "\n",
    "### [Q20(a) 7 points] Train and test accuracies\n",
    "\n",
    "* Load in the games.csv file. \n",
    "* Split it into training and testing sets, where 80% of the data is used for training. \n",
    "* Use a logistic regression classifier to predict whether white will win or not.\n",
    "    * Check if the \"winner\" column is \"white\" or not.\n",
    "    * You should only use \"white_rating\", \"black_rating\" and \"opening_name\" as features. Don't use any other columns as features.\n",
    "* Print the training and test accuracies."
   ]
  },
  {
   "cell_type": "code",
   "execution_count": 311,
   "metadata": {},
   "outputs": [],
   "source": [
    "games = pd.read_csv('games.csv')\n",
    "from sklearn.model_selection import train_test_split\n",
    "from sklearn.linear_model import LogisticRegression\n",
    "\n",
    "games = games.assign(winner2 = (games['winner'] == 'white'))\n",
    "\n",
    "games2 = games.loc[:,~games.columns.isin(['turns','opening_ply','winner'])]\n",
    "\n",
    "games2 = pd.get_dummies(games2,drop_first=True , columns= ['opening_name'])\n",
    "\n",
    "train, test = train_test_split(games2,train_size=0.8)\n"
   ]
  },
  {
   "cell_type": "code",
   "execution_count": 312,
   "metadata": {},
   "outputs": [],
   "source": [
    "Y_train = train.loc[:,'winner2']\n",
    "Y_test = test.loc[:,'winner2']\n",
    "\n",
    "X_train = train.loc[:,~(train.columns.isin(['winner2']))]\n",
    "X_test = test.loc[:,~(test.columns.isin(['winner2']))]\n",
    "\n"
   ]
  },
  {
   "cell_type": "code",
   "execution_count": 313,
   "metadata": {},
   "outputs": [],
   "source": [
    "from sklearn.linear_model import LogisticRegression\n",
    "model = LogisticRegression()\n",
    "result = model.fit(X_train, Y_train)\n",
    "\n"
   ]
  },
  {
   "cell_type": "code",
   "execution_count": 315,
   "metadata": {},
   "outputs": [
    {
     "name": "stdout",
     "output_type": "stream",
     "text": [
      "0.6717562009223482\n"
     ]
    }
   ],
   "source": [
    "\n",
    "from sklearn import metrics\n",
    "\n",
    "prediction_train = model.predict(X_train)\n",
    "print(metrics.accuracy_score(Y_train, prediction_train))"
   ]
  },
  {
   "cell_type": "code",
   "execution_count": 316,
   "metadata": {},
   "outputs": [
    {
     "name": "stdout",
     "output_type": "stream",
     "text": [
      "0.6378364905284147\n"
     ]
    }
   ],
   "source": [
    "prediction = model.predict(X_test)\n",
    "print(metrics.accuracy_score(Y_test, prediction))"
   ]
  },
  {
   "cell_type": "markdown",
   "metadata": {},
   "source": [
    "### [Q20(b) 3 points] Probability of win\n",
    "\n",
    "Print the probability of white winning a game where the game has the following features:\n",
    "* white_rating is 2000\n",
    "* black_rating is 1500\n",
    "* All other features are exactly the same as in the first row of the games.csv file."
   ]
  },
  {
   "cell_type": "code",
   "execution_count": 335,
   "metadata": {},
   "outputs": [],
   "source": [
    "test_line = games2.iloc[0].to_frame().T\n",
    "\n",
    "\n",
    "test_line['white_rating'] = 2000\n",
    "test_line['black_rating'] = 1500"
   ]
  },
  {
   "cell_type": "code",
   "execution_count": 336,
   "metadata": {},
   "outputs": [
    {
     "data": {
      "text/html": [
       "<div>\n",
       "<style scoped>\n",
       "    .dataframe tbody tr th:only-of-type {\n",
       "        vertical-align: middle;\n",
       "    }\n",
       "\n",
       "    .dataframe tbody tr th {\n",
       "        vertical-align: top;\n",
       "    }\n",
       "\n",
       "    .dataframe thead th {\n",
       "        text-align: right;\n",
       "    }\n",
       "</style>\n",
       "<table border=\"1\" class=\"dataframe\">\n",
       "  <thead>\n",
       "    <tr style=\"text-align: right;\">\n",
       "      <th></th>\n",
       "      <th>white_rating</th>\n",
       "      <th>black_rating</th>\n",
       "      <th>winner2</th>\n",
       "      <th>opening_name_Alekhine Defense #2</th>\n",
       "      <th>opening_name_Alekhine Defense #3</th>\n",
       "      <th>opening_name_Alekhine Defense: Balogh Variation</th>\n",
       "      <th>opening_name_Alekhine Defense: Brooklyn Variation</th>\n",
       "      <th>opening_name_Alekhine Defense: Exchange Variation</th>\n",
       "      <th>opening_name_Alekhine Defense: Four Pawns Attack</th>\n",
       "      <th>opening_name_Alekhine Defense: Four Pawns Attack |  6...Nc6</th>\n",
       "      <th>...</th>\n",
       "      <th>opening_name_Zukertort Opening: Quiet System</th>\n",
       "      <th>opening_name_Zukertort Opening: Reversed Mexican Defense</th>\n",
       "      <th>opening_name_Zukertort Opening: Ross Gambit</th>\n",
       "      <th>opening_name_Zukertort Opening: Santasiere's Folly</th>\n",
       "      <th>opening_name_Zukertort Opening: Sicilian Invitation</th>\n",
       "      <th>opening_name_Zukertort Opening: Slav Invitation</th>\n",
       "      <th>opening_name_Zukertort Opening: Tennison Gambit</th>\n",
       "      <th>opening_name_Zukertort Opening: The Walrus</th>\n",
       "      <th>opening_name_Zukertort Opening: Vos Gambit</th>\n",
       "      <th>opening_name_Zukertort Opening: Wade Defense</th>\n",
       "    </tr>\n",
       "  </thead>\n",
       "  <tbody>\n",
       "    <tr>\n",
       "      <th>0</th>\n",
       "      <td>2000</td>\n",
       "      <td>1500</td>\n",
       "      <td>True</td>\n",
       "      <td>0</td>\n",
       "      <td>0</td>\n",
       "      <td>0</td>\n",
       "      <td>0</td>\n",
       "      <td>0</td>\n",
       "      <td>0</td>\n",
       "      <td>0</td>\n",
       "      <td>...</td>\n",
       "      <td>0</td>\n",
       "      <td>0</td>\n",
       "      <td>0</td>\n",
       "      <td>0</td>\n",
       "      <td>0</td>\n",
       "      <td>0</td>\n",
       "      <td>0</td>\n",
       "      <td>0</td>\n",
       "      <td>0</td>\n",
       "      <td>0</td>\n",
       "    </tr>\n",
       "  </tbody>\n",
       "</table>\n",
       "<p>1 rows × 1479 columns</p>\n",
       "</div>"
      ],
      "text/plain": [
       "   white_rating  black_rating winner2 opening_name_Alekhine Defense #2  \\\n",
       "0          2000          1500    True                                0   \n",
       "\n",
       "  opening_name_Alekhine Defense #3  \\\n",
       "0                                0   \n",
       "\n",
       "  opening_name_Alekhine Defense: Balogh Variation  \\\n",
       "0                                               0   \n",
       "\n",
       "  opening_name_Alekhine Defense: Brooklyn Variation  \\\n",
       "0                                                 0   \n",
       "\n",
       "  opening_name_Alekhine Defense: Exchange Variation  \\\n",
       "0                                                 0   \n",
       "\n",
       "  opening_name_Alekhine Defense: Four Pawns Attack  \\\n",
       "0                                                0   \n",
       "\n",
       "  opening_name_Alekhine Defense: Four Pawns Attack |  6...Nc6  ...  \\\n",
       "0                                                  0           ...   \n",
       "\n",
       "  opening_name_Zukertort Opening: Quiet System  \\\n",
       "0                                            0   \n",
       "\n",
       "  opening_name_Zukertort Opening: Reversed Mexican Defense  \\\n",
       "0                                                  0         \n",
       "\n",
       "  opening_name_Zukertort Opening: Ross Gambit  \\\n",
       "0                                           0   \n",
       "\n",
       "  opening_name_Zukertort Opening: Santasiere's Folly  \\\n",
       "0                                                  0   \n",
       "\n",
       "  opening_name_Zukertort Opening: Sicilian Invitation  \\\n",
       "0                                                  0    \n",
       "\n",
       "  opening_name_Zukertort Opening: Slav Invitation  \\\n",
       "0                                               0   \n",
       "\n",
       "  opening_name_Zukertort Opening: Tennison Gambit  \\\n",
       "0                                               0   \n",
       "\n",
       "  opening_name_Zukertort Opening: The Walrus  \\\n",
       "0                                          0   \n",
       "\n",
       "  opening_name_Zukertort Opening: Vos Gambit  \\\n",
       "0                                          0   \n",
       "\n",
       "  opening_name_Zukertort Opening: Wade Defense  \n",
       "0                                            0  \n",
       "\n",
       "[1 rows x 1479 columns]"
      ]
     },
     "execution_count": 336,
     "metadata": {},
     "output_type": "execute_result"
    }
   ],
   "source": [
    "test_line"
   ]
  },
  {
   "cell_type": "code",
   "execution_count": 348,
   "metadata": {},
   "outputs": [
    {
     "data": {
      "text/plain": [
       "0.8078819820472379"
      ]
     },
     "execution_count": 348,
     "metadata": {},
     "output_type": "execute_result"
    }
   ],
   "source": [
    "model.predict_proba(test_line.loc[:,~test_line.columns.isin(['winner2'])])[0][1]"
   ]
  }
 ],
 "metadata": {
  "kernelspec": {
   "display_name": "Python 3",
   "language": "python",
   "name": "python3"
  },
  "language_info": {
   "codemirror_mode": {
    "name": "ipython",
    "version": 3
   },
   "file_extension": ".py",
   "mimetype": "text/x-python",
   "name": "python",
   "nbconvert_exporter": "python",
   "pygments_lexer": "ipython3",
   "version": "3.8.8"
  },
  "toc": {
   "base_numbering": 1,
   "nav_menu": {},
   "number_sections": true,
   "sideBar": true,
   "skip_h1_title": false,
   "title_cell": "Table of Contents",
   "title_sidebar": "Contents",
   "toc_cell": false,
   "toc_position": {},
   "toc_section_display": true,
   "toc_window_display": false
  },
  "varInspector": {
   "cols": {
    "lenName": 16,
    "lenType": 16,
    "lenVar": 40
   },
   "kernels_config": {
    "python": {
     "delete_cmd_postfix": "",
     "delete_cmd_prefix": "del ",
     "library": "var_list.py",
     "varRefreshCmd": "print(var_dic_list())"
    },
    "r": {
     "delete_cmd_postfix": ") ",
     "delete_cmd_prefix": "rm(",
     "library": "var_list.r",
     "varRefreshCmd": "cat(var_dic_list()) "
    }
   },
   "types_to_exclude": [
    "module",
    "function",
    "builtin_function_or_method",
    "instance",
    "_Feature"
   ],
   "window_display": false
  }
 },
 "nbformat": 4,
 "nbformat_minor": 4
}
