{
 "cells": [
  {
   "cell_type": "code",
   "execution_count": 1,
   "id": "e26185c6",
   "metadata": {},
   "outputs": [
    {
     "name": "stdout",
     "output_type": "stream",
     "text": [
      "Populating the interactive namespace from numpy and matplotlib\n"
     ]
    }
   ],
   "source": [
    "import pandas as pd\n",
    "import numpy as np\n",
    "import seaborn as sns\n",
    "import warnings\n",
    "warnings.filterwarnings(\"ignore\")\n",
    "%pylab inline"
   ]
  },
  {
   "cell_type": "markdown",
   "id": "2ac4e09e",
   "metadata": {},
   "source": [
    "[Q1 10 points] Read in data"
   ]
  },
  {
   "cell_type": "code",
   "execution_count": 2,
   "id": "83ffa4da",
   "metadata": {},
   "outputs": [],
   "source": [
    "gold = pd.read_csv('gold.txt',sep=\"\\t\",header=None, names=[\"url\",\"category\"])\n",
    "labels = pd.read_table('labels.txt', sep=\"\\t\",header=None, names =['turk','url','category'])"
   ]
  },
  {
   "cell_type": "code",
   "execution_count": 3,
   "id": "a8117a2a",
   "metadata": {},
   "outputs": [
    {
     "data": {
      "text/plain": [
       "(1517, 2)"
      ]
     },
     "execution_count": 3,
     "metadata": {},
     "output_type": "execute_result"
    }
   ],
   "source": [
    "gold.shape"
   ]
  },
  {
   "cell_type": "code",
   "execution_count": 4,
   "id": "57947279",
   "metadata": {},
   "outputs": [
    {
     "data": {
      "text/plain": [
       "(1517, 1)"
      ]
     },
     "execution_count": 4,
     "metadata": {},
     "output_type": "execute_result"
    }
   ],
   "source": [
    "gold[['url']].drop_duplicates().shape"
   ]
  },
  {
   "cell_type": "code",
   "execution_count": 5,
   "id": "6c175001",
   "metadata": {},
   "outputs": [
    {
     "data": {
      "text/html": [
       "<div>\n",
       "<style scoped>\n",
       "    .dataframe tbody tr th:only-of-type {\n",
       "        vertical-align: middle;\n",
       "    }\n",
       "\n",
       "    .dataframe tbody tr th {\n",
       "        vertical-align: top;\n",
       "    }\n",
       "\n",
       "    .dataframe thead th {\n",
       "        text-align: right;\n",
       "    }\n",
       "</style>\n",
       "<table border=\"1\" class=\"dataframe\">\n",
       "  <thead>\n",
       "    <tr style=\"text-align: right;\">\n",
       "      <th></th>\n",
       "      <th>url</th>\n",
       "      <th>category</th>\n",
       "    </tr>\n",
       "  </thead>\n",
       "  <tbody>\n",
       "    <tr>\n",
       "      <th>0</th>\n",
       "      <td>http://0800-horoscope.com</td>\n",
       "      <td>G</td>\n",
       "    </tr>\n",
       "    <tr>\n",
       "      <th>1</th>\n",
       "      <td>http://18games.net</td>\n",
       "      <td>X</td>\n",
       "    </tr>\n",
       "    <tr>\n",
       "      <th>2</th>\n",
       "      <td>http://1pixelout.net</td>\n",
       "      <td>G</td>\n",
       "    </tr>\n",
       "    <tr>\n",
       "      <th>3</th>\n",
       "      <td>http://1porno.com/004/teens/index.html</td>\n",
       "      <td>X</td>\n",
       "    </tr>\n",
       "    <tr>\n",
       "      <th>4</th>\n",
       "      <td>http://1stpussy.com/005/16/index.html</td>\n",
       "      <td>X</td>\n",
       "    </tr>\n",
       "  </tbody>\n",
       "</table>\n",
       "</div>"
      ],
      "text/plain": [
       "                                      url category\n",
       "0               http://0800-horoscope.com        G\n",
       "1                      http://18games.net        X\n",
       "2                    http://1pixelout.net        G\n",
       "3  http://1porno.com/004/teens/index.html        X\n",
       "4   http://1stpussy.com/005/16/index.html        X"
      ]
     },
     "execution_count": 5,
     "metadata": {},
     "output_type": "execute_result"
    }
   ],
   "source": [
    "gold.iloc[:5]"
   ]
  },
  {
   "cell_type": "code",
   "execution_count": 6,
   "id": "f3e0bb1e",
   "metadata": {},
   "outputs": [
    {
     "data": {
      "text/plain": [
       "(92721, 3)"
      ]
     },
     "execution_count": 6,
     "metadata": {},
     "output_type": "execute_result"
    }
   ],
   "source": [
    "labels.shape"
   ]
  },
  {
   "cell_type": "code",
   "execution_count": 7,
   "id": "c1bea0b8",
   "metadata": {},
   "outputs": [
    {
     "data": {
      "text/html": [
       "<div>\n",
       "<style scoped>\n",
       "    .dataframe tbody tr th:only-of-type {\n",
       "        vertical-align: middle;\n",
       "    }\n",
       "\n",
       "    .dataframe tbody tr th {\n",
       "        vertical-align: top;\n",
       "    }\n",
       "\n",
       "    .dataframe thead th {\n",
       "        text-align: right;\n",
       "    }\n",
       "</style>\n",
       "<table border=\"1\" class=\"dataframe\">\n",
       "  <thead>\n",
       "    <tr style=\"text-align: right;\">\n",
       "      <th></th>\n",
       "      <th>turk</th>\n",
       "      <th>url</th>\n",
       "      <th>category</th>\n",
       "    </tr>\n",
       "  </thead>\n",
       "  <tbody>\n",
       "    <tr>\n",
       "      <th>0</th>\n",
       "      <td>A1OT3A29R9N1DG</td>\n",
       "      <td>http://000.cc</td>\n",
       "      <td>P</td>\n",
       "    </tr>\n",
       "    <tr>\n",
       "      <th>1</th>\n",
       "      <td>A1PXXEOGQ76RNJ</td>\n",
       "      <td>http://000.cc</td>\n",
       "      <td>G</td>\n",
       "    </tr>\n",
       "    <tr>\n",
       "      <th>2</th>\n",
       "      <td>A1PXXEOGQ76RNJ</td>\n",
       "      <td>http://000.cc</td>\n",
       "      <td>G</td>\n",
       "    </tr>\n",
       "    <tr>\n",
       "      <th>3</th>\n",
       "      <td>A21US576U8SCO4</td>\n",
       "      <td>http://000.cc</td>\n",
       "      <td>G</td>\n",
       "    </tr>\n",
       "    <tr>\n",
       "      <th>4</th>\n",
       "      <td>A2LGX47NN7C5D3</td>\n",
       "      <td>http://000.cc</td>\n",
       "      <td>G</td>\n",
       "    </tr>\n",
       "  </tbody>\n",
       "</table>\n",
       "</div>"
      ],
      "text/plain": [
       "             turk            url category\n",
       "0  A1OT3A29R9N1DG  http://000.cc        P\n",
       "1  A1PXXEOGQ76RNJ  http://000.cc        G\n",
       "2  A1PXXEOGQ76RNJ  http://000.cc        G\n",
       "3  A21US576U8SCO4  http://000.cc        G\n",
       "4  A2LGX47NN7C5D3  http://000.cc        G"
      ]
     },
     "execution_count": 7,
     "metadata": {},
     "output_type": "execute_result"
    }
   ],
   "source": [
    "labels.iloc[:5]"
   ]
  },
  {
   "cell_type": "markdown",
   "id": "c761ae2d",
   "metadata": {},
   "source": [
    "[Q2 10 points] Split into two DataFrames"
   ]
  },
  {
   "cell_type": "code",
   "execution_count": 8,
   "id": "9746dbe2",
   "metadata": {},
   "outputs": [
    {
     "data": {
      "text/plain": [
       "1517"
      ]
     },
     "execution_count": 8,
     "metadata": {},
     "output_type": "execute_result"
    }
   ],
   "source": [
    "gold['url'].nunique()"
   ]
  },
  {
   "cell_type": "code",
   "execution_count": 9,
   "id": "9e38d60d",
   "metadata": {},
   "outputs": [
    {
     "data": {
      "text/plain": [
       "11040"
      ]
     },
     "execution_count": 9,
     "metadata": {},
     "output_type": "execute_result"
    }
   ],
   "source": [
    "labels['url'].nunique()"
   ]
  },
  {
   "cell_type": "code",
   "execution_count": 10,
   "id": "d3159656",
   "metadata": {},
   "outputs": [],
   "source": [
    "url_in_gold_list = labels['url'][labels['url'].isin(gold['url'].unique())].unique()"
   ]
  },
  {
   "cell_type": "code",
   "execution_count": 11,
   "id": "a1b60eaa",
   "metadata": {},
   "outputs": [
    {
     "data": {
      "text/plain": [
       "333"
      ]
     },
     "execution_count": 11,
     "metadata": {},
     "output_type": "execute_result"
    }
   ],
   "source": [
    "len(url_in_gold_list)"
   ]
  },
  {
   "cell_type": "code",
   "execution_count": 12,
   "id": "d6277aa4",
   "metadata": {},
   "outputs": [
    {
     "data": {
      "text/plain": [
       "array(['http://0800-horoscope.com', 'http://18games.net',\n",
       "       'http://1pixelout.net', 'http://1porno.com/004/teens/index.html',\n",
       "       'http://1stpussy.com/005/16/index.html'], dtype=object)"
      ]
     },
     "execution_count": 12,
     "metadata": {},
     "output_type": "execute_result"
    }
   ],
   "source": [
    "url_in_gold_list[0:5]"
   ]
  },
  {
   "cell_type": "code",
   "execution_count": 13,
   "id": "7be06495",
   "metadata": {},
   "outputs": [],
   "source": [
    "labelongold = labels[labels['url'].isin(url_in_gold_list)]\n",
    "labelsunknown = labels[~labels['url'].isin(url_in_gold_list)]"
   ]
  },
  {
   "cell_type": "code",
   "execution_count": 14,
   "id": "562fb9eb",
   "metadata": {},
   "outputs": [
    {
     "data": {
      "text/plain": [
       "(3324, 3)"
      ]
     },
     "execution_count": 14,
     "metadata": {},
     "output_type": "execute_result"
    }
   ],
   "source": [
    "labelongold.shape"
   ]
  },
  {
   "cell_type": "code",
   "execution_count": 15,
   "id": "5e0222cd",
   "metadata": {},
   "outputs": [
    {
     "data": {
      "text/plain": [
       "(89397, 3)"
      ]
     },
     "execution_count": 15,
     "metadata": {},
     "output_type": "execute_result"
    }
   ],
   "source": [
    "labelsunknown.shape"
   ]
  },
  {
   "cell_type": "markdown",
   "id": "2d6a5472",
   "metadata": {},
   "source": [
    "[Q3 10 points] Compute accuracies of turks"
   ]
  },
  {
   "cell_type": "code",
   "execution_count": 16,
   "id": "4e7455f0",
   "metadata": {},
   "outputs": [
    {
     "data": {
      "text/plain": [
       "(92721, 4)"
      ]
     },
     "execution_count": 16,
     "metadata": {},
     "output_type": "execute_result"
    }
   ],
   "source": [
    "turks_merged = labels.merge(gold,how=\"left\",on = \"url\",suffixes=[\"_turks\",\"_gold\"])\n",
    "turks_merged.shape"
   ]
  },
  {
   "cell_type": "code",
   "execution_count": 17,
   "id": "35a92be7",
   "metadata": {},
   "outputs": [
    {
     "data": {
      "text/html": [
       "<div>\n",
       "<style scoped>\n",
       "    .dataframe tbody tr th:only-of-type {\n",
       "        vertical-align: middle;\n",
       "    }\n",
       "\n",
       "    .dataframe tbody tr th {\n",
       "        vertical-align: top;\n",
       "    }\n",
       "\n",
       "    .dataframe thead th {\n",
       "        text-align: right;\n",
       "    }\n",
       "</style>\n",
       "<table border=\"1\" class=\"dataframe\">\n",
       "  <thead>\n",
       "    <tr style=\"text-align: right;\">\n",
       "      <th></th>\n",
       "      <th>turk</th>\n",
       "      <th>url</th>\n",
       "      <th>category_turks</th>\n",
       "      <th>category_gold</th>\n",
       "    </tr>\n",
       "  </thead>\n",
       "  <tbody>\n",
       "    <tr>\n",
       "      <th>0</th>\n",
       "      <td>A1OT3A29R9N1DG</td>\n",
       "      <td>http://000.cc</td>\n",
       "      <td>P</td>\n",
       "      <td>NaN</td>\n",
       "    </tr>\n",
       "    <tr>\n",
       "      <th>1</th>\n",
       "      <td>A1PXXEOGQ76RNJ</td>\n",
       "      <td>http://000.cc</td>\n",
       "      <td>G</td>\n",
       "      <td>NaN</td>\n",
       "    </tr>\n",
       "    <tr>\n",
       "      <th>2</th>\n",
       "      <td>A1PXXEOGQ76RNJ</td>\n",
       "      <td>http://000.cc</td>\n",
       "      <td>G</td>\n",
       "      <td>NaN</td>\n",
       "    </tr>\n",
       "    <tr>\n",
       "      <th>3</th>\n",
       "      <td>A21US576U8SCO4</td>\n",
       "      <td>http://000.cc</td>\n",
       "      <td>G</td>\n",
       "      <td>NaN</td>\n",
       "    </tr>\n",
       "    <tr>\n",
       "      <th>4</th>\n",
       "      <td>A2LGX47NN7C5D3</td>\n",
       "      <td>http://000.cc</td>\n",
       "      <td>G</td>\n",
       "      <td>NaN</td>\n",
       "    </tr>\n",
       "  </tbody>\n",
       "</table>\n",
       "</div>"
      ],
      "text/plain": [
       "             turk            url category_turks category_gold\n",
       "0  A1OT3A29R9N1DG  http://000.cc              P           NaN\n",
       "1  A1PXXEOGQ76RNJ  http://000.cc              G           NaN\n",
       "2  A1PXXEOGQ76RNJ  http://000.cc              G           NaN\n",
       "3  A21US576U8SCO4  http://000.cc              G           NaN\n",
       "4  A2LGX47NN7C5D3  http://000.cc              G           NaN"
      ]
     },
     "execution_count": 17,
     "metadata": {},
     "output_type": "execute_result"
    }
   ],
   "source": [
    "turks_merged[0:5]"
   ]
  },
  {
   "cell_type": "code",
   "execution_count": 18,
   "id": "691e6516",
   "metadata": {},
   "outputs": [
    {
     "data": {
      "text/html": [
       "<div>\n",
       "<style scoped>\n",
       "    .dataframe tbody tr th:only-of-type {\n",
       "        vertical-align: middle;\n",
       "    }\n",
       "\n",
       "    .dataframe tbody tr th {\n",
       "        vertical-align: top;\n",
       "    }\n",
       "\n",
       "    .dataframe thead th {\n",
       "        text-align: right;\n",
       "    }\n",
       "</style>\n",
       "<table border=\"1\" class=\"dataframe\">\n",
       "  <thead>\n",
       "    <tr style=\"text-align: right;\">\n",
       "      <th></th>\n",
       "      <th>turk</th>\n",
       "      <th>url</th>\n",
       "      <th>category_turks</th>\n",
       "      <th>category_gold</th>\n",
       "    </tr>\n",
       "  </thead>\n",
       "  <tbody>\n",
       "    <tr>\n",
       "      <th>245</th>\n",
       "      <td>A1253FXHCZ9CWM</td>\n",
       "      <td>http://0800-horoscope.com</td>\n",
       "      <td>G</td>\n",
       "      <td>G</td>\n",
       "    </tr>\n",
       "    <tr>\n",
       "      <th>246</th>\n",
       "      <td>A153PKAL7OAY36</td>\n",
       "      <td>http://0800-horoscope.com</td>\n",
       "      <td>G</td>\n",
       "      <td>G</td>\n",
       "    </tr>\n",
       "    <tr>\n",
       "      <th>247</th>\n",
       "      <td>A1FV9SAPL5C6KY</td>\n",
       "      <td>http://0800-horoscope.com</td>\n",
       "      <td>G</td>\n",
       "      <td>G</td>\n",
       "    </tr>\n",
       "    <tr>\n",
       "      <th>248</th>\n",
       "      <td>A1JTOT0DWM6QGL</td>\n",
       "      <td>http://0800-horoscope.com</td>\n",
       "      <td>G</td>\n",
       "      <td>G</td>\n",
       "    </tr>\n",
       "    <tr>\n",
       "      <th>249</th>\n",
       "      <td>A1PXXEOGQ76RNJ</td>\n",
       "      <td>http://0800-horoscope.com</td>\n",
       "      <td>G</td>\n",
       "      <td>G</td>\n",
       "    </tr>\n",
       "  </tbody>\n",
       "</table>\n",
       "</div>"
      ],
      "text/plain": [
       "               turk                        url category_turks category_gold\n",
       "245  A1253FXHCZ9CWM  http://0800-horoscope.com              G             G\n",
       "246  A153PKAL7OAY36  http://0800-horoscope.com              G             G\n",
       "247  A1FV9SAPL5C6KY  http://0800-horoscope.com              G             G\n",
       "248  A1JTOT0DWM6QGL  http://0800-horoscope.com              G             G\n",
       "249  A1PXXEOGQ76RNJ  http://0800-horoscope.com              G             G"
      ]
     },
     "execution_count": 18,
     "metadata": {},
     "output_type": "execute_result"
    }
   ],
   "source": [
    "turks_merged_sub = turks_merged.dropna(subset = ['category_gold'])\n",
    "turks_merged_sub[0:5]"
   ]
  },
  {
   "cell_type": "code",
   "execution_count": 19,
   "id": "ca519ae0",
   "metadata": {},
   "outputs": [
    {
     "data": {
      "text/plain": [
       "(3324, 4)"
      ]
     },
     "execution_count": 19,
     "metadata": {},
     "output_type": "execute_result"
    }
   ],
   "source": [
    "turks_merged_sub.shape"
   ]
  },
  {
   "cell_type": "code",
   "execution_count": 20,
   "id": "d4c4a908",
   "metadata": {},
   "outputs": [],
   "source": [
    "turks_merged_sub.loc[:,'isMatch'] = (turks_merged_sub['category_turks']==turks_merged_sub['category_gold']).astype(int).copy()"
   ]
  },
  {
   "cell_type": "code",
   "execution_count": 21,
   "id": "85bdadad",
   "metadata": {},
   "outputs": [
    {
     "data": {
      "text/plain": [
       "2264"
      ]
     },
     "execution_count": 21,
     "metadata": {},
     "output_type": "execute_result"
    }
   ],
   "source": [
    "turks_merged_sub['isMatch'].sum()"
   ]
  },
  {
   "cell_type": "code",
   "execution_count": 22,
   "id": "6849dc8a",
   "metadata": {},
   "outputs": [
    {
     "data": {
      "text/html": [
       "<div>\n",
       "<style scoped>\n",
       "    .dataframe tbody tr th:only-of-type {\n",
       "        vertical-align: middle;\n",
       "    }\n",
       "\n",
       "    .dataframe tbody tr th {\n",
       "        vertical-align: top;\n",
       "    }\n",
       "\n",
       "    .dataframe thead th {\n",
       "        text-align: right;\n",
       "    }\n",
       "</style>\n",
       "<table border=\"1\" class=\"dataframe\">\n",
       "  <thead>\n",
       "    <tr style=\"text-align: right;\">\n",
       "      <th></th>\n",
       "      <th>count</th>\n",
       "      <th>mean</th>\n",
       "    </tr>\n",
       "    <tr>\n",
       "      <th>turk</th>\n",
       "      <th></th>\n",
       "      <th></th>\n",
       "    </tr>\n",
       "  </thead>\n",
       "  <tbody>\n",
       "    <tr>\n",
       "      <th>A112DVP1KG4QZU</th>\n",
       "      <td>1</td>\n",
       "      <td>1.00000</td>\n",
       "    </tr>\n",
       "    <tr>\n",
       "      <th>A1253FXHCZ9CWM</th>\n",
       "      <td>29</td>\n",
       "      <td>0.51724</td>\n",
       "    </tr>\n",
       "    <tr>\n",
       "      <th>A12CY1Q7XKJJDE</th>\n",
       "      <td>1</td>\n",
       "      <td>1.00000</td>\n",
       "    </tr>\n",
       "    <tr>\n",
       "      <th>A12RE8G66WTO8B</th>\n",
       "      <td>20</td>\n",
       "      <td>0.75000</td>\n",
       "    </tr>\n",
       "    <tr>\n",
       "      <th>A12Y1GTGIQDGRA</th>\n",
       "      <td>3</td>\n",
       "      <td>0.33333</td>\n",
       "    </tr>\n",
       "    <tr>\n",
       "      <th>...</th>\n",
       "      <td>...</td>\n",
       "      <td>...</td>\n",
       "    </tr>\n",
       "    <tr>\n",
       "      <th>AYWOBMTEGFVVI</th>\n",
       "      <td>1</td>\n",
       "      <td>0.00000</td>\n",
       "    </tr>\n",
       "    <tr>\n",
       "      <th>AZ1S5BIG5R6P6</th>\n",
       "      <td>35</td>\n",
       "      <td>0.71429</td>\n",
       "    </tr>\n",
       "    <tr>\n",
       "      <th>AZSDW7JJL5VA7</th>\n",
       "      <td>100</td>\n",
       "      <td>0.68000</td>\n",
       "    </tr>\n",
       "    <tr>\n",
       "      <th>AZVB3RZW0OR1H</th>\n",
       "      <td>3</td>\n",
       "      <td>0.66667</td>\n",
       "    </tr>\n",
       "    <tr>\n",
       "      <th>amurray</th>\n",
       "      <td>15</td>\n",
       "      <td>0.93333</td>\n",
       "    </tr>\n",
       "  </tbody>\n",
       "</table>\n",
       "<p>269 rows × 2 columns</p>\n",
       "</div>"
      ],
      "text/plain": [
       "                count     mean\n",
       "turk                          \n",
       "A112DVP1KG4QZU      1  1.00000\n",
       "A1253FXHCZ9CWM     29  0.51724\n",
       "A12CY1Q7XKJJDE      1  1.00000\n",
       "A12RE8G66WTO8B     20  0.75000\n",
       "A12Y1GTGIQDGRA      3  0.33333\n",
       "...               ...      ...\n",
       "AYWOBMTEGFVVI       1  0.00000\n",
       "AZ1S5BIG5R6P6      35  0.71429\n",
       "AZSDW7JJL5VA7     100  0.68000\n",
       "AZVB3RZW0OR1H       3  0.66667\n",
       "amurray            15  0.93333\n",
       "\n",
       "[269 rows x 2 columns]"
      ]
     },
     "execution_count": 22,
     "metadata": {},
     "output_type": "execute_result"
    }
   ],
   "source": [
    "rater_goodness = turks_merged_sub.groupby(['turk'])['isMatch'].agg(['count','mean']).round(5)\n",
    "rater_goodness"
   ]
  },
  {
   "cell_type": "markdown",
   "id": "281a42bd",
   "metadata": {},
   "source": [
    "[Q4 10 points] Odds ratios"
   ]
  },
  {
   "cell_type": "code",
   "execution_count": 23,
   "id": "772dd51c",
   "metadata": {},
   "outputs": [
    {
     "data": {
      "text/plain": [
       "(269, 2)"
      ]
     },
     "execution_count": 23,
     "metadata": {},
     "output_type": "execute_result"
    }
   ],
   "source": [
    "rater_goodness.shape"
   ]
  },
  {
   "cell_type": "code",
   "execution_count": 24,
   "id": "11fd14dc",
   "metadata": {},
   "outputs": [],
   "source": [
    "rater_goodness['odds'] = rater_goodness['mean'].map(lambda x : ((x)/(1.001 - x)))"
   ]
  },
  {
   "cell_type": "code",
   "execution_count": 25,
   "id": "6063d89c",
   "metadata": {},
   "outputs": [
    {
     "data": {
      "text/plain": [
       "<AxesSubplot:ylabel='Frequency'>"
      ]
     },
     "execution_count": 25,
     "metadata": {},
     "output_type": "execute_result"
    },
    {
     "data": {
      "image/png": "[encoded data removed]",
      "text/plain": [
       "<Figure size 432x288 with 1 Axes>"
      ]
     },
     "metadata": {
      "needs_background": "light"
     },
     "output_type": "display_data"
    }
   ],
   "source": [
    "rater_goodness['odds'].plot(kind='hist')"
   ]
  },
  {
   "cell_type": "markdown",
   "id": "bb09178f",
   "metadata": {},
   "source": [
    "[Q5 10 points] Most accurate turks"
   ]
  },
  {
   "cell_type": "code",
   "execution_count": 26,
   "id": "7d56da16",
   "metadata": {},
   "outputs": [
    {
     "data": {
      "text/html": [
       "<div>\n",
       "<style scoped>\n",
       "    .dataframe tbody tr th:only-of-type {\n",
       "        vertical-align: middle;\n",
       "    }\n",
       "\n",
       "    .dataframe tbody tr th {\n",
       "        vertical-align: top;\n",
       "    }\n",
       "\n",
       "    .dataframe thead th {\n",
       "        text-align: right;\n",
       "    }\n",
       "</style>\n",
       "<table border=\"1\" class=\"dataframe\">\n",
       "  <thead>\n",
       "    <tr style=\"text-align: right;\">\n",
       "      <th></th>\n",
       "      <th>count</th>\n",
       "      <th>mean</th>\n",
       "      <th>odds</th>\n",
       "    </tr>\n",
       "    <tr>\n",
       "      <th>turk</th>\n",
       "      <th></th>\n",
       "      <th></th>\n",
       "      <th></th>\n",
       "    </tr>\n",
       "  </thead>\n",
       "  <tbody>\n",
       "    <tr>\n",
       "      <th>A2U0R4X38GUKZE</th>\n",
       "      <td>20</td>\n",
       "      <td>0.95000</td>\n",
       "      <td>18.627451</td>\n",
       "    </tr>\n",
       "    <tr>\n",
       "      <th>A22C0PJUBFJTI0</th>\n",
       "      <td>36</td>\n",
       "      <td>0.91667</td>\n",
       "      <td>10.870034</td>\n",
       "    </tr>\n",
       "    <tr>\n",
       "      <th>A23YQUBXZPKILZ</th>\n",
       "      <td>24</td>\n",
       "      <td>0.87500</td>\n",
       "      <td>6.944444</td>\n",
       "    </tr>\n",
       "    <tr>\n",
       "      <th>ATVALOQVDCMZW</th>\n",
       "      <td>103</td>\n",
       "      <td>0.85437</td>\n",
       "      <td>5.826707</td>\n",
       "    </tr>\n",
       "    <tr>\n",
       "      <th>A1HIXWH4OXT8S4</th>\n",
       "      <td>40</td>\n",
       "      <td>0.82500</td>\n",
       "      <td>4.687500</td>\n",
       "    </tr>\n",
       "    <tr>\n",
       "      <th>A3220HG1O83HQ4</th>\n",
       "      <td>22</td>\n",
       "      <td>0.81818</td>\n",
       "      <td>4.475331</td>\n",
       "    </tr>\n",
       "    <tr>\n",
       "      <th>A32W20KGQXS0LL</th>\n",
       "      <td>25</td>\n",
       "      <td>0.80000</td>\n",
       "      <td>3.980100</td>\n",
       "    </tr>\n",
       "    <tr>\n",
       "      <th>A20PWAB7G3HDHU</th>\n",
       "      <td>20</td>\n",
       "      <td>0.80000</td>\n",
       "      <td>3.980100</td>\n",
       "    </tr>\n",
       "    <tr>\n",
       "      <th>AJSJVK40F5HM6</th>\n",
       "      <td>28</td>\n",
       "      <td>0.78571</td>\n",
       "      <td>3.649542</td>\n",
       "    </tr>\n",
       "    <tr>\n",
       "      <th>A31OCN4MNHUQ6W</th>\n",
       "      <td>184</td>\n",
       "      <td>0.77717</td>\n",
       "      <td>3.472144</td>\n",
       "    </tr>\n",
       "  </tbody>\n",
       "</table>\n",
       "</div>"
      ],
      "text/plain": [
       "                count     mean       odds\n",
       "turk                                     \n",
       "A2U0R4X38GUKZE     20  0.95000  18.627451\n",
       "A22C0PJUBFJTI0     36  0.91667  10.870034\n",
       "A23YQUBXZPKILZ     24  0.87500   6.944444\n",
       "ATVALOQVDCMZW     103  0.85437   5.826707\n",
       "A1HIXWH4OXT8S4     40  0.82500   4.687500\n",
       "A3220HG1O83HQ4     22  0.81818   4.475331\n",
       "A32W20KGQXS0LL     25  0.80000   3.980100\n",
       "A20PWAB7G3HDHU     20  0.80000   3.980100\n",
       "AJSJVK40F5HM6      28  0.78571   3.649542\n",
       "A31OCN4MNHUQ6W    184  0.77717   3.472144"
      ]
     },
     "execution_count": 26,
     "metadata": {},
     "output_type": "execute_result"
    }
   ],
   "source": [
    "rater_goodness[rater_goodness['count'] >= 20].sort_values('odds',ascending = False)[0:10]"
   ]
  },
  {
   "cell_type": "code",
   "execution_count": 27,
   "id": "a4890357",
   "metadata": {},
   "outputs": [
    {
     "data": {
      "text/plain": [
       "array(['A2U0R4X38GUKZE', 'A22C0PJUBFJTI0', 'A23YQUBXZPKILZ',\n",
       "       'ATVALOQVDCMZW', 'A1HIXWH4OXT8S4', 'A3220HG1O83HQ4',\n",
       "       'A32W20KGQXS0LL', 'A20PWAB7G3HDHU', 'AJSJVK40F5HM6',\n",
       "       'A31OCN4MNHUQ6W'], dtype=object)"
      ]
     },
     "execution_count": 27,
     "metadata": {},
     "output_type": "execute_result"
    }
   ],
   "source": [
    "rater_goodness[rater_goodness['count'] >= 20].sort_values('odds',ascending = False)[0:10].index.values"
   ]
  },
  {
   "cell_type": "markdown",
   "id": "46145736",
   "metadata": {},
   "source": [
    "[Q6 10 points] Rating counts versus accuracy"
   ]
  },
  {
   "cell_type": "code",
   "execution_count": 28,
   "id": "b3c154f2",
   "metadata": {},
   "outputs": [
    {
     "data": {
      "text/plain": [
       "<matplotlib.collections.PathCollection at 0x7fb893821ee0>"
      ]
     },
     "execution_count": 28,
     "metadata": {},
     "output_type": "execute_result"
    },
    {
     "data": {
      "image/png": "[encoded data removed]",
      "text/plain": [
       "<Figure size 432x288 with 1 Axes>"
      ]
     },
     "metadata": {
      "needs_background": "light"
     },
     "output_type": "display_data"
    }
   ],
   "source": [
    "#Outlier removal\n",
    "rater_goodness_sub = rater_goodness[rater_goodness['count'] >=20 ].sort_values('odds',ascending = False)\n",
    "scatter(rater_goodness_sub['count'] , rater_goodness_sub['odds'] , marker='o')"
   ]
  },
  {
   "cell_type": "code",
   "execution_count": 29,
   "id": "2c5fb3af",
   "metadata": {},
   "outputs": [
    {
     "name": "stdout",
     "output_type": "stream",
     "text": [
      "Upon removing outliers with low number of counts (less than 20) that give out highly volatile odds, we see a very small negative correlation between number of questions and odds.\n"
     ]
    },
    {
     "data": {
      "image/png": "[encoded data removed]",
      "text/plain": [
       "<Figure size 432x288 with 1 Axes>"
      ]
     },
     "metadata": {
      "needs_background": "light"
     },
     "output_type": "display_data"
    }
   ],
   "source": [
    "sns.regplot(x=\"count\",\n",
    "            y=\"odds\", \n",
    "            data=rater_goodness_sub)\n",
    "\n",
    "print(\"Upon removing outliers with low number of counts (less than 20) that give out highly volatile odds, we see a very small negative correlation between number of questions and odds.\")"
   ]
  },
  {
   "cell_type": "code",
   "execution_count": 30,
   "id": "e010120e",
   "metadata": {},
   "outputs": [
    {
     "name": "stdout",
     "output_type": "stream",
     "text": [
      "In case you keep low values of n counts in your data and only remove outliers based on say odds > 500 or so, you can avail a positive correlation but it's not trustworthy due to higher volatility of odds for low values of count\n"
     ]
    }
   ],
   "source": [
    "print(\"In case you keep low values of n counts in your data and only remove outliers based on say odds > 500 or so, you can avail a positive correlation but it's not trustworthy due to higher volatility of odds for low values of count\")"
   ]
  },
  {
   "cell_type": "markdown",
   "id": "bf262af2",
   "metadata": {},
   "source": [
    "[Q7 13 points] Overall predicted odds"
   ]
  },
  {
   "cell_type": "markdown",
   "id": "645052a4",
   "metadata": {},
   "source": [
    "Consider each urluthat isnotin the gold set, and each categoryc.  For thepair (u, c), calculate the product of odds of all turks who (a) rated urluascategoryc, and (b) have rated more gold set urls than 75% of all turks whorated at least one gold-set url.For example, if you find that there are 269 turks who rated at least onegold-set url, you want to select only the turks who have rated more gold-seturls than 75% of these 269 turks.  We can think of these as our “reliable”turks.  Now, our belief that urlubelongs to categorycdepends on how many“reliable” turks rateduasc; specifically, our belief is based on the productof their reliability scores (i.e., their odds).We shall call such products of odds theoverall oddshenceforth."
   ]
  },
  {
   "cell_type": "code",
   "execution_count": 38,
   "id": "a1e36cbf",
   "metadata": {},
   "outputs": [
    {
     "data": {
      "text/html": [
       "<div>\n",
       "<style scoped>\n",
       "    .dataframe tbody tr th:only-of-type {\n",
       "        vertical-align: middle;\n",
       "    }\n",
       "\n",
       "    .dataframe tbody tr th {\n",
       "        vertical-align: top;\n",
       "    }\n",
       "\n",
       "    .dataframe thead th {\n",
       "        text-align: right;\n",
       "    }\n",
       "</style>\n",
       "<table border=\"1\" class=\"dataframe\">\n",
       "  <thead>\n",
       "    <tr style=\"text-align: right;\">\n",
       "      <th></th>\n",
       "      <th>turk</th>\n",
       "      <th>url</th>\n",
       "      <th>category</th>\n",
       "    </tr>\n",
       "  </thead>\n",
       "  <tbody>\n",
       "    <tr>\n",
       "      <th>0</th>\n",
       "      <td>A1OT3A29R9N1DG</td>\n",
       "      <td>http://000.cc</td>\n",
       "      <td>P</td>\n",
       "    </tr>\n",
       "    <tr>\n",
       "      <th>1</th>\n",
       "      <td>A1PXXEOGQ76RNJ</td>\n",
       "      <td>http://000.cc</td>\n",
       "      <td>G</td>\n",
       "    </tr>\n",
       "    <tr>\n",
       "      <th>2</th>\n",
       "      <td>A1PXXEOGQ76RNJ</td>\n",
       "      <td>http://000.cc</td>\n",
       "      <td>G</td>\n",
       "    </tr>\n",
       "    <tr>\n",
       "      <th>3</th>\n",
       "      <td>A21US576U8SCO4</td>\n",
       "      <td>http://000.cc</td>\n",
       "      <td>G</td>\n",
       "    </tr>\n",
       "    <tr>\n",
       "      <th>4</th>\n",
       "      <td>A2LGX47NN7C5D3</td>\n",
       "      <td>http://000.cc</td>\n",
       "      <td>G</td>\n",
       "    </tr>\n",
       "  </tbody>\n",
       "</table>\n",
       "</div>"
      ],
      "text/plain": [
       "             turk            url category\n",
       "0  A1OT3A29R9N1DG  http://000.cc        P\n",
       "1  A1PXXEOGQ76RNJ  http://000.cc        G\n",
       "2  A1PXXEOGQ76RNJ  http://000.cc        G\n",
       "3  A21US576U8SCO4  http://000.cc        G\n",
       "4  A2LGX47NN7C5D3  http://000.cc        G"
      ]
     },
     "execution_count": 38,
     "metadata": {},
     "output_type": "execute_result"
    }
   ],
   "source": [
    "labelsunknown[0:5]"
   ]
  },
  {
   "cell_type": "code",
   "execution_count": 32,
   "id": "1d841d75",
   "metadata": {},
   "outputs": [
    {
     "data": {
      "text/plain": [
       "11.0"
      ]
     },
     "execution_count": 32,
     "metadata": {},
     "output_type": "execute_result"
    }
   ],
   "source": [
    "rater_goodness['count'].quantile(0.75)"
   ]
  },
  {
   "cell_type": "code",
   "execution_count": 37,
   "id": "d81fe051",
   "metadata": {},
   "outputs": [
    {
     "data": {
      "text/plain": [
       "(40621, 3)"
      ]
     },
     "execution_count": 37,
     "metadata": {},
     "output_type": "execute_result"
    }
   ],
   "source": [
    "rater_goodness_sub2 = rater_goodness[rater_goodness['count'] > rater_goodness['count'].quantile(0.75)]\n",
    "top_turks = rater_goodness_sub2.reset_index()['turk'].unique()\n",
    "labelsunknown_rel = labelsunknown[labelsunknown['turk'].isin(top_turks)]\n",
    "labelsunknown_rel.shape"
   ]
  },
  {
   "cell_type": "code",
   "execution_count": 39,
   "id": "4b0bb9c4",
   "metadata": {},
   "outputs": [
    {
     "data": {
      "text/html": [
       "<div>\n",
       "<style scoped>\n",
       "    .dataframe tbody tr th:only-of-type {\n",
       "        vertical-align: middle;\n",
       "    }\n",
       "\n",
       "    .dataframe tbody tr th {\n",
       "        vertical-align: top;\n",
       "    }\n",
       "\n",
       "    .dataframe thead th {\n",
       "        text-align: right;\n",
       "    }\n",
       "</style>\n",
       "<table border=\"1\" class=\"dataframe\">\n",
       "  <thead>\n",
       "    <tr style=\"text-align: right;\">\n",
       "      <th></th>\n",
       "      <th>turk</th>\n",
       "      <th>url</th>\n",
       "      <th>category</th>\n",
       "    </tr>\n",
       "  </thead>\n",
       "  <tbody>\n",
       "    <tr>\n",
       "      <th>1</th>\n",
       "      <td>A1PXXEOGQ76RNJ</td>\n",
       "      <td>http://000.cc</td>\n",
       "      <td>G</td>\n",
       "    </tr>\n",
       "    <tr>\n",
       "      <th>2</th>\n",
       "      <td>A1PXXEOGQ76RNJ</td>\n",
       "      <td>http://000.cc</td>\n",
       "      <td>G</td>\n",
       "    </tr>\n",
       "    <tr>\n",
       "      <th>3</th>\n",
       "      <td>A21US576U8SCO4</td>\n",
       "      <td>http://000.cc</td>\n",
       "      <td>G</td>\n",
       "    </tr>\n",
       "    <tr>\n",
       "      <th>10</th>\n",
       "      <td>A1PXXEOGQ76RNJ</td>\n",
       "      <td>http://0000.jp</td>\n",
       "      <td>G</td>\n",
       "    </tr>\n",
       "    <tr>\n",
       "      <th>11</th>\n",
       "      <td>A1XFA0A9Z3LAZJ</td>\n",
       "      <td>http://0000.jp</td>\n",
       "      <td>G</td>\n",
       "    </tr>\n",
       "    <tr>\n",
       "      <th>...</th>\n",
       "      <td>...</td>\n",
       "      <td>...</td>\n",
       "      <td>...</td>\n",
       "    </tr>\n",
       "    <tr>\n",
       "      <th>92707</th>\n",
       "      <td>A4GP97LAQCCHJ</td>\n",
       "      <td>http://zynga.com</td>\n",
       "      <td>G</td>\n",
       "    </tr>\n",
       "    <tr>\n",
       "      <th>92709</th>\n",
       "      <td>A1PXXEOGQ76RNJ</td>\n",
       "      <td>http://zz868.com</td>\n",
       "      <td>G</td>\n",
       "    </tr>\n",
       "    <tr>\n",
       "      <th>92715</th>\n",
       "      <td>A4AD9ZMVU9SVA</td>\n",
       "      <td>http://zz868.com</td>\n",
       "      <td>P</td>\n",
       "    </tr>\n",
       "    <tr>\n",
       "      <th>92719</th>\n",
       "      <td>A21US576U8SCO4</td>\n",
       "      <td>http://zzx.cc</td>\n",
       "      <td>G</td>\n",
       "    </tr>\n",
       "    <tr>\n",
       "      <th>92720</th>\n",
       "      <td>A29T6EIMK6R7O0</td>\n",
       "      <td>http://zzx.cc</td>\n",
       "      <td>X</td>\n",
       "    </tr>\n",
       "  </tbody>\n",
       "</table>\n",
       "<p>40621 rows × 3 columns</p>\n",
       "</div>"
      ],
      "text/plain": [
       "                 turk               url category\n",
       "1      A1PXXEOGQ76RNJ     http://000.cc        G\n",
       "2      A1PXXEOGQ76RNJ     http://000.cc        G\n",
       "3      A21US576U8SCO4     http://000.cc        G\n",
       "10     A1PXXEOGQ76RNJ    http://0000.jp        G\n",
       "11     A1XFA0A9Z3LAZJ    http://0000.jp        G\n",
       "...               ...               ...      ...\n",
       "92707   A4GP97LAQCCHJ  http://zynga.com        G\n",
       "92709  A1PXXEOGQ76RNJ  http://zz868.com        G\n",
       "92715   A4AD9ZMVU9SVA  http://zz868.com        P\n",
       "92719  A21US576U8SCO4     http://zzx.cc        G\n",
       "92720  A29T6EIMK6R7O0     http://zzx.cc        X\n",
       "\n",
       "[40621 rows x 3 columns]"
      ]
     },
     "execution_count": 39,
     "metadata": {},
     "output_type": "execute_result"
    }
   ],
   "source": [
    "labelsunknown_rel"
   ]
  }
 ],
 "metadata": {
  "kernelspec": {
   "display_name": "Python 3",
   "language": "python",
   "name": "python3"
  },
  "language_info": {
   "codemirror_mode": {
    "name": "ipython",
    "version": 3
   },
   "file_extension": ".py",
   "mimetype": "text/x-python",
   "name": "python",
   "nbconvert_exporter": "python",
   "pygments_lexer": "ipython3",
   "version": "3.8.8"
  }
 },
 "nbformat": 4,
 "nbformat_minor": 5
}
