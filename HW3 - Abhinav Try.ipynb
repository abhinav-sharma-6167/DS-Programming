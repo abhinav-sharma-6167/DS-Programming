{
 "cells": [
  {
   "cell_type": "code",
   "execution_count": 1,
   "id": "e26185c6",
   "metadata": {},
   "outputs": [
    {
     "name": "stdout",
     "output_type": "stream",
     "text": [
      "Populating the interactive namespace from numpy and matplotlib\n"
     ]
    }
   ],
   "source": [
    "import pandas as pd\n",
    "import numpy as np\n",
    "import seaborn as sns\n",
    "import warnings\n",
    "warnings.filterwarnings(\"ignore\")\n",
    "%pylab inline"
   ]
  },
  {
   "cell_type": "markdown",
   "id": "2ac4e09e",
   "metadata": {},
   "source": [
    "[Q1 10 points] Read in data"
   ]
  },
  {
   "cell_type": "code",
   "execution_count": 2,
   "id": "83ffa4da",
   "metadata": {},
   "outputs": [],
   "source": [
    "#Read in individual files using pd.read_csv\n",
    "gold = pd.read_csv('gold.txt',sep=\"\\t\",header=None, names=[\"url\",\"category\"])\n",
    "labels = pd.read_table('labels.txt', sep=\"\\t\",header=None, names =['turk','url','category'])"
   ]
  },
  {
   "cell_type": "code",
   "execution_count": 3,
   "id": "a8117a2a",
   "metadata": {},
   "outputs": [
    {
     "data": {
      "text/plain": [
       "(1517, 2)"
      ]
     },
     "execution_count": 3,
     "metadata": {},
     "output_type": "execute_result"
    }
   ],
   "source": [
    "#Gold data dimensions\n",
    "gold.shape"
   ]
  },
  {
   "cell_type": "code",
   "execution_count": 4,
   "id": "57947279",
   "metadata": {},
   "outputs": [
    {
     "data": {
      "text/plain": [
       "(1517, 1)"
      ]
     },
     "execution_count": 4,
     "metadata": {},
     "output_type": "execute_result"
    }
   ],
   "source": [
    "#Check for duplicates\n",
    "gold[['url']].drop_duplicates().shape"
   ]
  },
  {
   "cell_type": "code",
   "execution_count": 5,
   "id": "6c175001",
   "metadata": {},
   "outputs": [
    {
     "data": {
      "text/html": [
       "<div>\n",
       "<style scoped>\n",
       "    .dataframe tbody tr th:only-of-type {\n",
       "        vertical-align: middle;\n",
       "    }\n",
       "\n",
       "    .dataframe tbody tr th {\n",
       "        vertical-align: top;\n",
       "    }\n",
       "\n",
       "    .dataframe thead th {\n",
       "        text-align: right;\n",
       "    }\n",
       "</style>\n",
       "<table border=\"1\" class=\"dataframe\">\n",
       "  <thead>\n",
       "    <tr style=\"text-align: right;\">\n",
       "      <th></th>\n",
       "      <th>url</th>\n",
       "      <th>category</th>\n",
       "    </tr>\n",
       "  </thead>\n",
       "  <tbody>\n",
       "    <tr>\n",
       "      <th>0</th>\n",
       "      <td>http://0800-horoscope.com</td>\n",
       "      <td>G</td>\n",
       "    </tr>\n",
       "    <tr>\n",
       "      <th>1</th>\n",
       "      <td>http://18games.net</td>\n",
       "      <td>X</td>\n",
       "    </tr>\n",
       "    <tr>\n",
       "      <th>2</th>\n",
       "      <td>http://1pixelout.net</td>\n",
       "      <td>G</td>\n",
       "    </tr>\n",
       "    <tr>\n",
       "      <th>3</th>\n",
       "      <td>http://1porno.com/004/teens/index.html</td>\n",
       "      <td>X</td>\n",
       "    </tr>\n",
       "    <tr>\n",
       "      <th>4</th>\n",
       "      <td>http://1stpussy.com/005/16/index.html</td>\n",
       "      <td>X</td>\n",
       "    </tr>\n",
       "  </tbody>\n",
       "</table>\n",
       "</div>"
      ],
      "text/plain": [
       "                                      url category\n",
       "0               http://0800-horoscope.com        G\n",
       "1                      http://18games.net        X\n",
       "2                    http://1pixelout.net        G\n",
       "3  http://1porno.com/004/teens/index.html        X\n",
       "4   http://1stpussy.com/005/16/index.html        X"
      ]
     },
     "execution_count": 5,
     "metadata": {},
     "output_type": "execute_result"
    }
   ],
   "source": [
    "#Sample gold data\n",
    "gold.iloc[:5]"
   ]
  },
  {
   "cell_type": "code",
   "execution_count": 6,
   "id": "f3e0bb1e",
   "metadata": {},
   "outputs": [
    {
     "data": {
      "text/plain": [
       "(92721, 3)"
      ]
     },
     "execution_count": 6,
     "metadata": {},
     "output_type": "execute_result"
    }
   ],
   "source": [
    "#Labels data dimensions\n",
    "labels.shape"
   ]
  },
  {
   "cell_type": "code",
   "execution_count": 7,
   "id": "a358ea33",
   "metadata": {},
   "outputs": [
    {
     "data": {
      "text/plain": [
       "(89948, 3)"
      ]
     },
     "execution_count": 7,
     "metadata": {},
     "output_type": "execute_result"
    }
   ],
   "source": [
    "#Check for duplicates\n",
    "labels[['turk','url','category']].drop_duplicates().shape"
   ]
  },
  {
   "cell_type": "code",
   "execution_count": 8,
   "id": "4e53b575",
   "metadata": {},
   "outputs": [],
   "source": [
    "#Dropping duplicates to avaid merge clashes\n",
    "labels = labels[['turk','url','category']].drop_duplicates()"
   ]
  },
  {
   "cell_type": "code",
   "execution_count": 9,
   "id": "c1bea0b8",
   "metadata": {},
   "outputs": [
    {
     "data": {
      "text/html": [
       "<div>\n",
       "<style scoped>\n",
       "    .dataframe tbody tr th:only-of-type {\n",
       "        vertical-align: middle;\n",
       "    }\n",
       "\n",
       "    .dataframe tbody tr th {\n",
       "        vertical-align: top;\n",
       "    }\n",
       "\n",
       "    .dataframe thead th {\n",
       "        text-align: right;\n",
       "    }\n",
       "</style>\n",
       "<table border=\"1\" class=\"dataframe\">\n",
       "  <thead>\n",
       "    <tr style=\"text-align: right;\">\n",
       "      <th></th>\n",
       "      <th>turk</th>\n",
       "      <th>url</th>\n",
       "      <th>category</th>\n",
       "    </tr>\n",
       "  </thead>\n",
       "  <tbody>\n",
       "    <tr>\n",
       "      <th>0</th>\n",
       "      <td>A1OT3A29R9N1DG</td>\n",
       "      <td>http://000.cc</td>\n",
       "      <td>P</td>\n",
       "    </tr>\n",
       "    <tr>\n",
       "      <th>1</th>\n",
       "      <td>A1PXXEOGQ76RNJ</td>\n",
       "      <td>http://000.cc</td>\n",
       "      <td>G</td>\n",
       "    </tr>\n",
       "    <tr>\n",
       "      <th>3</th>\n",
       "      <td>A21US576U8SCO4</td>\n",
       "      <td>http://000.cc</td>\n",
       "      <td>G</td>\n",
       "    </tr>\n",
       "    <tr>\n",
       "      <th>4</th>\n",
       "      <td>A2LGX47NN7C5D3</td>\n",
       "      <td>http://000.cc</td>\n",
       "      <td>G</td>\n",
       "    </tr>\n",
       "    <tr>\n",
       "      <th>5</th>\n",
       "      <td>A2OVKTB7VNY8EW</td>\n",
       "      <td>http://000.cc</td>\n",
       "      <td>G</td>\n",
       "    </tr>\n",
       "  </tbody>\n",
       "</table>\n",
       "</div>"
      ],
      "text/plain": [
       "             turk            url category\n",
       "0  A1OT3A29R9N1DG  http://000.cc        P\n",
       "1  A1PXXEOGQ76RNJ  http://000.cc        G\n",
       "3  A21US576U8SCO4  http://000.cc        G\n",
       "4  A2LGX47NN7C5D3  http://000.cc        G\n",
       "5  A2OVKTB7VNY8EW  http://000.cc        G"
      ]
     },
     "execution_count": 9,
     "metadata": {},
     "output_type": "execute_result"
    }
   ],
   "source": [
    "#Labels data sample\n",
    "labels.iloc[:5]"
   ]
  },
  {
   "cell_type": "markdown",
   "id": "c761ae2d",
   "metadata": {},
   "source": [
    "[Q2 10 points] Split into two DataFrames"
   ]
  },
  {
   "cell_type": "code",
   "execution_count": 10,
   "id": "9746dbe2",
   "metadata": {},
   "outputs": [
    {
     "data": {
      "text/plain": [
       "1517"
      ]
     },
     "execution_count": 10,
     "metadata": {},
     "output_type": "execute_result"
    }
   ],
   "source": [
    "#Number of unique URLs in gold\n",
    "gold['url'].nunique()"
   ]
  },
  {
   "cell_type": "code",
   "execution_count": 11,
   "id": "9e38d60d",
   "metadata": {},
   "outputs": [
    {
     "data": {
      "text/plain": [
       "11040"
      ]
     },
     "execution_count": 11,
     "metadata": {},
     "output_type": "execute_result"
    }
   ],
   "source": [
    "#Number of unique URLs in label\n",
    "labels['url'].nunique()"
   ]
  },
  {
   "cell_type": "code",
   "execution_count": 12,
   "id": "d3159656",
   "metadata": {},
   "outputs": [],
   "source": [
    "#Subset of labels data in gold\n",
    "url_in_gold_list = labels['url'][labels['url'].isin(gold['url'].unique())].unique()"
   ]
  },
  {
   "cell_type": "code",
   "execution_count": 13,
   "id": "a1b60eaa",
   "metadata": {
    "scrolled": true
   },
   "outputs": [
    {
     "data": {
      "text/plain": [
       "333"
      ]
     },
     "execution_count": 13,
     "metadata": {},
     "output_type": "execute_result"
    }
   ],
   "source": [
    "#Length of unique urls in gold list\n",
    "len(url_in_gold_list)"
   ]
  },
  {
   "cell_type": "code",
   "execution_count": 14,
   "id": "d6277aa4",
   "metadata": {},
   "outputs": [
    {
     "data": {
      "text/plain": [
       "array(['http://0800-horoscope.com', 'http://18games.net',\n",
       "       'http://1pixelout.net', 'http://1porno.com/004/teens/index.html',\n",
       "       'http://1stpussy.com/005/16/index.html'], dtype=object)"
      ]
     },
     "execution_count": 14,
     "metadata": {},
     "output_type": "execute_result"
    }
   ],
   "source": [
    "#Sample urls from gold list\n",
    "url_in_gold_list[0:5]"
   ]
  },
  {
   "cell_type": "code",
   "execution_count": 15,
   "id": "7be06495",
   "metadata": {},
   "outputs": [],
   "source": [
    "#Creating segregated dataframes for labels in gold vs not\n",
    "labelongold = labels[labels['url'].isin(url_in_gold_list)]\n",
    "labelsunknown = labels[~labels['url'].isin(url_in_gold_list)]"
   ]
  },
  {
   "cell_type": "code",
   "execution_count": 16,
   "id": "562fb9eb",
   "metadata": {},
   "outputs": [
    {
     "data": {
      "text/plain": [
       "(3319, 3)"
      ]
     },
     "execution_count": 16,
     "metadata": {},
     "output_type": "execute_result"
    }
   ],
   "source": [
    "#Labels in gold data dimensions\n",
    "labelongold.shape"
   ]
  },
  {
   "cell_type": "code",
   "execution_count": 17,
   "id": "5e0222cd",
   "metadata": {},
   "outputs": [
    {
     "data": {
      "text/plain": [
       "(86629, 3)"
      ]
     },
     "execution_count": 17,
     "metadata": {},
     "output_type": "execute_result"
    }
   ],
   "source": [
    "#Labels unknown data dimensions\n",
    "labelsunknown.shape"
   ]
  },
  {
   "cell_type": "markdown",
   "id": "2d6a5472",
   "metadata": {},
   "source": [
    "[Q3 10 points] Compute accuracies of turks"
   ]
  },
  {
   "cell_type": "code",
   "execution_count": 18,
   "id": "4e7455f0",
   "metadata": {},
   "outputs": [
    {
     "data": {
      "text/plain": [
       "(89948, 4)"
      ]
     },
     "execution_count": 18,
     "metadata": {},
     "output_type": "execute_result"
    }
   ],
   "source": [
    "#Left join gold into labels dataset\n",
    "turks_merged = labels.merge(gold,how=\"left\",on = \"url\",suffixes=[\"_turks\",\"_gold\"])\n",
    "turks_merged.shape"
   ]
  },
  {
   "cell_type": "code",
   "execution_count": 19,
   "id": "35a92be7",
   "metadata": {},
   "outputs": [
    {
     "data": {
      "text/html": [
       "<div>\n",
       "<style scoped>\n",
       "    .dataframe tbody tr th:only-of-type {\n",
       "        vertical-align: middle;\n",
       "    }\n",
       "\n",
       "    .dataframe tbody tr th {\n",
       "        vertical-align: top;\n",
       "    }\n",
       "\n",
       "    .dataframe thead th {\n",
       "        text-align: right;\n",
       "    }\n",
       "</style>\n",
       "<table border=\"1\" class=\"dataframe\">\n",
       "  <thead>\n",
       "    <tr style=\"text-align: right;\">\n",
       "      <th></th>\n",
       "      <th>turk</th>\n",
       "      <th>url</th>\n",
       "      <th>category_turks</th>\n",
       "      <th>category_gold</th>\n",
       "    </tr>\n",
       "  </thead>\n",
       "  <tbody>\n",
       "    <tr>\n",
       "      <th>0</th>\n",
       "      <td>A1OT3A29R9N1DG</td>\n",
       "      <td>http://000.cc</td>\n",
       "      <td>P</td>\n",
       "      <td>NaN</td>\n",
       "    </tr>\n",
       "    <tr>\n",
       "      <th>1</th>\n",
       "      <td>A1PXXEOGQ76RNJ</td>\n",
       "      <td>http://000.cc</td>\n",
       "      <td>G</td>\n",
       "      <td>NaN</td>\n",
       "    </tr>\n",
       "    <tr>\n",
       "      <th>2</th>\n",
       "      <td>A21US576U8SCO4</td>\n",
       "      <td>http://000.cc</td>\n",
       "      <td>G</td>\n",
       "      <td>NaN</td>\n",
       "    </tr>\n",
       "    <tr>\n",
       "      <th>3</th>\n",
       "      <td>A2LGX47NN7C5D3</td>\n",
       "      <td>http://000.cc</td>\n",
       "      <td>G</td>\n",
       "      <td>NaN</td>\n",
       "    </tr>\n",
       "    <tr>\n",
       "      <th>4</th>\n",
       "      <td>A2OVKTB7VNY8EW</td>\n",
       "      <td>http://000.cc</td>\n",
       "      <td>G</td>\n",
       "      <td>NaN</td>\n",
       "    </tr>\n",
       "  </tbody>\n",
       "</table>\n",
       "</div>"
      ],
      "text/plain": [
       "             turk            url category_turks category_gold\n",
       "0  A1OT3A29R9N1DG  http://000.cc              P           NaN\n",
       "1  A1PXXEOGQ76RNJ  http://000.cc              G           NaN\n",
       "2  A21US576U8SCO4  http://000.cc              G           NaN\n",
       "3  A2LGX47NN7C5D3  http://000.cc              G           NaN\n",
       "4  A2OVKTB7VNY8EW  http://000.cc              G           NaN"
      ]
     },
     "execution_count": 19,
     "metadata": {},
     "output_type": "execute_result"
    }
   ],
   "source": [
    "turks_merged[0:5]"
   ]
  },
  {
   "cell_type": "code",
   "execution_count": 20,
   "id": "691e6516",
   "metadata": {},
   "outputs": [
    {
     "data": {
      "text/html": [
       "<div>\n",
       "<style scoped>\n",
       "    .dataframe tbody tr th:only-of-type {\n",
       "        vertical-align: middle;\n",
       "    }\n",
       "\n",
       "    .dataframe tbody tr th {\n",
       "        vertical-align: top;\n",
       "    }\n",
       "\n",
       "    .dataframe thead th {\n",
       "        text-align: right;\n",
       "    }\n",
       "</style>\n",
       "<table border=\"1\" class=\"dataframe\">\n",
       "  <thead>\n",
       "    <tr style=\"text-align: right;\">\n",
       "      <th></th>\n",
       "      <th>turk</th>\n",
       "      <th>url</th>\n",
       "      <th>category_turks</th>\n",
       "      <th>category_gold</th>\n",
       "    </tr>\n",
       "  </thead>\n",
       "  <tbody>\n",
       "    <tr>\n",
       "      <th>224</th>\n",
       "      <td>A1253FXHCZ9CWM</td>\n",
       "      <td>http://0800-horoscope.com</td>\n",
       "      <td>G</td>\n",
       "      <td>G</td>\n",
       "    </tr>\n",
       "    <tr>\n",
       "      <th>225</th>\n",
       "      <td>A153PKAL7OAY36</td>\n",
       "      <td>http://0800-horoscope.com</td>\n",
       "      <td>G</td>\n",
       "      <td>G</td>\n",
       "    </tr>\n",
       "    <tr>\n",
       "      <th>226</th>\n",
       "      <td>A1FV9SAPL5C6KY</td>\n",
       "      <td>http://0800-horoscope.com</td>\n",
       "      <td>G</td>\n",
       "      <td>G</td>\n",
       "    </tr>\n",
       "    <tr>\n",
       "      <th>227</th>\n",
       "      <td>A1JTOT0DWM6QGL</td>\n",
       "      <td>http://0800-horoscope.com</td>\n",
       "      <td>G</td>\n",
       "      <td>G</td>\n",
       "    </tr>\n",
       "    <tr>\n",
       "      <th>228</th>\n",
       "      <td>A1PXXEOGQ76RNJ</td>\n",
       "      <td>http://0800-horoscope.com</td>\n",
       "      <td>G</td>\n",
       "      <td>G</td>\n",
       "    </tr>\n",
       "  </tbody>\n",
       "</table>\n",
       "</div>"
      ],
      "text/plain": [
       "               turk                        url category_turks category_gold\n",
       "224  A1253FXHCZ9CWM  http://0800-horoscope.com              G             G\n",
       "225  A153PKAL7OAY36  http://0800-horoscope.com              G             G\n",
       "226  A1FV9SAPL5C6KY  http://0800-horoscope.com              G             G\n",
       "227  A1JTOT0DWM6QGL  http://0800-horoscope.com              G             G\n",
       "228  A1PXXEOGQ76RNJ  http://0800-horoscope.com              G             G"
      ]
     },
     "execution_count": 20,
     "metadata": {},
     "output_type": "execute_result"
    }
   ],
   "source": [
    "#Subset out NaNs from category_gold column to get inner join, original df is not changed if left join is needed later on\n",
    "turks_merged_sub = turks_merged.dropna(subset = ['category_gold'])\n",
    "turks_merged_sub[0:5]"
   ]
  },
  {
   "cell_type": "code",
   "execution_count": 21,
   "id": "ca519ae0",
   "metadata": {},
   "outputs": [
    {
     "data": {
      "text/plain": [
       "(3319, 4)"
      ]
     },
     "execution_count": 21,
     "metadata": {},
     "output_type": "execute_result"
    }
   ],
   "source": [
    "turks_merged_sub.shape"
   ]
  },
  {
   "cell_type": "code",
   "execution_count": 22,
   "id": "d4c4a908",
   "metadata": {},
   "outputs": [],
   "source": [
    "#Create another column with boolean output for whether both data category columns match or not\n",
    "turks_merged_sub.loc[:,'isMatch'] = (turks_merged_sub['category_turks']==turks_merged_sub['category_gold']).astype(int).copy()"
   ]
  },
  {
   "cell_type": "code",
   "execution_count": 23,
   "id": "85bdadad",
   "metadata": {},
   "outputs": [
    {
     "data": {
      "text/plain": [
       "2262"
      ]
     },
     "execution_count": 23,
     "metadata": {},
     "output_type": "execute_result"
    }
   ],
   "source": [
    "#Number of matches\n",
    "turks_merged_sub['isMatch'].sum()"
   ]
  },
  {
   "cell_type": "code",
   "execution_count": 24,
   "id": "6849dc8a",
   "metadata": {},
   "outputs": [
    {
     "data": {
      "text/html": [
       "<div>\n",
       "<style scoped>\n",
       "    .dataframe tbody tr th:only-of-type {\n",
       "        vertical-align: middle;\n",
       "    }\n",
       "\n",
       "    .dataframe tbody tr th {\n",
       "        vertical-align: top;\n",
       "    }\n",
       "\n",
       "    .dataframe thead th {\n",
       "        text-align: right;\n",
       "    }\n",
       "</style>\n",
       "<table border=\"1\" class=\"dataframe\">\n",
       "  <thead>\n",
       "    <tr style=\"text-align: right;\">\n",
       "      <th></th>\n",
       "      <th>count</th>\n",
       "      <th>mean</th>\n",
       "    </tr>\n",
       "    <tr>\n",
       "      <th>turk</th>\n",
       "      <th></th>\n",
       "      <th></th>\n",
       "    </tr>\n",
       "  </thead>\n",
       "  <tbody>\n",
       "    <tr>\n",
       "      <th>A112DVP1KG4QZU</th>\n",
       "      <td>1</td>\n",
       "      <td>1.00000</td>\n",
       "    </tr>\n",
       "    <tr>\n",
       "      <th>A1253FXHCZ9CWM</th>\n",
       "      <td>29</td>\n",
       "      <td>0.51724</td>\n",
       "    </tr>\n",
       "    <tr>\n",
       "      <th>A12CY1Q7XKJJDE</th>\n",
       "      <td>1</td>\n",
       "      <td>1.00000</td>\n",
       "    </tr>\n",
       "    <tr>\n",
       "      <th>A12RE8G66WTO8B</th>\n",
       "      <td>20</td>\n",
       "      <td>0.75000</td>\n",
       "    </tr>\n",
       "    <tr>\n",
       "      <th>A12Y1GTGIQDGRA</th>\n",
       "      <td>3</td>\n",
       "      <td>0.33333</td>\n",
       "    </tr>\n",
       "    <tr>\n",
       "      <th>A13CEW9JGDWGX1</th>\n",
       "      <td>1</td>\n",
       "      <td>1.00000</td>\n",
       "    </tr>\n",
       "    <tr>\n",
       "      <th>A13OE9GBRJ0S2U</th>\n",
       "      <td>4</td>\n",
       "      <td>0.75000</td>\n",
       "    </tr>\n",
       "    <tr>\n",
       "      <th>A14IQ4GLNWNPOJ</th>\n",
       "      <td>1</td>\n",
       "      <td>1.00000</td>\n",
       "    </tr>\n",
       "    <tr>\n",
       "      <th>A153PKAL7OAY36</th>\n",
       "      <td>148</td>\n",
       "      <td>0.72297</td>\n",
       "    </tr>\n",
       "    <tr>\n",
       "      <th>A1554ZM0CLKSG5</th>\n",
       "      <td>1</td>\n",
       "      <td>1.00000</td>\n",
       "    </tr>\n",
       "  </tbody>\n",
       "</table>\n",
       "</div>"
      ],
      "text/plain": [
       "                count     mean\n",
       "turk                          \n",
       "A112DVP1KG4QZU      1  1.00000\n",
       "A1253FXHCZ9CWM     29  0.51724\n",
       "A12CY1Q7XKJJDE      1  1.00000\n",
       "A12RE8G66WTO8B     20  0.75000\n",
       "A12Y1GTGIQDGRA      3  0.33333\n",
       "A13CEW9JGDWGX1      1  1.00000\n",
       "A13OE9GBRJ0S2U      4  0.75000\n",
       "A14IQ4GLNWNPOJ      1  1.00000\n",
       "A153PKAL7OAY36    148  0.72297\n",
       "A1554ZM0CLKSG5      1  1.00000"
      ]
     },
     "execution_count": 24,
     "metadata": {},
     "output_type": "execute_result"
    }
   ],
   "source": [
    "#Define ratergoodness as specified\n",
    "rater_goodness = turks_merged_sub.groupby(['turk'])['isMatch'].agg(['count','mean']).round(5)\n",
    "rater_goodness[0:10]"
   ]
  },
  {
   "cell_type": "markdown",
   "id": "281a42bd",
   "metadata": {},
   "source": [
    "[Q4 10 points] Odds ratios"
   ]
  },
  {
   "cell_type": "code",
   "execution_count": 25,
   "id": "772dd51c",
   "metadata": {},
   "outputs": [
    {
     "data": {
      "text/plain": [
       "(269, 2)"
      ]
     },
     "execution_count": 25,
     "metadata": {},
     "output_type": "execute_result"
    }
   ],
   "source": [
    "#Rater goodness dimensions\n",
    "rater_goodness.shape"
   ]
  },
  {
   "cell_type": "code",
   "execution_count": 26,
   "id": "11fd14dc",
   "metadata": {},
   "outputs": [],
   "source": [
    "#Define odds column\n",
    "rater_goodness['odds'] = rater_goodness['mean'].map(lambda x : ((x)/(1.001 - x)))"
   ]
  },
  {
   "cell_type": "code",
   "execution_count": 27,
   "id": "6063d89c",
   "metadata": {},
   "outputs": [
    {
     "data": {
      "text/plain": [
       "<AxesSubplot:ylabel='Frequency'>"
      ]
     },
     "execution_count": 27,
     "metadata": {},
     "output_type": "execute_result"
    },
    {
     "data": {
      "image/png": "[encoded data removed]",
      "text/plain": [
       "<Figure size 432x288 with 1 Axes>"
      ]
     },
     "metadata": {
      "needs_background": "light"
     },
     "output_type": "display_data"
    }
   ],
   "source": [
    "rater_goodness['odds'].plot(kind='hist')"
   ]
  },
  {
   "cell_type": "markdown",
   "id": "bb09178f",
   "metadata": {},
   "source": [
    "[Q5 10 points] Most accurate turks"
   ]
  },
  {
   "cell_type": "code",
   "execution_count": 28,
   "id": "7d56da16",
   "metadata": {},
   "outputs": [
    {
     "data": {
      "text/html": [
       "<div>\n",
       "<style scoped>\n",
       "    .dataframe tbody tr th:only-of-type {\n",
       "        vertical-align: middle;\n",
       "    }\n",
       "\n",
       "    .dataframe tbody tr th {\n",
       "        vertical-align: top;\n",
       "    }\n",
       "\n",
       "    .dataframe thead th {\n",
       "        text-align: right;\n",
       "    }\n",
       "</style>\n",
       "<table border=\"1\" class=\"dataframe\">\n",
       "  <thead>\n",
       "    <tr style=\"text-align: right;\">\n",
       "      <th></th>\n",
       "      <th>count</th>\n",
       "      <th>mean</th>\n",
       "      <th>odds</th>\n",
       "    </tr>\n",
       "    <tr>\n",
       "      <th>turk</th>\n",
       "      <th></th>\n",
       "      <th></th>\n",
       "      <th></th>\n",
       "    </tr>\n",
       "  </thead>\n",
       "  <tbody>\n",
       "    <tr>\n",
       "      <th>A2U0R4X38GUKZE</th>\n",
       "      <td>20</td>\n",
       "      <td>0.95000</td>\n",
       "      <td>18.627451</td>\n",
       "    </tr>\n",
       "    <tr>\n",
       "      <th>A22C0PJUBFJTI0</th>\n",
       "      <td>36</td>\n",
       "      <td>0.91667</td>\n",
       "      <td>10.870034</td>\n",
       "    </tr>\n",
       "    <tr>\n",
       "      <th>A23YQUBXZPKILZ</th>\n",
       "      <td>24</td>\n",
       "      <td>0.87500</td>\n",
       "      <td>6.944444</td>\n",
       "    </tr>\n",
       "    <tr>\n",
       "      <th>ATVALOQVDCMZW</th>\n",
       "      <td>103</td>\n",
       "      <td>0.85437</td>\n",
       "      <td>5.826707</td>\n",
       "    </tr>\n",
       "    <tr>\n",
       "      <th>A1HIXWH4OXT8S4</th>\n",
       "      <td>40</td>\n",
       "      <td>0.82500</td>\n",
       "      <td>4.687500</td>\n",
       "    </tr>\n",
       "    <tr>\n",
       "      <th>A3220HG1O83HQ4</th>\n",
       "      <td>22</td>\n",
       "      <td>0.81818</td>\n",
       "      <td>4.475331</td>\n",
       "    </tr>\n",
       "    <tr>\n",
       "      <th>A32W20KGQXS0LL</th>\n",
       "      <td>25</td>\n",
       "      <td>0.80000</td>\n",
       "      <td>3.980100</td>\n",
       "    </tr>\n",
       "    <tr>\n",
       "      <th>A20PWAB7G3HDHU</th>\n",
       "      <td>20</td>\n",
       "      <td>0.80000</td>\n",
       "      <td>3.980100</td>\n",
       "    </tr>\n",
       "    <tr>\n",
       "      <th>AJSJVK40F5HM6</th>\n",
       "      <td>28</td>\n",
       "      <td>0.78571</td>\n",
       "      <td>3.649542</td>\n",
       "    </tr>\n",
       "    <tr>\n",
       "      <th>A31OCN4MNHUQ6W</th>\n",
       "      <td>184</td>\n",
       "      <td>0.77717</td>\n",
       "      <td>3.472144</td>\n",
       "    </tr>\n",
       "  </tbody>\n",
       "</table>\n",
       "</div>"
      ],
      "text/plain": [
       "                count     mean       odds\n",
       "turk                                     \n",
       "A2U0R4X38GUKZE     20  0.95000  18.627451\n",
       "A22C0PJUBFJTI0     36  0.91667  10.870034\n",
       "A23YQUBXZPKILZ     24  0.87500   6.944444\n",
       "ATVALOQVDCMZW     103  0.85437   5.826707\n",
       "A1HIXWH4OXT8S4     40  0.82500   4.687500\n",
       "A3220HG1O83HQ4     22  0.81818   4.475331\n",
       "A32W20KGQXS0LL     25  0.80000   3.980100\n",
       "A20PWAB7G3HDHU     20  0.80000   3.980100\n",
       "AJSJVK40F5HM6      28  0.78571   3.649542\n",
       "A31OCN4MNHUQ6W    184  0.77717   3.472144"
      ]
     },
     "execution_count": 28,
     "metadata": {},
     "output_type": "execute_result"
    }
   ],
   "source": [
    "#Filter for count more than 20 and sort turks by odds\n",
    "rater_goodness[rater_goodness['count'] >= 20].sort_values('odds',ascending = False)[0:10]"
   ]
  },
  {
   "cell_type": "code",
   "execution_count": 29,
   "id": "a4890357",
   "metadata": {},
   "outputs": [
    {
     "data": {
      "text/plain": [
       "array(['A2U0R4X38GUKZE', 'A22C0PJUBFJTI0', 'A23YQUBXZPKILZ',\n",
       "       'ATVALOQVDCMZW', 'A1HIXWH4OXT8S4', 'A3220HG1O83HQ4',\n",
       "       'A32W20KGQXS0LL', 'A20PWAB7G3HDHU', 'AJSJVK40F5HM6',\n",
       "       'A31OCN4MNHUQ6W'], dtype=object)"
      ]
     },
     "execution_count": 29,
     "metadata": {},
     "output_type": "execute_result"
    }
   ],
   "source": [
    "#List out top rated turks by invoking index of df\n",
    "rater_goodness[rater_goodness['count'] >= 20].sort_values('odds',ascending = False)[0:10].index.values"
   ]
  },
  {
   "cell_type": "markdown",
   "id": "46145736",
   "metadata": {},
   "source": [
    "[Q6 10 points] Rating counts versus accuracy"
   ]
  },
  {
   "cell_type": "code",
   "execution_count": 30,
   "id": "9269f9e1",
   "metadata": {},
   "outputs": [
    {
     "data": {
      "text/plain": [
       "<matplotlib.collections.PathCollection at 0x7fe5c3332f70>"
      ]
     },
     "execution_count": 30,
     "metadata": {},
     "output_type": "execute_result"
    },
    {
     "data": {
      "image/png": "[encoded data removed]",
      "text/plain": [
       "<Figure size 432x288 with 1 Axes>"
      ]
     },
     "metadata": {
      "needs_background": "light"
     },
     "output_type": "display_data"
    }
   ],
   "source": [
    "#Plot of count vs odds\n",
    "scatter(rater_goodness['count'] , rater_goodness['odds'] , marker='o')"
   ]
  },
  {
   "cell_type": "markdown",
   "id": "2b676ddc",
   "metadata": {},
   "source": [
    "We see large outlier values of odds such as 1000 at lower values of counts (odds here will be very sensitive to fluctuations)"
   ]
  },
  {
   "cell_type": "code",
   "execution_count": 31,
   "id": "b3c154f2",
   "metadata": {},
   "outputs": [
    {
     "data": {
      "text/plain": [
       "<matplotlib.collections.PathCollection at 0x7fe5c8d5f250>"
      ]
     },
     "execution_count": 31,
     "metadata": {},
     "output_type": "execute_result"
    },
    {
     "data": {
      "image/png": "[encoded data removed]",
      "text/plain": [
       "<Figure size 432x288 with 1 Axes>"
      ]
     },
     "metadata": {
      "needs_background": "light"
     },
     "output_type": "display_data"
    }
   ],
   "source": [
    "#Outlier removal -- assumption is odds of raters with count less than 20 is too volatile and need not be included\n",
    "rater_goodness_sub = rater_goodness[rater_goodness['count'] >=20 ].sort_values('odds',ascending = False)\n",
    "scatter(rater_goodness_sub['count'] , rater_goodness_sub['odds'] , marker='o')"
   ]
  },
  {
   "cell_type": "code",
   "execution_count": 32,
   "id": "4c0f982a",
   "metadata": {},
   "outputs": [],
   "source": [
    "#Quantile approach on raw data\n",
    "rater_goodness['Odds_qcut'] = pd.qcut(rater_goodness['odds'] , q = 3)"
   ]
  },
  {
   "cell_type": "code",
   "execution_count": 33,
   "id": "af97d262",
   "metadata": {},
   "outputs": [
    {
     "data": {
      "text/html": [
       "<div>\n",
       "<style scoped>\n",
       "    .dataframe tbody tr th:only-of-type {\n",
       "        vertical-align: middle;\n",
       "    }\n",
       "\n",
       "    .dataframe tbody tr th {\n",
       "        vertical-align: top;\n",
       "    }\n",
       "\n",
       "    .dataframe thead th {\n",
       "        text-align: right;\n",
       "    }\n",
       "</style>\n",
       "<table border=\"1\" class=\"dataframe\">\n",
       "  <thead>\n",
       "    <tr style=\"text-align: right;\">\n",
       "      <th></th>\n",
       "      <th>count</th>\n",
       "    </tr>\n",
       "    <tr>\n",
       "      <th>Odds_qcut</th>\n",
       "      <th></th>\n",
       "    </tr>\n",
       "  </thead>\n",
       "  <tbody>\n",
       "    <tr>\n",
       "      <th>(-0.001, 1.441]</th>\n",
       "      <td>8.153846</td>\n",
       "    </tr>\n",
       "    <tr>\n",
       "      <th>(1.441, 8.911]</th>\n",
       "      <td>26.055556</td>\n",
       "    </tr>\n",
       "    <tr>\n",
       "      <th>(8.911, 1000.0]</th>\n",
       "      <td>2.636364</td>\n",
       "    </tr>\n",
       "  </tbody>\n",
       "</table>\n",
       "</div>"
      ],
      "text/plain": [
       "                     count\n",
       "Odds_qcut                 \n",
       "(-0.001, 1.441]   8.153846\n",
       "(1.441, 8.911]   26.055556\n",
       "(8.911, 1000.0]   2.636364"
      ]
     },
     "execution_count": 33,
     "metadata": {},
     "output_type": "execute_result"
    }
   ],
   "source": [
    "rater_goodness.groupby('Odds_qcut')[['count']].agg('mean')"
   ]
  },
  {
   "cell_type": "markdown",
   "id": "68c1134a",
   "metadata": {},
   "source": [
    "We see that the category of odds between 1.441 to 8.911 have the highest number of average rater counts. Other tertiles such as 0 to 1.441 on the lower end had almost a third of average rater counts whereas last tertile 8.911 to 1000 has average rater count of only 2. As stated above this could be due to high volatility in odds for raters with less numbers of ratings"
   ]
  },
  {
   "cell_type": "code",
   "execution_count": 34,
   "id": "bb4dd4bf",
   "metadata": {},
   "outputs": [],
   "source": [
    "#Quantile approach on filtered data\n",
    "rater_goodness_sub['Odds_qcut'] = pd.qcut(rater_goodness_sub['odds'] , q = 3)"
   ]
  },
  {
   "cell_type": "code",
   "execution_count": 35,
   "id": "c10281ec",
   "metadata": {},
   "outputs": [
    {
     "data": {
      "text/html": [
       "<div>\n",
       "<style scoped>\n",
       "    .dataframe tbody tr th:only-of-type {\n",
       "        vertical-align: middle;\n",
       "    }\n",
       "\n",
       "    .dataframe tbody tr th {\n",
       "        vertical-align: top;\n",
       "    }\n",
       "\n",
       "    .dataframe thead th {\n",
       "        text-align: right;\n",
       "    }\n",
       "</style>\n",
       "<table border=\"1\" class=\"dataframe\">\n",
       "  <thead>\n",
       "    <tr style=\"text-align: right;\">\n",
       "      <th></th>\n",
       "      <th>count</th>\n",
       "    </tr>\n",
       "    <tr>\n",
       "      <th>Odds_qcut</th>\n",
       "      <th></th>\n",
       "    </tr>\n",
       "  </thead>\n",
       "  <tbody>\n",
       "    <tr>\n",
       "      <th>(0.113, 1.925]</th>\n",
       "      <td>41.222222</td>\n",
       "    </tr>\n",
       "    <tr>\n",
       "      <th>(1.925, 2.988]</th>\n",
       "      <td>57.600000</td>\n",
       "    </tr>\n",
       "    <tr>\n",
       "      <th>(2.988, 18.627]</th>\n",
       "      <td>46.357143</td>\n",
       "    </tr>\n",
       "  </tbody>\n",
       "</table>\n",
       "</div>"
      ],
      "text/plain": [
       "                     count\n",
       "Odds_qcut                 \n",
       "(0.113, 1.925]   41.222222\n",
       "(1.925, 2.988]   57.600000\n",
       "(2.988, 18.627]  46.357143"
      ]
     },
     "execution_count": 35,
     "metadata": {},
     "output_type": "execute_result"
    }
   ],
   "source": [
    "rater_goodness_sub.groupby('Odds_qcut')[['count']].agg('mean')"
   ]
  },
  {
   "cell_type": "markdown",
   "id": "63a3f526",
   "metadata": {},
   "source": [
    "Upon removing outliers we see trend with similar directionality with middle odds tertile having most number of average rater counts, however other tertiles have number of rater counts in the comparable range now (~80 percent of average rater counts in middle tertile)"
   ]
  },
  {
   "cell_type": "code",
   "execution_count": 36,
   "id": "2c5fb3af",
   "metadata": {},
   "outputs": [
    {
     "data": {
      "text/plain": [
       "<AxesSubplot:xlabel='count', ylabel='odds'>"
      ]
     },
     "execution_count": 36,
     "metadata": {},
     "output_type": "execute_result"
    },
    {
     "data": {
      "image/png": "[encoded data removed]",
      "text/plain": [
       "<Figure size 432x288 with 1 Axes>"
      ]
     },
     "metadata": {
      "needs_background": "light"
     },
     "output_type": "display_data"
    }
   ],
   "source": [
    "#Fitting a regression line on filtered data\n",
    "sns.regplot(x=\"count\",\n",
    "            y=\"odds\", \n",
    "            data=rater_goodness_sub)\n"
   ]
  },
  {
   "cell_type": "markdown",
   "id": "4ff3e8c3",
   "metadata": {},
   "source": [
    "Upon removing outliers with low number of counts (less than 20) that give out highly volatile odds, we see a very small negative correlation between number of questions and odds."
   ]
  },
  {
   "cell_type": "markdown",
   "id": "8ea57020",
   "metadata": {},
   "source": [
    "In case you keep low values of n counts in your data and only remove outliers based on say odds > 500 or so, you can avail a positive correlation but it's not trustworthy due to higher volatility of odds for low values of count"
   ]
  },
  {
   "cell_type": "markdown",
   "id": "bf262af2",
   "metadata": {},
   "source": [
    "[Q7 13 points] Overall predicted odds"
   ]
  },
  {
   "cell_type": "code",
   "execution_count": 37,
   "id": "1d841d75",
   "metadata": {},
   "outputs": [],
   "source": [
    "#Extract top 25 percentile of raters from rater goodness since it already includes all raters with atleast 1 gold rater\n",
    "top_25_raters_df = rater_goodness[rater_goodness['count'] > rater_goodness['count'].quantile(0.75)].reset_index()\n",
    "\n",
    "#Merge df with labels unknown  -- inner join would directly filter out data for all relevant turks\n",
    "labelsunknown_top25 = labelsunknown.merge(top_25_raters_df[['turk','count','odds']],on=\"turk\")\n",
    "\n",
    "#Summarize prod of odds by groupby on label unknown url and category\n",
    "labelsunknown_top25_summ = labelsunknown_top25.groupby(['url','category'])[['odds']].prod()"
   ]
  },
  {
   "cell_type": "code",
   "execution_count": 38,
   "id": "a960a775",
   "metadata": {
    "scrolled": false
   },
   "outputs": [
    {
     "data": {
      "text/html": [
       "<div>\n",
       "<style scoped>\n",
       "    .dataframe tbody tr th:only-of-type {\n",
       "        vertical-align: middle;\n",
       "    }\n",
       "\n",
       "    .dataframe tbody tr th {\n",
       "        vertical-align: top;\n",
       "    }\n",
       "\n",
       "    .dataframe thead th {\n",
       "        text-align: right;\n",
       "    }\n",
       "</style>\n",
       "<table border=\"1\" class=\"dataframe\">\n",
       "  <thead>\n",
       "    <tr style=\"text-align: right;\">\n",
       "      <th></th>\n",
       "      <th></th>\n",
       "      <th>odds</th>\n",
       "    </tr>\n",
       "    <tr>\n",
       "      <th>url</th>\n",
       "      <th>category</th>\n",
       "      <th></th>\n",
       "    </tr>\n",
       "  </thead>\n",
       "  <tbody>\n",
       "    <tr>\n",
       "      <th>http://0-101.net</th>\n",
       "      <th>G</th>\n",
       "      <td>2.297658</td>\n",
       "    </tr>\n",
       "    <tr>\n",
       "      <th>http://000.cc</th>\n",
       "      <th>G</th>\n",
       "      <td>1.485507</td>\n",
       "    </tr>\n",
       "    <tr>\n",
       "      <th>http://0000.jp</th>\n",
       "      <th>G</th>\n",
       "      <td>14.339220</td>\n",
       "    </tr>\n",
       "    <tr>\n",
       "      <th rowspan=\"2\" valign=\"top\">http://000relationships.com</th>\n",
       "      <th>G</th>\n",
       "      <td>3.842040</td>\n",
       "    </tr>\n",
       "    <tr>\n",
       "      <th>P</th>\n",
       "      <td>1.851852</td>\n",
       "    </tr>\n",
       "    <tr>\n",
       "      <th>...</th>\n",
       "      <th>...</th>\n",
       "      <td>...</td>\n",
       "    </tr>\n",
       "    <tr>\n",
       "      <th>http://zynga.com</th>\n",
       "      <th>G</th>\n",
       "      <td>3.666515</td>\n",
       "    </tr>\n",
       "    <tr>\n",
       "      <th rowspan=\"2\" valign=\"top\">http://zz868.com</th>\n",
       "      <th>G</th>\n",
       "      <td>1.047872</td>\n",
       "    </tr>\n",
       "    <tr>\n",
       "      <th>P</th>\n",
       "      <td>1.851852</td>\n",
       "    </tr>\n",
       "    <tr>\n",
       "      <th rowspan=\"2\" valign=\"top\">http://zzx.cc</th>\n",
       "      <th>G</th>\n",
       "      <td>1.417641</td>\n",
       "    </tr>\n",
       "    <tr>\n",
       "      <th>X</th>\n",
       "      <td>1.620762</td>\n",
       "    </tr>\n",
       "  </tbody>\n",
       "</table>\n",
       "<p>13983 rows × 1 columns</p>\n",
       "</div>"
      ],
      "text/plain": [
       "                                           odds\n",
       "url                         category           \n",
       "http://0-101.net            G          2.297658\n",
       "http://000.cc               G          1.485507\n",
       "http://0000.jp              G         14.339220\n",
       "http://000relationships.com G          3.842040\n",
       "                            P          1.851852\n",
       "...                                         ...\n",
       "http://zynga.com            G          3.666515\n",
       "http://zz868.com            G          1.047872\n",
       "                            P          1.851852\n",
       "http://zzx.cc               G          1.417641\n",
       "                            X          1.620762\n",
       "\n",
       "[13983 rows x 1 columns]"
      ]
     },
     "execution_count": 38,
     "metadata": {},
     "output_type": "execute_result"
    }
   ],
   "source": [
    "labelsunknown_top25_summ"
   ]
  },
  {
   "cell_type": "markdown",
   "id": "4b112d2b",
   "metadata": {},
   "source": [
    "Above grouped table shows necessary output with all label unknown url and categories groupes and juxtaposed with corresponding product of odds of reliables turks."
   ]
  },
  {
   "cell_type": "markdown",
   "id": "a0903720",
   "metadata": {},
   "source": [
    "[Q8 13 points] Predicted categories"
   ]
  },
  {
   "cell_type": "code",
   "execution_count": 39,
   "id": "54ceb681",
   "metadata": {},
   "outputs": [
    {
     "data": {
      "text/html": [
       "<div>\n",
       "<style scoped>\n",
       "    .dataframe tbody tr th:only-of-type {\n",
       "        vertical-align: middle;\n",
       "    }\n",
       "\n",
       "    .dataframe tbody tr th {\n",
       "        vertical-align: top;\n",
       "    }\n",
       "\n",
       "    .dataframe thead th {\n",
       "        text-align: right;\n",
       "    }\n",
       "</style>\n",
       "<table border=\"1\" class=\"dataframe\">\n",
       "  <thead>\n",
       "    <tr style=\"text-align: right;\">\n",
       "      <th></th>\n",
       "      <th></th>\n",
       "      <th>odds</th>\n",
       "    </tr>\n",
       "    <tr>\n",
       "      <th>url</th>\n",
       "      <th>category</th>\n",
       "      <th></th>\n",
       "    </tr>\n",
       "  </thead>\n",
       "  <tbody>\n",
       "    <tr>\n",
       "      <th>http://0-101.net</th>\n",
       "      <th>G</th>\n",
       "      <td>2.297658</td>\n",
       "    </tr>\n",
       "    <tr>\n",
       "      <th>http://000.cc</th>\n",
       "      <th>G</th>\n",
       "      <td>1.485507</td>\n",
       "    </tr>\n",
       "    <tr>\n",
       "      <th>http://0000.jp</th>\n",
       "      <th>G</th>\n",
       "      <td>14.339220</td>\n",
       "    </tr>\n",
       "    <tr>\n",
       "      <th rowspan=\"2\" valign=\"top\">http://000relationships.com</th>\n",
       "      <th>G</th>\n",
       "      <td>3.842040</td>\n",
       "    </tr>\n",
       "    <tr>\n",
       "      <th>P</th>\n",
       "      <td>1.851852</td>\n",
       "    </tr>\n",
       "    <tr>\n",
       "      <th>...</th>\n",
       "      <th>...</th>\n",
       "      <td>...</td>\n",
       "    </tr>\n",
       "    <tr>\n",
       "      <th>http://zynga.com</th>\n",
       "      <th>G</th>\n",
       "      <td>3.666515</td>\n",
       "    </tr>\n",
       "    <tr>\n",
       "      <th rowspan=\"2\" valign=\"top\">http://zz868.com</th>\n",
       "      <th>G</th>\n",
       "      <td>1.047872</td>\n",
       "    </tr>\n",
       "    <tr>\n",
       "      <th>P</th>\n",
       "      <td>1.851852</td>\n",
       "    </tr>\n",
       "    <tr>\n",
       "      <th rowspan=\"2\" valign=\"top\">http://zzx.cc</th>\n",
       "      <th>G</th>\n",
       "      <td>1.417641</td>\n",
       "    </tr>\n",
       "    <tr>\n",
       "      <th>X</th>\n",
       "      <td>1.620762</td>\n",
       "    </tr>\n",
       "  </tbody>\n",
       "</table>\n",
       "<p>13983 rows × 1 columns</p>\n",
       "</div>"
      ],
      "text/plain": [
       "                                           odds\n",
       "url                         category           \n",
       "http://0-101.net            G          2.297658\n",
       "http://000.cc               G          1.485507\n",
       "http://0000.jp              G         14.339220\n",
       "http://000relationships.com G          3.842040\n",
       "                            P          1.851852\n",
       "...                                         ...\n",
       "http://zynga.com            G          3.666515\n",
       "http://zz868.com            G          1.047872\n",
       "                            P          1.851852\n",
       "http://zzx.cc               G          1.417641\n",
       "                            X          1.620762\n",
       "\n",
       "[13983 rows x 1 columns]"
      ]
     },
     "execution_count": 39,
     "metadata": {},
     "output_type": "execute_result"
    }
   ],
   "source": [
    "labelsunknown_top25_summ"
   ]
  },
  {
   "cell_type": "code",
   "execution_count": 40,
   "id": "43239fec",
   "metadata": {},
   "outputs": [],
   "source": [
    "#Reset index to make indices into columns\n",
    "labelsunknown_top25_summ_ri = labelsunknown_top25_summ.reset_index()"
   ]
  },
  {
   "cell_type": "code",
   "execution_count": 41,
   "id": "67fb462a",
   "metadata": {},
   "outputs": [],
   "source": [
    "#Add a column of max per grouped segment\n",
    "labelsunknown_top25_summ_ri['odds_max'] = labelsunknown_top25_summ_ri.groupby(['url'])['odds'].transform(max)"
   ]
  },
  {
   "cell_type": "code",
   "execution_count": 42,
   "id": "d14095c3",
   "metadata": {},
   "outputs": [
    {
     "data": {
      "text/html": [
       "<div>\n",
       "<style scoped>\n",
       "    .dataframe tbody tr th:only-of-type {\n",
       "        vertical-align: middle;\n",
       "    }\n",
       "\n",
       "    .dataframe tbody tr th {\n",
       "        vertical-align: top;\n",
       "    }\n",
       "\n",
       "    .dataframe thead th {\n",
       "        text-align: right;\n",
       "    }\n",
       "</style>\n",
       "<table border=\"1\" class=\"dataframe\">\n",
       "  <thead>\n",
       "    <tr style=\"text-align: right;\">\n",
       "      <th></th>\n",
       "      <th>url</th>\n",
       "      <th>category</th>\n",
       "      <th>odds</th>\n",
       "      <th>odds_max</th>\n",
       "    </tr>\n",
       "  </thead>\n",
       "  <tbody>\n",
       "    <tr>\n",
       "      <th>0</th>\n",
       "      <td>http://0-101.net</td>\n",
       "      <td>G</td>\n",
       "      <td>2.297658</td>\n",
       "      <td>2.297658</td>\n",
       "    </tr>\n",
       "    <tr>\n",
       "      <th>1</th>\n",
       "      <td>http://000.cc</td>\n",
       "      <td>G</td>\n",
       "      <td>1.485507</td>\n",
       "      <td>1.485507</td>\n",
       "    </tr>\n",
       "    <tr>\n",
       "      <th>2</th>\n",
       "      <td>http://0000.jp</td>\n",
       "      <td>G</td>\n",
       "      <td>14.339220</td>\n",
       "      <td>14.339220</td>\n",
       "    </tr>\n",
       "    <tr>\n",
       "      <th>3</th>\n",
       "      <td>http://000relationships.com</td>\n",
       "      <td>G</td>\n",
       "      <td>3.842040</td>\n",
       "      <td>3.842040</td>\n",
       "    </tr>\n",
       "    <tr>\n",
       "      <th>4</th>\n",
       "      <td>http://000relationships.com</td>\n",
       "      <td>P</td>\n",
       "      <td>1.851852</td>\n",
       "      <td>3.842040</td>\n",
       "    </tr>\n",
       "    <tr>\n",
       "      <th>...</th>\n",
       "      <td>...</td>\n",
       "      <td>...</td>\n",
       "      <td>...</td>\n",
       "      <td>...</td>\n",
       "    </tr>\n",
       "    <tr>\n",
       "      <th>13978</th>\n",
       "      <td>http://zynga.com</td>\n",
       "      <td>G</td>\n",
       "      <td>3.666515</td>\n",
       "      <td>3.666515</td>\n",
       "    </tr>\n",
       "    <tr>\n",
       "      <th>13979</th>\n",
       "      <td>http://zz868.com</td>\n",
       "      <td>G</td>\n",
       "      <td>1.047872</td>\n",
       "      <td>1.851852</td>\n",
       "    </tr>\n",
       "    <tr>\n",
       "      <th>13980</th>\n",
       "      <td>http://zz868.com</td>\n",
       "      <td>P</td>\n",
       "      <td>1.851852</td>\n",
       "      <td>1.851852</td>\n",
       "    </tr>\n",
       "    <tr>\n",
       "      <th>13981</th>\n",
       "      <td>http://zzx.cc</td>\n",
       "      <td>G</td>\n",
       "      <td>1.417641</td>\n",
       "      <td>1.620762</td>\n",
       "    </tr>\n",
       "    <tr>\n",
       "      <th>13982</th>\n",
       "      <td>http://zzx.cc</td>\n",
       "      <td>X</td>\n",
       "      <td>1.620762</td>\n",
       "      <td>1.620762</td>\n",
       "    </tr>\n",
       "  </tbody>\n",
       "</table>\n",
       "<p>13983 rows × 4 columns</p>\n",
       "</div>"
      ],
      "text/plain": [
       "                               url category       odds   odds_max\n",
       "0                 http://0-101.net        G   2.297658   2.297658\n",
       "1                    http://000.cc        G   1.485507   1.485507\n",
       "2                   http://0000.jp        G  14.339220  14.339220\n",
       "3      http://000relationships.com        G   3.842040   3.842040\n",
       "4      http://000relationships.com        P   1.851852   3.842040\n",
       "...                            ...      ...        ...        ...\n",
       "13978             http://zynga.com        G   3.666515   3.666515\n",
       "13979             http://zz868.com        G   1.047872   1.851852\n",
       "13980             http://zz868.com        P   1.851852   1.851852\n",
       "13981                http://zzx.cc        G   1.417641   1.620762\n",
       "13982                http://zzx.cc        X   1.620762   1.620762\n",
       "\n",
       "[13983 rows x 4 columns]"
      ]
     },
     "execution_count": 42,
     "metadata": {},
     "output_type": "execute_result"
    }
   ],
   "source": [
    "#Subset values where odds = max.odds\n",
    "(labelsunknown_top25_summ_ri)"
   ]
  },
  {
   "cell_type": "code",
   "execution_count": 45,
   "id": "6cf7c410",
   "metadata": {},
   "outputs": [
    {
     "data": {
      "text/html": [
       "<div>\n",
       "<style scoped>\n",
       "    .dataframe tbody tr th:only-of-type {\n",
       "        vertical-align: middle;\n",
       "    }\n",
       "\n",
       "    .dataframe tbody tr th {\n",
       "        vertical-align: top;\n",
       "    }\n",
       "\n",
       "    .dataframe thead th {\n",
       "        text-align: right;\n",
       "    }\n",
       "</style>\n",
       "<table border=\"1\" class=\"dataframe\">\n",
       "  <thead>\n",
       "    <tr style=\"text-align: right;\">\n",
       "      <th></th>\n",
       "      <th>url</th>\n",
       "      <th>category</th>\n",
       "      <th>odds</th>\n",
       "      <th>odds_max</th>\n",
       "    </tr>\n",
       "  </thead>\n",
       "  <tbody>\n",
       "    <tr>\n",
       "      <th>0</th>\n",
       "      <td>http://0-101.net</td>\n",
       "      <td>G</td>\n",
       "      <td>2.297658</td>\n",
       "      <td>2.297658</td>\n",
       "    </tr>\n",
       "    <tr>\n",
       "      <th>1</th>\n",
       "      <td>http://000.cc</td>\n",
       "      <td>G</td>\n",
       "      <td>1.485507</td>\n",
       "      <td>1.485507</td>\n",
       "    </tr>\n",
       "    <tr>\n",
       "      <th>2</th>\n",
       "      <td>http://0000.jp</td>\n",
       "      <td>G</td>\n",
       "      <td>14.339220</td>\n",
       "      <td>14.339220</td>\n",
       "    </tr>\n",
       "    <tr>\n",
       "      <th>3</th>\n",
       "      <td>http://000relationships.com</td>\n",
       "      <td>G</td>\n",
       "      <td>3.842040</td>\n",
       "      <td>3.842040</td>\n",
       "    </tr>\n",
       "    <tr>\n",
       "      <th>5</th>\n",
       "      <td>http://000vitamins.com</td>\n",
       "      <td>G</td>\n",
       "      <td>4.033669</td>\n",
       "      <td>4.033669</td>\n",
       "    </tr>\n",
       "    <tr>\n",
       "      <th>...</th>\n",
       "      <td>...</td>\n",
       "      <td>...</td>\n",
       "      <td>...</td>\n",
       "      <td>...</td>\n",
       "    </tr>\n",
       "    <tr>\n",
       "      <th>13976</th>\n",
       "      <td>http://zwinky.com</td>\n",
       "      <td>G</td>\n",
       "      <td>17.201518</td>\n",
       "      <td>17.201518</td>\n",
       "    </tr>\n",
       "    <tr>\n",
       "      <th>13977</th>\n",
       "      <td>http://zylom.com</td>\n",
       "      <td>G</td>\n",
       "      <td>1.849595</td>\n",
       "      <td>1.849595</td>\n",
       "    </tr>\n",
       "    <tr>\n",
       "      <th>13978</th>\n",
       "      <td>http://zynga.com</td>\n",
       "      <td>G</td>\n",
       "      <td>3.666515</td>\n",
       "      <td>3.666515</td>\n",
       "    </tr>\n",
       "    <tr>\n",
       "      <th>13980</th>\n",
       "      <td>http://zz868.com</td>\n",
       "      <td>P</td>\n",
       "      <td>1.851852</td>\n",
       "      <td>1.851852</td>\n",
       "    </tr>\n",
       "    <tr>\n",
       "      <th>13982</th>\n",
       "      <td>http://zzx.cc</td>\n",
       "      <td>X</td>\n",
       "      <td>1.620762</td>\n",
       "      <td>1.620762</td>\n",
       "    </tr>\n",
       "  </tbody>\n",
       "</table>\n",
       "<p>10615 rows × 4 columns</p>\n",
       "</div>"
      ],
      "text/plain": [
       "                               url category       odds   odds_max\n",
       "0                 http://0-101.net        G   2.297658   2.297658\n",
       "1                    http://000.cc        G   1.485507   1.485507\n",
       "2                   http://0000.jp        G  14.339220  14.339220\n",
       "3      http://000relationships.com        G   3.842040   3.842040\n",
       "5           http://000vitamins.com        G   4.033669   4.033669\n",
       "...                            ...      ...        ...        ...\n",
       "13976            http://zwinky.com        G  17.201518  17.201518\n",
       "13977             http://zylom.com        G   1.849595   1.849595\n",
       "13978             http://zynga.com        G   3.666515   3.666515\n",
       "13980             http://zz868.com        P   1.851852   1.851852\n",
       "13982                http://zzx.cc        X   1.620762   1.620762\n",
       "\n",
       "[10615 rows x 4 columns]"
      ]
     },
     "execution_count": 45,
     "metadata": {},
     "output_type": "execute_result"
    }
   ],
   "source": [
    "#Subset where odds = max odds\n",
    "result75 = labelsunknown_top25_summ_ri[labelsunknown_top25_summ_ri['odds'] == labelsunknown_top25_summ_ri['odds_max']]\n",
    "result75"
   ]
  },
  {
   "cell_type": "markdown",
   "id": "d5ed74ea",
   "metadata": {},
   "source": [
    "[Q9 14 points] Predicted categories using more turks"
   ]
  },
  {
   "cell_type": "code",
   "execution_count": null,
   "id": "b362bb8a",
   "metadata": {},
   "outputs": [],
   "source": [
    "#Extract top 25 percentile of raters from rater goodness since it already includes all raters with atleast 1 gold rater\n",
    "top_25_raters_df = rater_goodness[rater_goodness['count'] > rater_goodness['count'].quantile(0.75)].reset_index()\n",
    "\n",
    "#Merge df with labels unknown  -- inner join would directly filter out data for all relevant turks\n",
    "labelsunknown_top25 = labelsunknown.merge(top_25_raters_df[['turk','count','odds']],on=\"turk\")\n",
    "\n",
    "#Summarize prod of odds by groupby on label unknown url and category\n",
    "labelsunknown_top25_summ = labelsunknown_top25.groupby(['url','category'])[['odds']].prod()\n",
    "\n",
    "#Reset index to make indices into columns\n",
    "labelsunknown_top25_summ_ri = labelsunknown_top25_summ.reset_index()"
   ]
  }
 ],
 "metadata": {
  "kernelspec": {
   "display_name": "Python 3",
   "language": "python",
   "name": "python3"
  },
  "language_info": {
   "codemirror_mode": {
    "name": "ipython",
    "version": 3
   },
   "file_extension": ".py",
   "mimetype": "text/x-python",
   "name": "python",
   "nbconvert_exporter": "python",
   "pygments_lexer": "ipython3",
   "version": "3.8.8"
  }
 },
 "nbformat": 4,
 "nbformat_minor": 5
}
