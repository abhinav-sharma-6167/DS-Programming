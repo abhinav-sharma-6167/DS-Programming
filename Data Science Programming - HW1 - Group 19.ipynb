{
 "cells": [
  {
   "cell_type": "markdown",
   "metadata": {},
   "source": [
    "# Authors: Abhinav Sharma, Conoly Cravens, and Christian Alfanso"
   ]
  },
  {
   "cell_type": "markdown",
   "metadata": {},
   "source": [
    "## Document Setup"
   ]
  },
  {
   "cell_type": "code",
   "execution_count": 1,
   "metadata": {},
   "outputs": [],
   "source": [
    "import pandas as pd\n",
    "from pandas import Series, DataFrame"
   ]
  },
  {
   "cell_type": "code",
   "execution_count": 2,
   "metadata": {},
   "outputs": [],
   "source": [
    "import numpy as np\n",
    "import random\n",
    "from statistics import *"
   ]
  },
  {
   "cell_type": "code",
   "execution_count": 3,
   "metadata": {},
   "outputs": [],
   "source": [
    "import re\n",
    "import math"
   ]
  },
  {
   "cell_type": "markdown",
   "metadata": {},
   "source": [
    "## 1. Computer -  Rock Paper Scissors"
   ]
  },
  {
   "cell_type": "markdown",
   "metadata": {},
   "source": [
    "### Game Functions"
   ]
  },
  {
   "cell_type": "markdown",
   "metadata": {},
   "source": [
    "#### COMPUTER BRAINS - make decision off of human's historic choices. "
   ]
  },
  {
   "cell_type": "code",
   "execution_count": 4,
   "metadata": {},
   "outputs": [],
   "source": [
    "def computer_play(choices,human_choices):\n",
    "    \"\"\"This function serves as the computer 'brains.' It decides what the computer plays'\"\"\"\n",
    "    \n",
    "    #if there is no historic data, computer chooses at random\n",
    "    if sum(human_choices) == 0:\n",
    "        play = random.choice(choices)\n",
    "    \n",
    "    #if there is historic data on human plan, computer will choose based on that\n",
    "    \n",
    "    else:\n",
    "        max_value = max(human_choices)     #what is the most common human choice so far\n",
    "        \n",
    "        #NOTE: human_choices list = [rock,paper,scissors]\n",
    "        #make list of indexes of options the human has chosen most often\n",
    "        human_guess = [i for i in range(len(human_choices)) if human_choices[i] == max_value]\n",
    "        \n",
    "        #of the most popular historic choices, computer chooses one at random to 'play' against\n",
    "        human_guess = random.choice(human_guess)\n",
    "        \n",
    "        #computer plays what they think will win\n",
    "        if human_guess == 0:\n",
    "            play = 'paper'\n",
    "        elif human_guess == 1:\n",
    "            play = 'scissors'\n",
    "        else:\n",
    "            play = 'rock'\n",
    "            \n",
    "    #function returns computer choice\n",
    "    return play"
   ]
  },
  {
   "cell_type": "markdown",
   "metadata": {},
   "source": [
    "#### HUMAN PLAY - function asks human what they want to play (and validates it)"
   ]
  },
  {
   "cell_type": "code",
   "execution_count": 5,
   "metadata": {},
   "outputs": [],
   "source": [
    "def person_play():\n",
    "    \"\"\"This function asks and validate the human choice\"\"\"\n",
    "    \n",
    "    #trigger for while loop\n",
    "    player = False\n",
    "    \n",
    "    \n",
    "    while player == False:\n",
    "        play = input(\"Rock, Paper, Scissors? or Quit?\")     #asks user if they want to play or quit\n",
    "        play = play.lower()     #takes user input and makes everything lowercase\n",
    "        \n",
    "        #validation\n",
    "        if play not in ('rock','paper','scissors','quit'):\n",
    "            print('Invalid Input. Try again!')     #if user did not input rock, paper, scissors, or quit - send error\n",
    "        else:\n",
    "            player = True     #if input is valid, exit while loop\n",
    "    \n",
    "    #function returns human choice\n",
    "    return play"
   ]
  },
  {
   "cell_type": "markdown",
   "metadata": {},
   "source": [
    "#### RECORD FUNCTIONS - these two functions record game historics"
   ]
  },
  {
   "cell_type": "code",
   "execution_count": 6,
   "metadata": {},
   "outputs": [],
   "source": [
    "#record human choice to feed into computer brains in list form\n",
    "#NOTE: human choice lists = [rock,paper,scissors]\n",
    "def record_human_choice(choice,choice_list):\n",
    "    if choice == 'rock':\n",
    "        choice_list[0]+=1\n",
    "    elif choice == 'paper':\n",
    "        choice_list[1]+=1\n",
    "    else:\n",
    "        choice_list[2]+=1\n",
    "    \n",
    "    #function returns updated list\n",
    "    return choice_list\n",
    "\n",
    "#Keep tracks of game winner in list form\n",
    "#NOTE: winner list = [total games, tie game, human wins, computer wins]\n",
    "def record_game_winner(computer,human,winner_list):\n",
    "    winner_list[0]+= 1     #no matter what the outcome is, we need to add one to total games\n",
    "    \n",
    "    #if human and computer chose the same, it's a tie!\n",
    "    if computer == human:\n",
    "        winner_list[1]+=1\n",
    "        print(\"It's a draw! We both chose\",human)\n",
    "       \n",
    "    #if human chooses rock...\n",
    "    elif human == 'rock':\n",
    "        if computer == 'paper':     #computer wins if it chose paper\n",
    "            winner_list[3]+=1\n",
    "            print(\"I win!\",computer,'covers',human)\n",
    "            \n",
    "        else:\n",
    "            winner_list[2]+=1     #otherwise, human wins (becuase tie game has already been taken care of)\n",
    "            print(\"You win!\",human,'smashes',computer)\n",
    "    \n",
    "    #if human chooses scissors\n",
    "    elif human == 'scissors':\n",
    "        \n",
    "        if computer == 'rock':     #computer wins if it chose rock\n",
    "            winner_list[3]+=1\n",
    "            print(\"I win!\",computer,'smashes',human)\n",
    "            \n",
    "        else:\n",
    "            winner_list[2]+=1      #otherwise, human wins (because tie game has already been taken care of)\n",
    "            print(\"You win!\",human,'cuts up',computer)\n",
    "    \n",
    "    #if human chooses paper...\n",
    "    elif human == 'paper':\n",
    "        if computer == 'scissors':     #computer wins if it chose scissors \n",
    "            winner_list[3]+=1\n",
    "            print(\"I win!\",computer,'cuts up',human)\n",
    "            \n",
    "        else:\n",
    "            winner_list[2]+=1      #oterwise, human wins (becuase tie game has already been taken care of)\n",
    "            print(\"You win!\",human,'covers',computer)\n",
    "    \n",
    "    #function returns winning list\n",
    "    return winner_list"
   ]
  },
  {
   "cell_type": "markdown",
   "metadata": {},
   "source": [
    "#### Main Function"
   ]
  },
  {
   "cell_type": "code",
   "execution_count": 7,
   "metadata": {},
   "outputs": [
    {
     "name": "stdout",
     "output_type": "stream",
     "text": [
      "Rock, Paper, Scissors? or Quit?Rock\n",
      "You win! rock smashes scissors\n",
      "Rock, Paper, Scissors? or Quit?Paper\n",
      "It's a draw! We both chose paper\n",
      "Rock, Paper, Scissors? or Quit?Paper\n",
      "It's a draw! We both chose paper\n",
      "Rock, Paper, Scissors? or Quit?Rock\n",
      "You win! rock smashes scissors\n",
      "Rock, Paper, Scissors? or Quit?Scissors\n",
      "You win! scissors cuts up paper\n",
      "Rock, Paper, Scissors? or Quit?Quit\n",
      "We played 5 games and you won 3\n"
     ]
    }
   ],
   "source": [
    "def main():\n",
    "    \n",
    "    #set controls - possible choices, historic human choices, game historics\n",
    "    possible_choices = ['rock','paper','scissors']\n",
    "    human_choices = [0,0,0] #rock,paper,scissors\n",
    "    game_count = [0,0,0,0] #total, tie, computer, human\n",
    "    \n",
    "    #trigger for while loop\n",
    "    again = True\n",
    "    \n",
    "    #we go until human says to quit\n",
    "    while again:\n",
    "        \n",
    "        #computer chooses using function\n",
    "        computer_choice = computer_play(possible_choices,human_choices)\n",
    "        \n",
    "        #human chooses option\n",
    "        human_choice = person_play()\n",
    "        \n",
    "        #if human says to quit, we print summary and end game\n",
    "        if human_choice == 'quit':\n",
    "            print('We played',game_count[0],'games and you won',game_count[2])\n",
    "            again = False\n",
    "        \n",
    "        #otherwise, we record game winner + choice for game to feed into computer brains\n",
    "        else:\n",
    "            record_game_winner(computer_choice,human_choice,game_count)\n",
    "            record_human_choice(human_choice,human_choices)\n",
    "\n",
    "#calls main function\n",
    "main()"
   ]
  },
  {
   "cell_type": "markdown",
   "metadata": {},
   "source": [
    "## 2. Voters in Florida"
   ]
  },
  {
   "cell_type": "code",
   "execution_count": 8,
   "metadata": {
    "scrolled": false
   },
   "outputs": [],
   "source": [
    "#Reads HTML file into an object \n",
    "fl_file = open(\"FloridaVoters.html\", \"r\")\n",
    "txt_file = fl_file.read()\n",
    "fl_file.close()"
   ]
  },
  {
   "cell_type": "markdown",
   "metadata": {},
   "source": [
    "##### Find pattern of table in HTML text\n",
    "*Pattern Example*\n",
    "<tr>\n",
    "<td>ALACHUA</td>\n",
    "<td>47,329</td>\n",
    "<td>77,996</td>\n",
    "<td>3,864</td>\n",
    "<td>34,116</td>\n",
    "<td>163,305</td>\n",
    "</tr>\n",
    "\n",
    "*Regex Pattern:*\n",
    "<tr>                    #START\n",
    "<td>[\\w\\s\\.-]* </td>    #Country Name - note potential - and .\n",
    "<td> [\\w,]* </td>       #REPUBLICAN - note the comma\n",
    "<td>[\\w,]*</td>         #DEMOCRAT - note the comma\n",
    "<td>[\\w,]*</td>         #MINOR - note the comma\n",
    "<td>[\\w,]*</td>         #NONE - note the comma\n",
    "<td>[\\w,]*</td>         #TOTAL - note the comma\n",
    "</tr>                   #END"
   ]
  },
  {
   "cell_type": "code",
   "execution_count": 9,
   "metadata": {},
   "outputs": [],
   "source": [
    "txt_filt = re.findall(r'<tr>\\n<td>[\\w\\s\\.-]*</td>\\n<td>[\\w,]*</td>\\n<td>[\\w,]*</td>\\n<td>[\\w,]*</td>\\n<td>[\\w,]*</td>\\n<td>[\\w,]*</td>\\n</tr>', txt_file)"
   ]
  },
  {
   "cell_type": "code",
   "execution_count": 10,
   "metadata": {},
   "outputs": [],
   "source": [
    "#Can use this to check number of 'items' it finds in in text file\n",
    "#len(txt_filt)"
   ]
  },
  {
   "cell_type": "code",
   "execution_count": 11,
   "metadata": {},
   "outputs": [],
   "source": [
    "#Can use this to demonstrate one of the items in the list we found\n",
    "#txt_filt[0]"
   ]
  },
  {
   "cell_type": "markdown",
   "metadata": {},
   "source": [
    "#### Breaks out the table into lists of countries, republicans and democrats"
   ]
  },
  {
   "cell_type": "code",
   "execution_count": 12,
   "metadata": {},
   "outputs": [],
   "source": [
    "txt_filt_county = [re.findall(r'<tr>\\n<td>[\\w\\s\\.-]*</td>',element) for element in txt_filt]\n",
    "#len(txt_filt_county)"
   ]
  },
  {
   "cell_type": "code",
   "execution_count": 13,
   "metadata": {
    "scrolled": true
   },
   "outputs": [],
   "source": [
    "txt_filt_county2 = [re.findall(r'<tr>\\n<td>[\\w\\s\\.-]*</td>',element) for element in txt_filt]\n",
    "#txt_filt_county2[0:10]"
   ]
  },
  {
   "cell_type": "code",
   "execution_count": 14,
   "metadata": {},
   "outputs": [],
   "source": [
    "#brings each county data into a list\n",
    "txt_filt_values = [re.findall(r'/td>\\n<td>[\\w,]*<',element) for element in txt_filt]\n",
    "#print(txt_filt_values)"
   ]
  },
  {
   "cell_type": "markdown",
   "metadata": {},
   "source": [
    "#### Create lists for republican and democrat voter counts"
   ]
  },
  {
   "cell_type": "code",
   "execution_count": 15,
   "metadata": {},
   "outputs": [],
   "source": [
    "txt_filt_rep = []\n",
    "txt_filt_dem = []\n",
    "\n",
    "for i in range(len(txt_filt_values)):    #for every element in values list (aka every county)\n",
    "    txt_filt_rep.append(txt_filt_values[i][0])     #add the first data value (republican voters) to republican list\n",
    "    txt_filt_dem.append(txt_filt_values[i][1])     #add the second data value (democrats voters) to democrat list"
   ]
  },
  {
   "cell_type": "code",
   "execution_count": 16,
   "metadata": {},
   "outputs": [],
   "source": [
    "#For check - showing first 10 republican voter counts in list\n",
    "#txt_filt_rep[0:10]"
   ]
  },
  {
   "cell_type": "markdown",
   "metadata": {},
   "source": [
    "#### CLEAN STRING FUNCTION - pull out digits and ignore commas"
   ]
  },
  {
   "cell_type": "code",
   "execution_count": 17,
   "metadata": {},
   "outputs": [],
   "source": [
    "def cleanStrings(original_list):\n",
    "    \"\"\"This function cleans the voter numbers so they are recorded as integers\"\"\"\n",
    "    \n",
    "    #take original list and find all the digits (note: each digit will be a different element in a list)\n",
    "    clean_list = [re.findall('\\d', element) for element in  original_list]\n",
    "    \n",
    "    #join elements since digits will be extracted separately\n",
    "    joined_list = [''.join(element) for element in clean_list]\n",
    "    \n",
    "    #make sure every number is an integer\n",
    "    for i in range (0,len(joined_list)):\n",
    "        joined_list[i] = int(joined_list[i])\n",
    "        \n",
    "    #return join list\n",
    "    return joined_list\n",
    "\n",
    "#define republican and democrat final lists\n",
    "rep_list=cleanStrings(txt_filt_rep)\n",
    "dem_list=cleanStrings(txt_filt_dem)"
   ]
  },
  {
   "cell_type": "code",
   "execution_count": 18,
   "metadata": {},
   "outputs": [],
   "source": [
    "#Can use to check first ten elements in republican list\n",
    "#rep_list[0:10]"
   ]
  },
  {
   "cell_type": "code",
   "execution_count": 19,
   "metadata": {},
   "outputs": [],
   "source": [
    "#Can use to check first ten elements in democrat list\n",
    "#dem_list[0:10]"
   ]
  },
  {
   "cell_type": "markdown",
   "metadata": {},
   "source": [
    "#### Clean County Names"
   ]
  },
  {
   "cell_type": "code",
   "execution_count": 20,
   "metadata": {},
   "outputs": [],
   "source": [
    "#First, take out tags at beginning & end of line\n",
    "txt_filt_county_clean = [re.sub(\"</?t.>\",\"\",str(element)) for  element in txt_filt_county]\n",
    "#FOR HELP: txt_filt_county_clean[0:10]"
   ]
  },
  {
   "cell_type": "code",
   "execution_count": 21,
   "metadata": {},
   "outputs": [],
   "source": [
    "#Second, take out \\\\n\n",
    "txt_filt_county_clean2 = [re.sub(r'[\\[\\]\\\\n\\']*',\"\",element) for  element in txt_filt_county_clean]"
   ]
  },
  {
   "cell_type": "code",
   "execution_count": 22,
   "metadata": {},
   "outputs": [],
   "source": [
    "#To check\n",
    "#txt_filt_county_clean2[0:10]"
   ]
  },
  {
   "cell_type": "markdown",
   "metadata": {},
   "source": [
    "#### Combine to a list of tuples and sort based on democrat values"
   ]
  },
  {
   "cell_type": "code",
   "execution_count": 23,
   "metadata": {},
   "outputs": [],
   "source": [
    "full_list = list(zip(txt_filt_county_clean2,rep_list,dem_list))\n",
    "sorted_full_list = sorted(full_list, key = lambda x: x[2]) \n",
    "#sorted_full_list[0:5]"
   ]
  },
  {
   "cell_type": "markdown",
   "metadata": {},
   "source": [
    "#### Create table"
   ]
  },
  {
   "cell_type": "code",
   "execution_count": 24,
   "metadata": {},
   "outputs": [
    {
     "data": {
      "text/html": [
       "<div>\n",
       "<style scoped>\n",
       "    .dataframe tbody tr th:only-of-type {\n",
       "        vertical-align: middle;\n",
       "    }\n",
       "\n",
       "    .dataframe tbody tr th {\n",
       "        vertical-align: top;\n",
       "    }\n",
       "\n",
       "    .dataframe thead th {\n",
       "        text-align: right;\n",
       "    }\n",
       "</style>\n",
       "<table border=\"1\" class=\"dataframe\">\n",
       "  <thead>\n",
       "    <tr style=\"text-align: right;\">\n",
       "      <th></th>\n",
       "      <th>County</th>\n",
       "      <th>Republican</th>\n",
       "      <th>Democratic</th>\n",
       "    </tr>\n",
       "  </thead>\n",
       "  <tbody>\n",
       "    <tr>\n",
       "      <th>0</th>\n",
       "      <td>LAFAYETTE</td>\n",
       "      <td>1373</td>\n",
       "      <td>2672</td>\n",
       "    </tr>\n",
       "    <tr>\n",
       "      <th>1</th>\n",
       "      <td>GLADES</td>\n",
       "      <td>2190</td>\n",
       "      <td>3110</td>\n",
       "    </tr>\n",
       "    <tr>\n",
       "      <th>2</th>\n",
       "      <td>LIBERTY</td>\n",
       "      <td>720</td>\n",
       "      <td>3372</td>\n",
       "    </tr>\n",
       "    <tr>\n",
       "      <th>3</th>\n",
       "      <td>UNION</td>\n",
       "      <td>2752</td>\n",
       "      <td>3579</td>\n",
       "    </tr>\n",
       "    <tr>\n",
       "      <th>4</th>\n",
       "      <td>GILCHRIST</td>\n",
       "      <td>5789</td>\n",
       "      <td>3652</td>\n",
       "    </tr>\n",
       "    <tr>\n",
       "      <th>...</th>\n",
       "      <td>...</td>\n",
       "      <td>...</td>\n",
       "      <td>...</td>\n",
       "    </tr>\n",
       "    <tr>\n",
       "      <th>62</th>\n",
       "      <td>ORANGE</td>\n",
       "      <td>206174</td>\n",
       "      <td>303458</td>\n",
       "    </tr>\n",
       "    <tr>\n",
       "      <th>63</th>\n",
       "      <td>HILLSBOROUGH</td>\n",
       "      <td>257436</td>\n",
       "      <td>314265</td>\n",
       "    </tr>\n",
       "    <tr>\n",
       "      <th>64</th>\n",
       "      <td>PALM BEACH</td>\n",
       "      <td>245452</td>\n",
       "      <td>367236</td>\n",
       "    </tr>\n",
       "    <tr>\n",
       "      <th>65</th>\n",
       "      <td>MIAMI-DADE</td>\n",
       "      <td>362161</td>\n",
       "      <td>539367</td>\n",
       "    </tr>\n",
       "    <tr>\n",
       "      <th>66</th>\n",
       "      <td>BROWARD</td>\n",
       "      <td>249762</td>\n",
       "      <td>566185</td>\n",
       "    </tr>\n",
       "  </tbody>\n",
       "</table>\n",
       "<p>67 rows × 3 columns</p>\n",
       "</div>"
      ],
      "text/plain": [
       "          County  Republican  Democratic\n",
       "0      LAFAYETTE        1373        2672\n",
       "1         GLADES        2190        3110\n",
       "2        LIBERTY         720        3372\n",
       "3          UNION        2752        3579\n",
       "4      GILCHRIST        5789        3652\n",
       "..           ...         ...         ...\n",
       "62        ORANGE      206174      303458\n",
       "63  HILLSBOROUGH      257436      314265\n",
       "64    PALM BEACH      245452      367236\n",
       "65    MIAMI-DADE      362161      539367\n",
       "66       BROWARD      249762      566185\n",
       "\n",
       "[67 rows x 3 columns]"
      ]
     },
     "execution_count": 24,
     "metadata": {},
     "output_type": "execute_result"
    }
   ],
   "source": [
    "df = DataFrame(sorted_full_list,columns=[\"County\",\"Republican\",\"Democratic\"])\n",
    "\n",
    "#To take out total\n",
    "df.loc[df['County'] != \"Total\"]"
   ]
  },
  {
   "cell_type": "markdown",
   "metadata": {},
   "source": [
    "## 3. Near Duplicate Detection"
   ]
  },
  {
   "cell_type": "code",
   "execution_count": 25,
   "metadata": {},
   "outputs": [],
   "source": [
    "#Open and read tweets as text\n",
    "santa_file = open(\"Santa.txt\", \"r\")\n",
    "santa_text = santa_file.readlines()\n",
    "santa_file.close()"
   ]
  },
  {
   "cell_type": "markdown",
   "metadata": {},
   "source": [
    "### (a) Convert each tween into a dictionary of phrases"
   ]
  },
  {
   "cell_type": "code",
   "execution_count": 26,
   "metadata": {},
   "outputs": [],
   "source": [
    "def moving_window(tweet):\n",
    "    \"\"\"This function converts each tweet into a dictionary of phrases\"\"\"\n",
    "    \n",
    "    #Blank Dictionary\n",
    "    new_dict = {}\n",
    "    \n",
    "    #Clean & Split Tweet List\n",
    "    tweet_cleaned = re.sub(r\"\\s[^\\w]+\\s\",\" \",str(tweet))\n",
    "    split_list = tweet_cleaned.strip().split(' ')\n",
    "    \n",
    "    #Create groups of 3 phrases\n",
    "    split_list_2 =[y for y in [split_list[i:i+3] for i in range(0, len(split_list)-2)]]\n",
    "    split_list_2_joined = [' '.join(element) for element in split_list_2]\n",
    "    \n",
    "    #Add to dictionary\n",
    "    new_dict = {key:value for key, value in zip(list(set(split_list_2_joined)),[1]*len(list(set(split_list_2_joined))))}\n",
    "    \n",
    "    #Return dictionary\n",
    "    return new_dict "
   ]
  },
  {
   "cell_type": "code",
   "execution_count": 27,
   "metadata": {},
   "outputs": [],
   "source": [
    "#TO CHECK\n",
    "#moving_window(santa_text[4])"
   ]
  },
  {
   "cell_type": "markdown",
   "metadata": {},
   "source": [
    "### (b) Calculate similarty between two tweets"
   ]
  },
  {
   "cell_type": "code",
   "execution_count": 28,
   "metadata": {},
   "outputs": [],
   "source": [
    "def cosine(dict1,dict2):\n",
    "    numerator = 0\n",
    "    denominator = 0\n",
    "    \n",
    "    #Tally number of matches in tweet\n",
    "    for i in dict1.keys():\n",
    "        if i in dict2.keys():\n",
    "            numerator+=1\n",
    "    \n",
    "    #Calculate demoninator\n",
    "    n1 = len(list(dict1.keys()))\n",
    "    n2 = len(list(dict2.keys()))\n",
    "    denominator = math.sqrt(n1*n2)\n",
    "    \n",
    "    #Return similarity\n",
    "    return  numerator/denominator "
   ]
  },
  {
   "cell_type": "code",
   "execution_count": 29,
   "metadata": {},
   "outputs": [],
   "source": [
    "#CHECK\n",
    "#cosine(moving_window(santa_text[1]),moving_window(santa_text[3]))"
   ]
  },
  {
   "cell_type": "markdown",
   "metadata": {},
   "source": [
    "### (c) Read in Tweets and output near-duplicates"
   ]
  },
  {
   "cell_type": "code",
   "execution_count": 30,
   "metadata": {},
   "outputs": [],
   "source": [
    "#clean list of tweets\n",
    "santa_text_clean = [re.sub(r\"\\s[^\\w]+\\s\",\" \",str(element)) for element in santa_text]"
   ]
  },
  {
   "cell_type": "code",
   "execution_count": 31,
   "metadata": {},
   "outputs": [
    {
     "name": "stdout",
     "output_type": "stream",
     "text": [
      "List of Similar Tweets:\n",
      "Note: tweet number is NOT index\n",
      "\n",
      "Tweet 3 and Tweet 1 are similar. Their similarty (cosine) score is  0.8593378488473195 \n",
      "\n",
      "Tweet 4 and Tweet 2 are similar. Their similarty (cosine) score is  0.628970902033151 \n",
      "\n",
      "Tweet 5 and Tweet 2 are similar. Their similarty (cosine) score is  0.6837634587578276 \n",
      "\n",
      "Tweet 5 and Tweet 4 are similar. Their similarty (cosine) score is  0.8362420100070908 \n",
      "\n"
     ]
    }
   ],
   "source": [
    "#For output header\n",
    "print('List of Similar Tweets:\\nNote: tweet number is NOT index\\n')\n",
    "\n",
    "#For every tweet in cleaned list of tweets...\n",
    "for i in range(len(santa_text_clean)):\n",
    "    #compared to all previous tweets\n",
    "    for j in range(i):\n",
    "        \n",
    "        dict_1=moving_window(santa_text_clean[i])\n",
    "        dict_2=moving_window(santa_text_clean[j])\n",
    "        \n",
    "        cos=cosine(dict_1,dict_2)\n",
    "        if cos> 0.5:\n",
    "            print(\"Tweet\",i+1,\"and\",\"Tweet\",j+1,\"are similar. Their similarty (cosine) score is \",cos,\"\\n\")\n",
    "        else:\n",
    "            continue\n"
   ]
  },
  {
   "cell_type": "markdown",
   "metadata": {},
   "source": [
    "## 4. The Google of Quotes"
   ]
  },
  {
   "cell_type": "code",
   "execution_count": 32,
   "metadata": {},
   "outputs": [],
   "source": [
    "#Open and read file\n",
    "quote_file=open(\"quotes.txt\",\"r\")\n",
    "quote_text = quote_file.readlines()"
   ]
  },
  {
   "cell_type": "code",
   "execution_count": 33,
   "metadata": {},
   "outputs": [],
   "source": [
    "#NOTE: Assumption : Given quote and speaker - len will always be even\n",
    "#len(quote_text)\n",
    "#len([re.sub(r\"\\n\",\"\",str(element)) for element in quote_text])"
   ]
  },
  {
   "cell_type": "markdown",
   "metadata": {},
   "source": [
    "### (a) Build a list of full quotes"
   ]
  },
  {
   "cell_type": "code",
   "execution_count": 34,
   "metadata": {},
   "outputs": [],
   "source": [
    "#Take out \\n\n",
    "quote_text = [re.sub(r\"\\n\",\"\",str(element)) for element in quote_text]"
   ]
  },
  {
   "cell_type": "code",
   "execution_count": 35,
   "metadata": {},
   "outputs": [
    {
     "name": "stdout",
     "output_type": "stream",
     "text": [
      "How we spend our days is, of course, how we spend our lives. - Annie Dillard\n"
     ]
    }
   ],
   "source": [
    "#Combine list\n",
    "paired_list = [quote_text[i] +\" - \"+ quote_text[i+1] for i in range(0, len(quote_text)-1, 2)]\n",
    "print(paired_list[0])\n",
    "\n",
    "#TO FIX ASSUMPTION\n",
    "#if len(quote_text) % 2 == 1:\n",
    "    #paired_list.append(string_list[len(quote_text)-1])"
   ]
  },
  {
   "cell_type": "code",
   "execution_count": 36,
   "metadata": {},
   "outputs": [],
   "source": [
    "#Copies paired list to remove punctuations etc.\n",
    "#quotes_list = [paired_list[i] for i in range(0, len(paired_list)-1)]\n",
    "#quotes_list = [re.sub(r\"[`\\'\\.,-\\?%;!]\",\"\",str(element).lower()) for element in quotes_list]"
   ]
  },
  {
   "cell_type": "markdown",
   "metadata": {},
   "source": [
    "#### Function that takes a full quote as argument and outputs a list of the words"
   ]
  },
  {
   "cell_type": "code",
   "execution_count": 37,
   "metadata": {},
   "outputs": [],
   "source": [
    "def quote_words(quote):\n",
    "    \n",
    "    #Need to take away punction\n",
    "    quote = re.sub(r\"[`\\'\\.,-\\?%;!]\",\"\",str(quote).lower())\n",
    "                    \n",
    "    word_list = quote.split()\n",
    "    #Without regex of whitespaces, python strips multiple whitespaces\n",
    "    return word_list"
   ]
  },
  {
   "cell_type": "code",
   "execution_count": 38,
   "metadata": {
    "scrolled": true
   },
   "outputs": [],
   "source": [
    "#CHECK\n",
    "#quote_words(paired_list[4])\n",
    "\n",
    "#freq_dict = {key:value for key,value in zip(list(set(quote_words(paired_list[1]))),[0]*len(list(set(quote_words(paired_list[1])))))}\n",
    "#print(freq_dict)"
   ]
  },
  {
   "cell_type": "markdown",
   "metadata": {},
   "source": [
    "### (c) Buid the postings-list dictionary"
   ]
  },
  {
   "cell_type": "markdown",
   "metadata": {},
   "source": [
    "#### Function that will make dictionaries that will serve as the values in the posting-list dictionary"
   ]
  },
  {
   "cell_type": "code",
   "execution_count": 39,
   "metadata": {},
   "outputs": [],
   "source": [
    "#Have list for keys, Need list of dictionaries as values\n",
    "def Frequency(word_list):\n",
    "    \"\"\"This function tallies the word frequency in each quote\"\"\"\n",
    "    \n",
    "    # Creating an dictionary with unqiue words as keys\n",
    "    freq_dict = {key:value for key,value in zip(list(set(word_list)),[0]*len(list(set(word_list))))}\n",
    "    \n",
    "    #for every word in the list, add 1 to the value\n",
    "    for item in word_list:\n",
    "        freq_dict[item] += 1\n",
    "    \n",
    "    #return dictionary\n",
    "    return freq_dict"
   ]
  },
  {
   "cell_type": "markdown",
   "metadata": {},
   "source": [
    "#### Create a list of dictionaries"
   ]
  },
  {
   "cell_type": "code",
   "execution_count": 40,
   "metadata": {},
   "outputs": [],
   "source": [
    "dictionary_list=[Frequency(quote_words(element)) for element in paired_list]"
   ]
  },
  {
   "cell_type": "code",
   "execution_count": 41,
   "metadata": {},
   "outputs": [],
   "source": [
    "#CHECK\n",
    "#dictionary_list[0:2]"
   ]
  },
  {
   "cell_type": "code",
   "execution_count": 42,
   "metadata": {},
   "outputs": [],
   "source": [
    "#Now  we have lists for  both key and value  \n",
    "postings_dict = {key:value for key,value  in zip(paired_list,dictionary_list)}"
   ]
  },
  {
   "cell_type": "code",
   "execution_count": 43,
   "metadata": {},
   "outputs": [],
   "source": [
    "#CHECK\n",
    "#postings_dict"
   ]
  },
  {
   "cell_type": "markdown",
   "metadata": {},
   "source": [
    "### (d) Build the reverse postings-list dictionary"
   ]
  },
  {
   "cell_type": "markdown",
   "metadata": {},
   "source": [
    "#### Function that formulates a list of all unique words in all quotes"
   ]
  },
  {
   "cell_type": "code",
   "execution_count": 44,
   "metadata": {},
   "outputs": [],
   "source": [
    "def getUniqueWords(words):\n",
    "    \"\"\"This function gets a list of every unique word in all of the quotes\"\"\"\n",
    "    \n",
    "    #Blank list\n",
    "    unique_words = [] \n",
    "    \n",
    "    #For every word in every quote, only write word to unique words list if not already there\n",
    "    for i in words:\n",
    "        if not i in unique_words:\n",
    "            unique_words.append(i)\n",
    "    \n",
    "    #return unique words\n",
    "    return unique_words"
   ]
  },
  {
   "cell_type": "markdown",
   "metadata": {},
   "source": [
    "##### Now making list of every word in every quote to feed the getUniqueWords function"
   ]
  },
  {
   "cell_type": "code",
   "execution_count": 45,
   "metadata": {},
   "outputs": [],
   "source": [
    "all_words_list=[]\n",
    "\n",
    "#for every quote...\n",
    "for i in range(len(paired_list)):\n",
    "    all_words_list += quote_words(paired_list[i])"
   ]
  },
  {
   "cell_type": "markdown",
   "metadata": {},
   "source": [
    "##### Now put those two together..."
   ]
  },
  {
   "cell_type": "code",
   "execution_count": 46,
   "metadata": {},
   "outputs": [],
   "source": [
    "uniq_words_list = getUniqueWords(all_words_list)"
   ]
  },
  {
   "cell_type": "code",
   "execution_count": 47,
   "metadata": {},
   "outputs": [],
   "source": [
    "#quotes_list_cleaned[0]"
   ]
  },
  {
   "cell_type": "markdown",
   "metadata": {},
   "source": [
    "#### Now, build a function that counts the number of times a word appears in the quote"
   ]
  },
  {
   "cell_type": "code",
   "execution_count": 48,
   "metadata": {},
   "outputs": [],
   "source": [
    "def countX(lst, x):\n",
    "    \"\"\"This function counts the number of times a word appears in the quote\"\"\"\n",
    "    count = 0\n",
    "    for ele in lst:\n",
    "        if ele == x:\n",
    "            count += 1\n",
    "    return count"
   ]
  },
  {
   "cell_type": "markdown",
   "metadata": {},
   "source": [
    "#### Function that creates a frequency dictionary"
   ]
  },
  {
   "cell_type": "code",
   "execution_count": 49,
   "metadata": {},
   "outputs": [],
   "source": [
    "def Frequency_rev(uniq_words_list,paired_list):\n",
    "    \n",
    "    # Creating two dictionaries: first of all unique words as keys, second with all the quotes as keys\n",
    "    freq_dict = {key:value for key,value in zip(uniq_words_list,[0]*len(uniq_words_list)) }\n",
    "    freq_dict2 = {key:value for key,value in zip(paired_list,[0]*len(paired_list)) }\n",
    "    \n",
    "    #For every unique word...\n",
    "    for item in uniq_words_list:\n",
    "        \n",
    "        #Look at each quote...\n",
    "        for j in paired_list:\n",
    "            \n",
    "            #And count how many time unique word is in there\n",
    "            if item in quote_words(j):\n",
    "                freq_dict2[j] = countX(quote_words(j),item)\n",
    "            else:\n",
    "                freq_dict2[j] = 0\n",
    "            \n",
    "            #create dictionary of all quotes that show up\n",
    "            freq_dict2_up = {key:value for key,value in freq_dict2.items() if value != 0}\n",
    "        \n",
    "        #set dictionary of all quotes that have word in it as value of frequency dictionary\n",
    "        freq_dict[item] = freq_dict2_up\n",
    "    \n",
    "    #return dictionary\n",
    "    return freq_dict"
   ]
  },
  {
   "cell_type": "code",
   "execution_count": 50,
   "metadata": {},
   "outputs": [],
   "source": [
    "#CHECK\n",
    "#Frequency_rev(uniq_words_list[0:200],paired_list[1:50])    "
   ]
  },
  {
   "cell_type": "code",
   "execution_count": 51,
   "metadata": {},
   "outputs": [],
   "source": [
    "#postings_dict"
   ]
  },
  {
   "cell_type": "code",
   "execution_count": 52,
   "metadata": {},
   "outputs": [],
   "source": [
    "full_rev_dict = Frequency_rev(uniq_words_list,paired_list)"
   ]
  },
  {
   "cell_type": "markdown",
   "metadata": {},
   "source": [
    "### (e) Write a TF-IDF function"
   ]
  },
  {
   "cell_type": "code",
   "execution_count": 53,
   "metadata": {},
   "outputs": [],
   "source": [
    "word_='diplomat'\n",
    "quote_ = 'A diplomat is a man who always remembers a woman`s birthday but never remembers her age. - Robert Frost'"
   ]
  },
  {
   "cell_type": "code",
   "execution_count": 54,
   "metadata": {},
   "outputs": [],
   "source": [
    "def  tfidfFunc(word,quote):\n",
    "    \n",
    "    tf = postings_dict[quote][word]/max(list(postings_dict[quote].values()))\n",
    "    idf = math.log(len(paired_list)/len(list(full_rev_dict[word].keys())))\n",
    "    tf_idf = tf*idf\n",
    "    return tf_idf"
   ]
  },
  {
   "cell_type": "code",
   "execution_count": 55,
   "metadata": {},
   "outputs": [
    {
     "data": {
      "text/plain": [
       "2.2622389835350267"
      ]
     },
     "execution_count": 55,
     "metadata": {},
     "output_type": "execute_result"
    }
   ],
   "source": [
    "tfidfFunc(word_,quote_)"
   ]
  },
  {
   "cell_type": "markdown",
   "metadata": {},
   "source": [
    "### (f) Quote search using a single word"
   ]
  },
  {
   "cell_type": "markdown",
   "metadata": {},
   "source": [
    "##### Function that takes a quote as an argument and returns a dictionary whose keys are full quotes containing that word, and whose values are the TF_IDF score of that word for that full quote."
   ]
  },
  {
   "cell_type": "code",
   "execution_count": 56,
   "metadata": {},
   "outputs": [],
   "source": [
    "def quote_search(word_input):\n",
    "    \n",
    "    search_dict = full_rev_dict[word_input]\n",
    "    \n",
    "    for k in search_dict.keys():\n",
    "        search_dict[k] = tfidfFunc(word=word_input,quote = k)\n",
    "    return search_dict"
   ]
  },
  {
   "cell_type": "code",
   "execution_count": 57,
   "metadata": {},
   "outputs": [
    {
     "data": {
      "text/plain": [
       "{'A diplomat is a man who always remembers a woman`s birthday but never remembers her age. - Robert Frost': 2.2622389835350267}"
      ]
     },
     "execution_count": 57,
     "metadata": {},
     "output_type": "execute_result"
    }
   ],
   "source": [
    "quote_search(word_)"
   ]
  },
  {
   "cell_type": "markdown",
   "metadata": {},
   "source": [
    "### (g) Quote Search using multiple words"
   ]
  },
  {
   "cell_type": "code",
   "execution_count": 58,
   "metadata": {},
   "outputs": [],
   "source": [
    "# Add two dicts\n",
    "def addDicts(dict1,dict2):\n",
    "    \"\"\"This function adds two dictionaries together\"\"\"\n",
    "    d3 = dict(dict1)\n",
    "    d3.update(dict2) \n",
    "    for i, j in dict1.items():\n",
    "        for x, y in dict2.items():\n",
    "            if i == x:\n",
    "                d3[i]=(j+y)\n",
    "    return(d3)\n"
   ]
  },
  {
   "cell_type": "code",
   "execution_count": 59,
   "metadata": {},
   "outputs": [],
   "source": [
    "def quote_search_multiple(word_list):\n",
    "    \"\"\"This function searches multiple words\"\"\"\n",
    "    list_of_dictionaries = [quote_search(element) for element in word_list]\n",
    "    temp_dict = {}\n",
    "    for i in range(len(list_of_dictionaries)):\n",
    "        temp_dict = addDicts(temp_dict,list_of_dictionaries[i])\n",
    "    return(temp_dict)"
   ]
  },
  {
   "cell_type": "code",
   "execution_count": 60,
   "metadata": {},
   "outputs": [],
   "source": [
    "word_list_ = ['george','was','always','a','diplomat']\n"
   ]
  },
  {
   "cell_type": "code",
   "execution_count": 61,
   "metadata": {},
   "outputs": [
    {
     "data": {
      "text/plain": [
       "{'It is necessary for the welfare of society that genius should be privileged to utter sedition, to blaspheme, to outrage good taste, to corrupt the youthful mind, and generally to scandalize one`s uncles. - George Bernard Shaw': 0.624631060895087,\n",
       " 'Success does not consist in never making mistakes but in never making the same one a second time. - George Bernard Shaw': 2.0676603547680537,\n",
       " 'All glory is fleeting. - George Patton': 3.1231553044754348,\n",
       " 'Associate yourself with men of good quality if you esteem your own reputation; for `tis better to be alone than in bad company. - George Washington': 3.1231553044754348,\n",
       " 'Beauty is all very well at first sight; but whoever looks at it when it has been in the house three days? - George Bernard Shaw': 1.5615776522377174,\n",
       " 'Fanaticism consists of redoubling your efforts when you have forgotten your aim. - George Santayana': 1.5615776522377174,\n",
       " 'Government is not reason; it is not eloquent; it is force. Like fire, it is a dangerous servant and a fearful master. - George Washington': 1.286871528649195,\n",
       " 'A government which robs Peter to pay Paul can always depend on the support of Paul. - George Bernard Shaw': 3.7773709150773573,\n",
       " 'A Native American elder once described his own inner struggles in this manner: Inside of me there are two dogs. One of the dogs is mean and evil. The other dog is good. The mean dog fights the good dog all the time. When asked which dog wins, he reflected. - George Bernard Shaw': 0.8270641419072216,\n",
       " 'I think it`s the duty of the comedian to find out where the line is drawn and cross it deliberately. - George Carlin': 1.041051768158478,\n",
       " 'I like to say that I`m bisexual...when I want sex, I buy it. - Boy George': 1.041051768158478,\n",
       " 'A leader is a man who can adapt principles to circumstances. - George Patton': 2.57374305729839,\n",
       " 'Sex at age ninety is like trying to shoot pool with a rope. - George Burns': 4.135320709536107,\n",
       " 'Serious sport has nothing to do with fair play. It is bound up with hatred, jealousy, boastfulness, disregard of all rules and sadistic pleasure in witnessing violence. In other words: it is war minus the shooting. - George Orwell': 1.5615776522377174,\n",
       " 'It is only by doing things others have not that one can advance. - George Patton': 3.1231553044754348,\n",
       " 'People sleep peaceably in their beds at night only because rough men stand ready to do violence on their behalf. - George Orwell': 1.5615776522377174,\n",
       " 'There is only one force of history that can break the reign of hatred and resentment, and expose the pretensions of tyrants, and reward the hopes of the decent and tolerant, and that is the force of human freedom. - George W. Bush': 0.624631060895087,\n",
       " 'Accept the challenges so that you can feel the exhilaration of victory. - George Patton': 1.5615776522377174,\n",
       " 'If you have an apple and I have an apple and we exchange these apples then you and I will still each have one apple. But if you have an idea and I have an idea and we exchange these ideas, then each of us will have two ideas. - George Bernard Shaw': 0.520525884079239,\n",
       " 'It is most unwise for people in love to marry. - George Bernard Shaw': 3.1231553044754348,\n",
       " 'Few people think more than two or three times a year. I have made an international reputation for myself by thinking once or twice a week. - George Bernard Shaw': 2.57374305729839,\n",
       " 'No sooner do we depart from sense and instinct to follow reason but we are insensibly drawn into uncouth paradoxes, difficulties, and inconsistencies, which multiply and grow upon us as we advance in speculation; till at length, having wandered through many intricate mazes, we find ourselves just where we were, or, which is worse, sit down in a forlorn scepticism. - George Berkeley': 0.8270641419072216,\n",
       " 'The object of war is not to die for your country but to make the other bastard die for his. - George Patton': 1.5615776522377174,\n",
       " 'May God have mercy upon my enemies, because I won`t. - George Patton': 3.1231553044754348,\n",
       " 'Life does not cease to be funny when people die any more than it ceases to be serious when people laugh. - George Bernard Shaw': 1.5615776522377174,\n",
       " 'There`s no present. There`s only the immediate future and the recent past. - George Carlin': 1.5615776522377174,\n",
       " 'War - an act of violence whose object is to constrain the enemy, to accomplish our will. - George Washington': 1.5615776522377174,\n",
       " 'All men are timid on entering any fight. Whether it is the first or the last fight, all of us are timid. Cowards are those who let their timidity get the better of their manhood. - George Patton': 1.041051768158478,\n",
       " 'The Nation which indulges toward another an habitual hatred or an habitual fondness is in some degree a slave. It is a slave to its animosity or to its affection, either of which is sufficient to lead it astray from its duty and its interest. - George Washington': 1.286871528649195,\n",
       " 'Life is no brief candle to me. It is a sort of splendid torch which I have got a hold of for the moment, and I want to make it burn as brightly as possible before handing it onto future generations. - George Bernard Shaw': 1.7158287048655931,\n",
       " 'There is no strength in unbelief. Even the unbelief of what is false is no source of might. It is the truth shining from behind that gives the strength to disbelieve. - George MacDonald': 0.7807888261188587,\n",
       " 'Some folks look at me and see a certain swagger, which in Texas is called `walking.` - George W. Bush': 4.135320709536107,\n",
       " 'Anger is never without an argument, but seldom with a good one. - George Savile': 4.135320709536107,\n",
       " 'He who controls the present, controls the past. He who controls the past, controls the future. - George Orwell': 0.7807888261188587,\n",
       " 'When you stop giving and offering something to the rest of the world, it`s time to turn out the lights. - George Burns': 1.041051768158478,\n",
       " 'To be prepared for war is one of the most effectual means of preserving peace. - George Washington': 1.5615776522377174,\n",
       " 'As Mankind becomes more liberal, they will be more apt to allow that all those who conduct themselves as worthy members of the community are equally entitled to the protections of civil government. I hope ever to see America among the foremost nations of justice and liberality. - George Washington': 1.041051768158478,\n",
       " 'I honestly think it is better to be a failure at something you love than to be a success at something you hate. - George Burns': 2.57374305729839,\n",
       " 'The power of accurate observation is commonly called cynicism by those who have not got it. - George Bernard Shaw': 3.1231553044754348,\n",
       " 'Christmas can be celebrated in the school room with pine trees, tinsel and reindeers, but there must be no mention of the man whose birthday is being celebrated. One wonders how a teacher would answer if a student asked why it was called Christmas. - Ronald Reagan': 2.657270099629973,\n",
       " 'Man was made for action, and to promote by the exertion of his faculties such changes in the external circumstances both of himself and others, as may seem most favourable to the happiness of all. - Adam Smith': 1.0967364630462002,\n",
       " 'Nietzsche was stupid and abnormal. - Leo Tolstoy': 3.290209389138601,\n",
       " 'When nothing seems to help, I go and look at a stonecutter hammering away at his rock perhaps a hundred times without as much as a crack showing in it. Yet at the hundred and first blow it will split in two, and I know it was not that blow that did it, but all that had gone before. - Jacob August Riis': 1.5816764010801547,\n",
       " 'To assert that the earth revolves around the sun is as erroneous as to claim that Jesus was not born of a virgin. - Cardinal Bellarmine': 2.151187397099637,\n",
       " 'Don`t go around saying the world owes you a living. The world owes you nothing. It was here first. - Mark Twain': 2.151187397099637,\n",
       " 'Don`t ever take a fence down until you know why it was put up. - Robert Frost': 4.302374794199274,\n",
       " 'In the beginning, the universe was created. This made a lot of people very angry, and has been widely regarded as a bad idea. - Douglas Adams': 2.657270099629973,\n",
       " 'Plato was a bore. - Friedrich Nietzsche': 4.302374794199274,\n",
       " 'Cooking was invented in prehistoric times, when a primitive tribe had a lucky accident. The tribe had killed an animal and was going to eat it raw, when a tribe member named Woog tripped and dropped it into the fire. At first the other tribe members were angry at Woog, but then, as the aroma of burning meat filled the air, they had an idea. So they ate Woog raw. - Dave Barry': 1.9233829986918438,\n",
       " 'Imagination is a quality given a man to compensate him for what he is not, and a sense of humor was provided to console him for what he is. - Oscar Wilde': 2.108901868106873,\n",
       " 'You give me a credit to which I have no claim in calling me `the writer of the Constitution of the United States.` This was not, like the fabled Goddess of Wisdom, the offspring of a single brain. It ought to be regarded as the work of many heads and many hands. - James Madison': 0.8857566998766576,\n",
       " 'The ACLU is always yakking about the Constitution, and most of us are getting mighty tired of it. I mean, if the Constitution is so great, how come it was amended so many times? Huh? - Dave Barry': 2.2365435032524026,\n",
       " 'Money never made a man happy yet, nor will it. There is nothing in its nature to produce happiness. The more a man has, the more he wants. Instead of its filling a vacuum, it makes one. If it satisfies one want, it doubles and trebles that want another way. That was a true proverb of the wise man, rely upon it; ``Better is little with the fear of the Lord, than great treasure, and trouble therewith. - Benjamin Franklin': 1.4677742018762583,\n",
       " 'How did it happen that their lips came together? How does it happen that birds sing, that snow melts, that the rose unfolds, that the dawn whitens behind the stark shapes of trees on the quivering summit of the hill? A kiss, and all was said. - Victor Hugo': 0.8604749588398547,\n",
       " 'I`m a middle age white guy, which means I`m constantly reminded that my particular group is responsible for the oppression of every known minority PLUS most wars PLUS government corruption PLUS pollution of the environment, not to mention that it was middle-age white guys who killed Bambi`s mom. - Dave Barry': 1.4341249313997577,\n",
       " 'This country was built on rape, slavery, murder, degradation and affiliation with crime. - Mike Tyson': 3.290209389138601,\n",
       " 'A University of Chicago professor said the greatest day in the world was when a water puppy crawled out on land and decided to stay. The water puppy, he said, went on to become a man. If he proves that, I am willing to give up Christmas, Thanksgiving, and New Year`s Day, and to celebrate Water Puppy Day. - William Jennings Bryan': 1.5816764010801547,\n",
       " 'She was what we used to call a suicide blond - dyed by her own hand. - Saul Bellow': 4.302374794199274,\n",
       " 'I never knew what real happiness was until I got married, and by then it was too late. - Max Kaufman': 3.290209389138601,\n",
       " 'What is now proved was once only imagined. - William Blake': 3.290209389138601,\n",
       " 'Feminism was established to allow unattractive women easier access to the mainstream. - Rush Limbaugh': 1.6451046945693004,\n",
       " 'My most brilliant achievement was my ability to be able to persuade my wife to marry me. - Winston Churchill': 1.0967364630462002,\n",
       " 'It is a grand mistake to think of being great without goodness and I pronounce it as certain that there was never a truly great man that was not at the same time truly virtuous. - Benjamin Franklin': 4.302374794199274,\n",
       " 'For a time, at least, I was the most famous person in the entire world. - Jesse Owens': 2.151187397099637,\n",
       " 'I was angry with my friend I told my wrath, my wrath did end. I was angry with my foe: I told it not, my wrath did grow. - William Blake': 1.3160837556554403,\n",
       " 'Without question, the greatest invention in the history of mankind is beer. Oh, I grant you that the wheel was also a fine invention, but the wheel does not go nearly as well with pizza. - Dave Barry': 1.0755936985498185,\n",
       " 'We seem to be going through a period of nostalgia, and everyone seems to think yesterday was better than today. I don`t think it was, and I would advise you not to wait ten years before admitting today was great. If you`re hung up on nostalgia, pretend today is yesterday and just go out and have one hell of a time. - Art Buchwald': 2.973739744384287,\n",
       " 'I told my psychiatrist that everyone hates me. He said I was being ridiculous - everyone hasn`t met me yet. - Rodney Dangerfield': 1.6451046945693004,\n",
       " 'Like many intellectuals, he was incapable of saying a simple thing in a simple way. - Marcel Proust': 2.657270099629973,\n",
       " 'When we got into office, the thing that surprised me the most was that things were as bad as we`d been saying they were. - John F. Kennedy': 1.6451046945693004,\n",
       " 'I`m the type who`d be happy not going anywhere as long as I was sure I knew exactly what was happening at the places I wasn`t going to. I`m the type who`d like to sit home and watch every party that I`m invited to on a monitor in my bedroom. - Andy Warhol': 2.530861394445958,\n",
       " 'Man [has] always assumed that he was more intelligent than dolphins because he had achieved so much-the wheel, New York, wars and so on-while all the dolphins had ever done was muck about in the water having a good time. But conversely, the dolphins had always believed that they were far more intelligent than man-for precisely the same reason. - Douglas Adams': 3.607856606143772,\n",
       " 'In any fairly large and talkative community such as a university there is always the danger that those who think alike should gravitate together where they will henceforth encounter opposition only in the emasculated form of rumour that the outsiders say thus and thus. The absent are easily refuted, complacent dogmatism thrives, and differences of opinion are embittered by the group hostility. Each group hears not the best, but the worst, that the other group can say. - C.S. Lewis': 0.5539483157099099,\n",
       " 'No matter how much cats fight, there always seem to be plenty of kittens. - Abraham Lincoln': 3.419421120618607,\n",
       " 'The truth is always a trick to those who live among lies. - Author Unknown': 4.431586525679279,\n",
       " 'In politics shared hatreds are almost always the basis of friendships. - Alexis de Tocqueville': 3.419421120618607,\n",
       " 'Why are people`s ``deepest desires`` always so shallow? - Author Unknown': 3.419421120618607,\n",
       " 'It is always thus, impelled by a state of mind which is destined not to last, that we make our irrevocable decisions. - Marcel Proust': 2.2157932628396395,\n",
       " 'Of course the people dont want war...that is understood. But voice or no voice, the people can always be brought to the bidding of the leaders. That is easy. All you have to do is tell them they are being attacked, and denounce the pacifists for lack of patriotism and exposing the country to danger. It works the same in any country. - Hermann Goering': 0.48848873151694383,\n",
       " 'I always cheer up immensely if an attack is particularly wounding because I think, well, if they attack one personally, it means they have not a single political argument left. - Margaret Thatcher': 2.2157932628396395,\n",
       " 'Men have always been afraid that women could get along without them. - Margaret Mead': 3.419421120618607,\n",
       " 'Errors of haste are seldom committed singly. The first time a man always does too much. And precisely on that account he commits a second error, and then he does too little. - Friedrich Nietzsche': 2.721875965369976,\n",
       " 'The great nations have always acted like gangsters, and the small nations like prostitutes. - Stanley Kubrick': 1.7097105603093035,\n",
       " 'As scarce as truth is, the supply has always been in excess of the demand. - Josh Billings': 1.7097105603093035,\n",
       " 'Always leave something to wish for; otherwise you will be miserable from your very happiness. - Baltasar Gracian': 3.419421120618607,\n",
       " 'I don`t always know what I`m talking about but I know I`m right. - Muhammad Ali': 1.7097105603093035,\n",
       " 'A successful marriage requires falling in love many times, always with the same person. - Germaine Greer': 4.431586525679279,\n",
       " 'And what’s romance? Usually, a nice little tale where you have everything As You Like It, where rain never wets your jacket and gnats never bite your nose and it’s always daisy-time. - D.H. Lawrence': 1.4771955085597597,\n",
       " 'Ever notice that `what the hell` is always the right decision? - Marilyn Monroe': 1.7097105603093035,\n",
       " 'Religion to me has always been the wound, not the bandage. - Dennis Potter': 1.7097105603093035,\n",
       " 'Children always understand. They have open minds. They have built-in shit detectors. - Madonna Ciccone': 1.7097105603093035,\n",
       " 'Nothing gives one person so much advantage over another as to remain always cool and unruffled under all circumstances. - Thomas Jefferson': 3.419421120618607,\n",
       " 'The cost of freedom is always high, but Americans have always paid it. And one path we shall never choose, and that is the path of surrender, or submission. - John F. Kennedy': 3.419421120618607,\n",
       " 'It is always more difficult to fight against faith than against knowledge. - Adolf Hitler': 1.7097105603093035,\n",
       " 'God does not give heed to the ambitiousness of our prayers, because he is always ready to give to us his light, not a visible light but an intellectual and spiritual one; but we are not always ready to receive it when we turn aside and down to other things out of a desire for temporal things. - Saint Augustine': 1.7726346102717119,\n",
       " 'Humility must always be the portion of any man who receives acclaim earned in blood of his followers and sacrifices of his friends. - Dwight Eisenhower': 1.1398070402062022,\n",
       " 'To me, it`s always a good idea to always carry two sacks of something when you walk around. That way, if anybody says, `Hey, can you give me a hand?,` you can say, `Sorry, got these sacks.` - Jack Handey': 2.9543910171195193,\n",
       " 'A diplomat is a man who always remembers a woman`s birthday but never remembers her age. - Robert Frost': 4.414211428801901,\n",
       " 'Two roads diverged in a wood, and I...I took the one less traveled by, and that has made all the difference. - Robert Frost': 0.5060827025303363,\n",
       " 'A great deal of intelligence can be invested in ignorance when the need for illusion is deep. - Saul Bellow': 1.0121654050606725,\n",
       " 'Those who are preoccupied with `making a statement` usually don`t have any statements worth making. - Thomas Sowell': 0.5060827025303363,\n",
       " 'Women need a reason to have sex -- men just need a place. - Billy Crystal': 1.0121654050606725,\n",
       " 'I almost had a pyschic girlfriend, but she left me before we met. - Steven Wright': 1.0121654050606725,\n",
       " 'When an American says that he loves his country, he means not only that he loves the New England hills, the prairies glistening in the sun, the wide and rising plains, the great mountains, and the sea. He means that he loves an inner air, an inner light in which freedom lives and in which a man can draw the breath of self-respect. - Adlai Stevenson': 0.14459505786581037,\n",
       " 'My dream is of a place and a time where America will once again be seen as the last best hope of earth. - Abraham Lincoln': 1.0121654050606725,\n",
       " 'An actor is at most a poet and at least an entertainer. - Marlon Brando': 0.5060827025303363,\n",
       " 'The object of teaching a child is to enable him to get along without a teacher. - Elbert Hubbard': 1.0121654050606725,\n",
       " 'I didn`t attend the funeral, but I sent a nice letter saying I approved of it. - Mark Twain': 0.3373884683535575,\n",
       " 'I think a good gift for the president would be a chocolate revolver. And since he`s so busy, you`d probably have to run up to him and hand it to him. - Jack Handey': 0.674776936707115,\n",
       " 'A journey of a thousand miles begins with a single step. - Confucius': 1.0121654050606725,\n",
       " 'Television is a medium of entertainment which permits millions of people to listen to the same joke at the same time, and yet remain lonesome. - T.S. Eliot': 0.5060827025303363,\n",
       " 'Experience is that marvelous thing that enables you to recognize a mistake when you make it again. - Franklin Jones': 0.5060827025303363,\n",
       " 'He that would make his own liberty secure, must guard even his enemy from opposition; for if he violates this duty he establishes a precedent that will reach himself. - Thomas Paine': 0.3373884683535575,\n",
       " 'I arrive at the end of this review having done my duty as a critic. I have described the movie accurately and you have a good idea what you are in for if you go to see it. Most of you will not. I cannot argue with you. Some of you will--the brave and the curious. You embody the spirit of the man who first wondered what it would taste like to eat an oyster. - Roger Ebert': 0.28919011573162073,\n",
       " 'Men marry to make an end; women to make a beginning. - Alexis Dupuy': 0.5060827025303363,\n",
       " 'Show me a thoroughly satisfied man and I will show you a failure. - Thomas Edison': 1.0121654050606725,\n",
       " 'You find out more about God from the Moral Law than from the univerise in general just as you find out more about a man by listening to his conversation than by looking at a house he has built. - C.S. Lewis': 1.0121654050606725,\n",
       " 'Instead of a trap door, what about a trap window? The guy looks out it, and if he leans too far, he falls out. Wait. I guess that`s like a regular window. - Jack Handey': 1.0121654050606725,\n",
       " 'In every man`s heart there is a secret nerve that answers to the vibrations of beauty. - Christopher Morley': 1.0121654050606725,\n",
       " 'The fool doth think he is wise, but the wise man knows himself to be a fool. - William Shakespeare': 0.5060827025303363,\n",
       " 'I have a hobby...I have the world`s largest collection of sea shells. I keep it scattered on beaches all over the world. Maybe you`ve seen some of it... - Steven Wright': 0.5060827025303363,\n",
       " 'Life is not a support system for art. It`s the other way around. - Stephen King': 1.0121654050606725,\n",
       " 'Love is the delightful interval between meeting a beautiful girl and discovering that she looks like a haddock. - John Barrymore': 1.0121654050606725,\n",
       " 'Nothing separates the generations more than music. By the time a child is eight or nine, he has developed a passion for his own music that is even stronger than his passions for procrastination and weird clothes. - Bill Cosby': 1.0121654050606725,\n",
       " 'Everybody can be great... because anybody can serve. You don`t have to have a college degree to serve. You don`t have to make your subject and verb agree to serve. You only need a heart full of grace. A soul generated by love. - Martin Luther King Jr.': 0.7591240537955044,\n",
       " 'People have a way of becoming what you encourage them to be, not what you nag them to be. - Author Unknown': 0.5060827025303363,\n",
       " 'America is not like a blanket: one piece of unbroken cloth, the same color, the same texture, the same size. America is more like a quilt: many patches, many pieces, many colors, many sizes, all woven and held together by a common thread. - Jesse Jackson': 0.7591240537955044,\n",
       " 'America did not invent human rights. In a very real sense...human rights invented America. - Jimmy Carter': 0.5060827025303363,\n",
       " 'He wrapped himself in quotations--as a beggar would enfold himself in the purple of Emperors. - Rudyard Kipling': 0.5060827025303363,\n",
       " 'Washington is a city of Southern efficiency and Northern charm. - John F. Kennedy': 1.0121654050606725,\n",
       " 'If you`re in a boxing match, try not to let the other guy`s glove touch your lips, because you don`t know where that glove has been. - Jack Handey': 0.5060827025303363,\n",
       " 'Not only is there no God, but try finding a plumber on Sunday. - Woody Allen': 1.0121654050606725,\n",
       " 'I planted some bird seed. A bird came up. Now I don`t know what to feed it. - Steven Wright': 0.5060827025303363,\n",
       " 'There are people who put their dreams in a little box and say, Yes, I`ve got dreams, of course I`ve got dreams. Then they put the box away and bring it out once in awhile to look in it, and yep, they`re still there. - Erna Bombeck': 0.3373884683535575,\n",
       " 'If we do not help a man in trouble, it is as if we caused the trouble. - Nachman of Bratslav': 0.5060827025303363,\n",
       " 'Patriotism is not short, frenzied outbursts of emotion, but the tranquil and steady dedication of a lifetime. - Adlai Stevenson': 0.5060827025303363,\n",
       " 'A man`s very highest moment is, I have no doubt at all, when he kneels in the dust, and beats his breast, and tells all the sins of his life. - Oscar Wilde': 0.5060827025303363,\n",
       " 'I had a dream the other night. I dreamed that Jimmy Carter came to me and asked why I wanted his job. I told him I didn`t want his job. I want to be President. - Ronald Reagan': 0.16869423417677876,\n",
       " 'No nation keeps its word. A nation is a big, blind worm, following what? Fate perhaps. A nation has no honor, it has no word to keep. - Carl Jung': 1.0121654050606725,\n",
       " 'I could not handle being a woman, I would stay home all day and play with my breasts. - Steve Martin': 0.5060827025303363,\n",
       " 'Any reviewer who expresses rage and loathing for a novel is preposterous. He or she is like a person who has put on full armor and attacked a hot fudge sundae. - Kurt Vonnegut': 1.0121654050606725,\n",
       " 'A right delayed is a right denied. - Martin Luther King Jr.': 1.0121654050606725,\n",
       " 'Against criticism a man can neither protest nor defend himself; he must act in spite of it, and then it will gradually yield to him. - Johann Wolfgang von Goethe': 0.5060827025303363,\n",
       " 'No man but a blockhead ever wrote, except for money. - Samuel Johnson': 1.0121654050606725,\n",
       " 'Fame is a fickle food upon a shifting plate. - Emily Dickinson': 1.0121654050606725,\n",
       " 'When I see a play and understand it the first time, then I know it can`t be much good. - T.S. Eliot': 0.5060827025303363,\n",
       " 'To explain the unknown by the known is a logical procedure; to explain the known by the unknown is a form of theological lunacy. - David Brooks': 0.5060827025303363,\n",
       " 'I mistrust the judgment of every man in a case in which his own wishes are concerned. - Daniel Webster': 0.5060827025303363,\n",
       " 'Christmas is a time when you get homesick, even when you`re home. - Carol Nelson': 0.5060827025303363,\n",
       " 'We all wish to be judged by our peers, by the men `after our own heart.` Only they really know our mind and only they judge it by standards we fully acknowledge. Theirs is the praise we really covet and the blame we really dread. The little pockets of early Chrstians survived because they cared exclusively for the love of `the bretheren` and stopped their ears to the opinion of the Pagan society around them. But a circle of criminals, cranks, or perverts survives in just the same way; by becoming deaf to the opinion of the outer world, by discounting it as the chatter of outsiders who `don`t understand,` of the `conventional,` the `bourgeois,` the `Establishment,` of prigs, prudes, and humbugs. - C.S. Lewis': 0.0674776936707115,\n",
       " 'Duties are not performed for duty`s sake, but because their neglect would make the man uncomfortable. A man performs but one duty - the duty of contenting his spirit, the duty of making himself agreeable to himself. - Mark Twain': 0.3373884683535575,\n",
       " 'A free society is one where it is safe to be unpopular. - Adlai Stevenson': 0.5060827025303363,\n",
       " 'As a woman, I find it very embarrassing to be in a meeting and realize I`m the only one in the room with balls. - Rita Mae Brown': 1.0121654050606725,\n",
       " 'A mind that is stretched by a new experience can never go back to its old dimensions. - Oliver Wendell Holmes': 1.0121654050606725,\n",
       " 'Thus far, the reputed idiot Bush has graduated from Yale and Harvard, made a stack of cash in the oil industry, become the first consecutive-term governor of Texas, defeated a dual-term VP for the presidency, and led his party to [November 5th`s] extraordinary triumphs. Let his opponents keep calling him stupid; if they do, within five years Bush will be King of England, the Pope, and world Formula One motor racing champion. - Tim Blair': 0.40486616202426906,\n",
       " 'Nothing is wrong with Southern California that a rise in the ocean level wouldn`t cure. - Kenneth Millar': 1.0121654050606725,\n",
       " 'A `geek` by definition is someone who eats live animals....I`ve never eaten live animals. - Crispin Glover': 0.5060827025303363,\n",
       " 'The only kind of seafood I trust is the fish stick, a totally featureless fish that doesn`t have eyeballs or fins. - Dave Barry': 0.5060827025303363,\n",
       " 'Skepticism is a virtue in history as well as in philosophy. - Napoleon Bonaparte': 0.5060827025303363,\n",
       " 'A man can`t be too careful in the choice of his enemies. - Oscar Wilde': 1.0121654050606725,\n",
       " 'To me there has never been a higher source of earthly honor or distinction than that connected with advances in science. - Isaac Newton': 1.0121654050606725,\n",
       " 'You know, there`s a million fine looking women in the world, dude. But they don`t all bring you lasagna at work. Most of `em just cheat on you. - Kevin Smith': 0.3373884683535575,\n",
       " 'In politics, if you want anything said, ask a man; if you want anything done, ask a woman. - Margaret Thatcher': 1.0121654050606725,\n",
       " 'I`m not normally a religious man, but if you`re up there, save me, Superman! - Homer Simpson': 1.0121654050606725,\n",
       " 'The practice of art isn`t to make a living. It`s to make your soul grow. - Kurt Vonnegut': 0.5060827025303363,\n",
       " 'Surely what a man does when he is caught off his guard is the best evidence as to what sort of man he is. - C.S. Lewis': 0.3373884683535575,\n",
       " 'For each illness that doctors cure with medicine, they provoke ten in healthy people by inoculating them with the virus that is a thousand times more powerful than any microbe: the idea that one is ill. - Marcel Proust': 0.3373884683535575,\n",
       " 'It takes a lot of courage to show your dreams to someone else. - Erna Bombeck': 0.5060827025303363,\n",
       " 'The aging process has you firmly in its grasp if you never get the urge to throw a snowball. - Doug Larson': 0.5060827025303363,\n",
       " 'The surest way of spoiling a pleasure is to start examining your satisfaction. - C.S. Lewis': 1.0121654050606725,\n",
       " 'There are some who`ve forgotten why we have a military. It`s not to promote war; it`s to be prepared for peace. - Ronald Reagan': 0.5060827025303363,\n",
       " 'Bashfulness is an ornament to youth, but a reproach to old age. - Aristotle': 0.5060827025303363,\n",
       " 'You are never too old to set another goal or to dream a new dream. - C.S. Lewis': 0.5060827025303363,\n",
       " 'If you could kick the person in the pants responsible for most of your trouble, you wouldn`t sit for a month. - Theodore Roosevelt': 0.5060827025303363,\n",
       " 'The broad masses of a population are more amenable to the appeal of rhetoric than to any other force. - Adolf Hitler': 0.5060827025303363,\n",
       " 'It has been said that man is a rational animal. All my life I have been searching for evidence which could support this. - Bertrand Russell': 0.5060827025303363,\n",
       " 'One thing they never tell you about child raising is that for the rest of your life, at the drop of a hat, you are expected to know your child`s name and how old he or she is. - Erna Bombeck': 0.5060827025303363,\n",
       " 'If a man is called to be a streetsweeper, he should sweep streets even as Michelangelo painted, or Beethoven composed music, or Shakespeare wrote poetry. He should sweep streets so well that all the host of heaven and earth will pause to say, here lived a great streetsweeper who did his job well. - Martin Luther King Jr.': 1.0121654050606725,\n",
       " 'There is a great deal of difference between an eager man who wants to read a book and the tired man who wants a book to read. - GK Chesterton': 1.0121654050606725,\n",
       " 'To find out a girl`s faults, praise her to her girl friends. - Benjamin Franklin': 0.5060827025303363,\n",
       " 'Man`s best possession is a sympathetic wife. - Euripides': 1.0121654050606725,\n",
       " 'A grandmother pretends she doesn`t know who you are on Halloween. - Erna Bombeck': 1.0121654050606725,\n",
       " 'Love is a fruit in season at all times, and within reach of every hand. - Mother Teresa': 1.0121654050606725,\n",
       " 'Having someone wonder where you are when you don`t come home at night is a very old human need. - Margaret Mead': 0.5060827025303363,\n",
       " 'I think the best possible social program is a job. - Ronald Reagan': 1.0121654050606725,\n",
       " 'Ocean: A body of water occupying 2/3 of a world made for man...who has no gills. - Ambrose Bierce': 1.0121654050606725,\n",
       " 'Moral indignation is jealousy with a halo. - H.G. Wells': 1.0121654050606725,\n",
       " 'There is hope for the future because God has a sense of humor and we are funny to God. - Bill Cosby': 0.5060827025303363,\n",
       " 'Why, you can take the most gallant sailor, the most intrepid airman or the most audacious soldier, put them at a table together - what do you get? The sum of their fears. - Winston Churchill': 0.25304135126516814,\n",
       " 'The mind of the thoroughly well-informed man is a dreadful thing. It is like a bric-à-brac shop, all monsters and dust, with everything priced above its proper value. - Oscar Wilde': 1.0121654050606725,\n",
       " 'Without music, life would be a mistake. - Friedrich Nietzsche': 1.0121654050606725,\n",
       " 'If a man is proud of his wealth, he should not be praised until it is known how he employs it. - Socrates': 0.5060827025303363,\n",
       " 'There is a theory which states that if ever anyone discovers exactly what the Universe is for and why it is here, it will instantly disappear and be replaced by something even more bizarre and inexplicable. There is another theory which states that this has already happened. - Douglas Adams': 0.25304135126516814,\n",
       " 'Show me your hands. Do they have scars from giving? Show me your feet. Are they wounded in service? Show me your heart. Have you left a place for divine love? - Fulton J. Sheen': 0.3373884683535575,\n",
       " 'Don`t marry a man to reform him - that`s what reform schools are for. - Mae West': 0.5060827025303363,\n",
       " 'Analyzing humor is like dissecting a frog. Few people are interested and the frog dies of it. - E.B. White': 0.5060827025303363,\n",
       " 'You don`t take a photograph, you make it. - Ansel Adams': 0.5060827025303363,\n",
       " 'He therefore is the truest friend to the liberty of this country who tries most to promote its virtue, and who, so far as his power and influence extend, will not suffer a man to be chosen into any office of power and trust who is not a wise and virtuous man. - Samuel Adams': 0.5060827025303363,\n",
       " 'I hate war as only a soldier who has lived it can, only as one who has seen its brutality, its futility, its stupidity. - Dwight Eisenhower': 0.3373884683535575,\n",
       " 'We have the Bill of Rights. What we need is a Bill of Responsibilities. - Bill Maher': 0.3373884683535575,\n",
       " 'Even peace may be purchased at too high a price. - Benjamin Franklin': 1.0121654050606725,\n",
       " 'The last thing a political party gives up is its vocabulary. - Alexis de Tocqueville': 1.0121654050606725,\n",
       " 'We are what we repeatedly do. Excellence, therefore, is not an act, but a habit. - Aristotle': 0.5060827025303363,\n",
       " 'Science is not about building a body of known `facts`. It is a method for asking awkward questions and subjecting them to a reality-check, thus avoiding the human tendency to believe whatever makes us feel good. - Terry Pratchett': 1.0121654050606725,\n",
       " 'A man is never more truthful than when he acknowledges himself a liar. - Mark Twain': 1.0121654050606725,\n",
       " 'Maturity is a bitter disappointment for which no remedy exists, unless laughter can be said to remedy anything. - Kurt Vonnegut': 0.5060827025303363,\n",
       " 'A typical vice of American politics is the avoidance of saying anything real on real issues. - Theodore Roosevelt': 0.5060827025303363,\n",
       " 'It is impossible to experience one`s death objectively and still carry a tune. - Woody Allen': 1.0121654050606725,\n",
       " 'Opera is when a guy gets stabbed in the back and, instead of bleeding, he sings. - Ed Gardner': 1.0121654050606725,\n",
       " 'If you are resolutely determined to make a lawyer of yourself, the thing is more than half done already. - Abraham Lincoln': 1.0121654050606725,\n",
       " 'Friendship is a single soul dwelling in two bodies. - Aristotle': 1.0121654050606725,\n",
       " 'Happiness is so hard to define and foolish to define. Am I acting? That`s the worst thing you can ask yourself. You can be happy suddenly. It can spring on you, not when you reach a plateau. You can be happy going backward or going down. You can be happy at the loss of something. - Steve Martin': 0.16869423417677876,\n",
       " 'Every gun that is made, every warship launched, every rocket fired, signifies in the final sense a theft from those who hunger and are not fed, those who are cold and are not clothed. - Dwight Eisenhower': 0.3373884683535575,\n",
       " 'The greatness of our country has been based on our thinking that everyone has a right even to be wrong. - Ronald Reagan': 0.5060827025303363,\n",
       " 'There are a thousand hacking at the branches of evil to one who is striking at the root. - Henry Thoreau': 0.5060827025303363,\n",
       " 'We are all worms, but I do believe I am a glow-worm. - Winston Churchill': 0.5060827025303363,\n",
       " 'It is better to be bold than too circumspect, because fortune is of a sex which likes not a tardy wooer and repulses all who are not ardent. - Nicolo Machiavelli': 1.0121654050606725,\n",
       " 'Hanging is too good for a man who makes puns -- he should be drawn and quoted. - Fred Allen': 1.0121654050606725,\n",
       " 'I would not join any club that would have someone like me for a member. - Groucho Marx': 0.5060827025303363,\n",
       " 'Never judge a philosophy by its abuse. - Saint Augustine': 1.0121654050606725,\n",
       " 'It is better to keep your mouth closed and let people think you are a fool than to open it and remove all doubt. - Mark Twain': 0.5060827025303363,\n",
       " 'A radical is a man with both feet firmly planted in the air. - Franklin D. Roosevelt': 1.0121654050606725,\n",
       " 'My role in society, or any artist`s or poet`s role, is to try and express what we all feel. Not to tell people how to feel. Not as a preacher, not as a leader, but as a reflection of us all. - John Lennon': 1.0121654050606725,\n",
       " 'I am a strong believer in luck and I find the harder I work the more I have of it. - Benjamin Franklin': 0.25304135126516814,\n",
       " 'We know too much, and are convinced of too little. Our literature is a substitute for religion, and so is our religion. - T.S. Eliot': 0.5060827025303363,\n",
       " 'This does not mean that the enemy is to be allowed to escape. The object is to make him believe that there is a road to safety, and thus prevent his fighting with the courage of despair. After that, you may crush him. - Sun Tzu': 0.25304135126516814,\n",
       " 'There are painters who transform the sun to a yellow spot, but there are others who with the help of their art and their intelligence, transform a yellow spot into the sun. - Pablo Picasso': 0.674776936707115,\n",
       " 'What I don`t like about office Christmas parties is looking for a job the next day. - Phyllis Diller': 1.0121654050606725,\n",
       " 'They that can give up essential liberty to obtain a little temporary safety deserve neither liberty nor safety. - Benjamin Franklin': 0.5060827025303363,\n",
       " 'In all chaos there is a cosmos, in all disorder a secret order. - Carl Jung': 1.0121654050606725,\n",
       " 'The direction in which education starts a man will determine his future life. - Plato': 1.0121654050606725,\n",
       " 'I hope that when you are my age, you will be able to say as I have been able to say: We lived in freedom. We lived lives that were a statement, not an apology. - Ronald Reagan': 0.5060827025303363,\n",
       " 'The days of looking the other way while despotic regimes trample human rights, rob their nations` wealth, and then excuse their failings by feeding their people a steady diet of anti-Western hatred are over. - Dick Cheney': 0.3373884683535575,\n",
       " 'If tyranny and oppression come to this land, it will be in the guise of fighting a foreign enemy. - James Madison': 1.0121654050606725,\n",
       " 'The health of a democratic society may be measured by the quality of functions performed by private citizens. - Alexis de Tocqueville': 0.5060827025303363,\n",
       " 'An oppressive government is more to be feared than a tiger. - Confucius': 1.0121654050606725,\n",
       " 'I cried because I had no shoes, `till I met a man who had no feet. So I said, `You got any shoes you`re not using`? - Steven Wright': 0.25304135126516814,\n",
       " 'By a curious confusion, many modern critics have passed from the proposition that a masterpiece may be unpopular to the other proposition that unless it is unpopular it cannot be a masterpiece. - GK Chesterton': 1.0121654050606725,\n",
       " 'Being president is like being a jackass in a hailstorm. There`s nothing to do but stand there and take it. - Lyndon B. Johnson': 1.0121654050606725,\n",
       " 'In framing a government which is to be administered by men over men the great difficulty lies in this: You must first enable the government to control the governed, and in the next place, oblige it to control itself. - Alexander Hamilton': 0.25304135126516814,\n",
       " 'There`s nothing sadder in this world than to awake Christmas morning and not be a child. - Erna Bombeck': 1.0121654050606725,\n",
       " 'No man will make a great leader who wants to do it all himself or get all the credit for doing it. - Andrew Carnegie': 0.5060827025303363,\n",
       " 'The good thing about being bisexual is that it doubles your chance of a date on a Saturday night. - Woody Allen': 1.0121654050606725,\n",
       " 'Every difference of opinion is not a difference of principle. We have called by different names brethren of the same principle. - Thomas Jefferson': 0.3373884683535575,\n",
       " 'You can discover more about a person in an hour of play than in a year of conversation. - Plato': 1.0121654050606725,\n",
       " 'If your kid makes one of those little homemade guitars out of a cigar box and rubber bands, don`t let him just play it once or twice and then throw it away. Make him practice on it, every day, for about three hours a day. Later, he`ll thank you. - Jack Handey': 0.674776936707115,\n",
       " 'I feel impelled to speak today in a language that in a sense is new-one which I, who have spent so much of my life in the military profession, would have preferred never to use. That new language is the language of atomic warfare. - Dwight Eisenhower': 0.674776936707115,\n",
       " 'To write a good love letter, you ought to begin without knowing what you mean to say and to finish without knowing what you have written. - Jean-Jacques Rousseau': 0.25304135126516814,\n",
       " 'God enters by a private door into every individual. - Ralph Waldo Emerson': 1.0121654050606725,\n",
       " 'There is one thing alone that stands the brunt of life throughout its course: a quiet conscience. - Euripides': 1.0121654050606725,\n",
       " 'When angry, count ten before you speak; if very angry, a hundred. - Thomas Jefferson': 0.5060827025303363,\n",
       " 'A people that values its privileges above its principles soon loses both. - Dwight Eisenhower': 0.5060827025303363,\n",
       " 'Some succeed by what they know; some by what they do; and a few by what they are. - Elbert Hubbard': 0.3373884683535575,\n",
       " 'I`ve had a wonderful time, but this wasn`t it. - Groucho Marx': 1.0121654050606725,\n",
       " 'Reason is experimental intelligence, conceived after the pattern of science, and used in the creation of social arts; it has something to do. It liberates man from the bondage of the past, due to ignorance and accident hardened into custom. It projects a better future and assists man in its realization. - John Dewey': 0.25304135126516814,\n",
       " 'Wedding: a ceremony at which two persons undertake to become one, one undertakes to become nothing, and nothing undertakes to become supportable. - Ambrose Bierce': 0.3373884683535575,\n",
       " 'It is a scientific fact that your body will not absorb cholesterol if you take it from another person`s plate. - Dave Barry': 0.5060827025303363,\n",
       " 'Having a male gynecologist is like going to an auto mechanic who doesn`t own a car. - Carrie Snow': 1.0121654050606725,\n",
       " 'America is the only country ever founded on a creed. - GK Chesterton': 1.0121654050606725,\n",
       " 'It does not require a majority to prevail, but rather an irate, tireless minority keen to set brush fires in people`s minds. - Samuel Adams': 0.5060827025303363,\n",
       " 'To be a philosopher is not merely to have subtle thoughts; but so to love wisdom as to live according to its dictates. - Henry Thoreau': 0.20243308101213453,\n",
       " 'The puritanism of Christianity has played havoc with the moderation that an enlightened and tolerant critical spirit would have produced. I`ve noticed that in whatever country, county, town, or other region there is a regulation enjoining temperance, the population seems to be entirely composed of teetotallers and drunkards. There`s a Bible on that shelf there. But I keep it next to Voltaire - poison and antidote. - Bertrand Russell': 0.674776936707115,\n",
       " 'Returning violence for violence multiplies violence, adding deeper darkness to a night already devoid of stars. - Martin Luther King Jr.': 0.3373884683535575,\n",
       " 'A brain has to digest its food, too. - Jason Mechalek': 1.0121654050606725,\n",
       " 'Humility is no substitute for a good personality. - Fran Lebowitz': 1.0121654050606725,\n",
       " 'A powerful idea communicates some of its strength to him who challenges it. - Marcel Proust': 1.0121654050606725,\n",
       " 'Science is facts; just as houses are made of stones, so is science made of facts; but a pile of stones is not a house and a collection of facts is not necessarily science. - Henri Poincare': 0.7591240537955044,\n",
       " 'As I would not be a slave, so I would not be a master. This expresses my idea of democracy. Whatever differs from this, to the extent of the difference, is no democracy. - Abraham Lincoln': 1.0121654050606725,\n",
       " 'Regarding the debate about faith and works: It’s like asking which blade in a pair of scissors is most important. - C.S. Lewis': 1.0121654050606725,\n",
       " 'I am a writer of books in retrospect. I talk in order to understand; I teach in order to learn. - Robert Frost': 0.3373884683535575,\n",
       " 'The least of things with a meaning is worth more in life than the greatest of things without it. - Carl Jung': 0.5060827025303363,\n",
       " 'What is the most important for democracy is not that great fortunes should not exist, but that great fortunes should not remain in the same hands. In that way there are rich men, but they do not form a class. - Alexis de Tocqueville': 0.25304135126516814,\n",
       " 'I once said cynically of a politician, `He`ll doublecross that bridge when he comes to it.` - Oscar Levant': 1.0121654050606725,\n",
       " 'To be pleased with one`s limits is a wretched state. - Johann Wolfgang von Goethe': 1.0121654050606725,\n",
       " 'There is hardly a political question in the United States which does not sooner or later turn into a judicial one. - Alexis de Tocqueville': 1.0121654050606725,\n",
       " 'I have gathered a posie of other men’s flowers, and nothing but the thread that binds them is mine own. - John Bartlett': 1.0121654050606725,\n",
       " 'It must be remembered that there is nothing more difficult to plan, more doubtful of success nor more dangerous to manage than the creation of a new system. For the initiator has the enmity of all who profit by the preservation of the old institution and merely lukewarm defenders in those who would gain by the new one. - Nicolo Machiavelli': 0.16869423417677876,\n",
       " 'When you work seven days a week, fourteen hours a day, you get lucky. - Armand Hammer': 1.0121654050606725,\n",
       " 'It is a good idea to ``shop around`` before you settle on a doctor. Ask about the condition of his Mercedes. Ask about the competence of his mechanic. Don`t be shy! After all, you`re paying for it. - Dave Barry': 1.0121654050606725,\n",
       " 'The last thing one discovers in composing a work is what to put first. - Blaise Pascal': 1.0121654050606725,\n",
       " 'Is there anything more beautiful than a beautiful, beautiful flamingo, flying across in front of a beautiful sunset? And he`s carrying a beautiful rose in his beak, and also he`s carrying a very beautiful painting with his feet. And also, you`re drunk. - Jack Handey': 0.674776936707115,\n",
       " 'Nothing so dates a man as to decry the younger generation. - Adlai Stevenson': 1.0121654050606725,\n",
       " 'We make a living by what we get, but we make a life by what we give. - Winston Churchill': 0.5060827025303363,\n",
       " 'Ah, yes, divorce...from the Latin word meaning to rip out a man`s genitals through his wallet. - Robin Williams': 1.0121654050606725,\n",
       " 'Before reciting his prayers, a man should give to charity. - Nachman of Bratslav': 1.0121654050606725,\n",
       " 'One of the great attractions of patriotism -- it fulfills our worst wishes. In the person of our nation we are able, vicariously, to bully and cheat. Bully and cheat, what`s more, with a feeling that we are profoundly virtuous. - Aldous Huxley': 0.3373884683535575,\n",
       " 'There are perhaps no days of our childhood we lived so fully as those we spent with a favorite book. - Marcel Proust': 0.5060827025303363,\n",
       " 'Never continue in a job you don`t enjoy. If you`re happy in what you`re doing, you`ll like yourself, you`ll have inner peace. And if you have that, along with physical health, you will have had more success than you could possibly have imagined. - Johnny Carson': 0.25304135126516814,\n",
       " 'From kindergarten to graduation, I went to public schools, and I know that they are a key to being sure that every child has a chance to succeed and to rise in the world. - Dick Cheney': 0.40486616202426906,\n",
       " 'A good novel tells us the truth about its hero; but a bad novel tells us the truth about its author. - GK Chesterton': 1.0121654050606725,\n",
       " 'I think, at a child`s birth, if a mother could ask a fairy godmother to endow it with the most useful gift, that gift should be curiosity. - Eleanor Roosevelt': 1.0121654050606725,\n",
       " 'Through pride we are ever deceiving ourselves. But deep down below the surface of the average conscience a still, small voice says to us, something is out of tune. - Carl Jung': 0.5060827025303363,\n",
       " 'Let the word go forth from this time and place, to friend and foe alike, that the torch has been passed to a new generation of Americans. - John F. Kennedy': 0.5060827025303363,\n",
       " 'He who is of calm and happy nature will hardly feel the pressure of age, but to him who is of an opposite disposition youth and age are equally a burden. - Plato': 0.3373884683535575,\n",
       " 'A truly great book should be read in youth, again in maturity and once more in old age, as a fine building should be seen by morning light, at noon and by moonlight. - Robertson Davies': 0.674776936707115,\n",
       " 'Everything that used to be a sin is now a disease. - Bill Maher': 1.0121654050606725,\n",
       " 'God help the man who won`t marry until he finds a perfect woman, and God help him still more if he finds her. - Benjamin Tillet': 0.5060827025303363,\n",
       " 'Being a leader is like being a lady, if you have to go around telling people you are one, you aren`t. - Margaret Thatcher': 0.674776936707115,\n",
       " 'I believe one of the reasons so many do not get a higher education is the fear of their parents that they will lose more morally than they will receive mentally. - William Jennings Bryan': 0.5060827025303363,\n",
       " 'To me, clowns aren`t funny. In fact, they`re kinda scary. I`ve wondered where this started, and I think it goes back to the time I went to the circus and a clown killed my dad. - Jack Handey': 0.3373884683535575,\n",
       " 'Of all tyrannies, a tyranny exercised for the good of its victims may be the most oppressive. It may be better to live under robber barons than under omnipotent moral busybodies. The robber baron`s cruelty may sometimes sleep, his cupidity may at some point be satiated; but those who torment us for our own good will torment us without end, for they do so with the approval of their own conscience. - C.S. Lewis': 0.25304135126516814,\n",
       " 'Sin has many tools, but a lie is the handle which fits them all. - Edmund Burke': 1.0121654050606725,\n",
       " 'This will never be a civilized country until we expend more money for books than we do for chewing gum. - Elbert Hubbard': 0.5060827025303363,\n",
       " 'Life is a fatal complaint, and an eminently contagious one. - Oliver Wendell Holmes': 1.0121654050606725,\n",
       " 'Some of your countrymen were unable to distinguish between their native dislike for war and the stainless patriotism of those who suffered its scars. But there has been a rethinking and now we can say to you, and say as a nation, thank you for your courage. - Ronald Reagan': 0.674776936707115,\n",
       " 'Goldie and I did have a car stolen right out of our yard. It took us three days to notice. - Kurt Russell': 1.0121654050606725,\n",
       " 'What is a wedding? Webster`s dictionary defines a wedding as `the process of removing weeds from one`s garden.` - Homer Simpson': 1.0121654050606725,\n",
       " 'Don`t knock the weather; nine-tenths of the people couldn`t start a conversation if it didn`t change once in a while. - Kin Hubbard': 1.0121654050606725,\n",
       " 'Advice to young writers who want to get ahead without annoying delays: don’t write about Man, write about `a` man. - E.B. White': 0.5060827025303363,\n",
       " 'Karate is a form of marital arts in which people who have had years and years of training can, using only their hands and feet, make some of the worst movies in the history of the world. - Dave Barry': 0.25304135126516814,\n",
       " 'A single death is a tragedy; a million deaths is a statistic. - Joseph Stalin': 1.0121654050606725,\n",
       " 'A star on a movie set is like a time bomb. That bomb has got to be defused so people can approach it without fear. - Jack Nicholson': 1.0121654050606725,\n",
       " 'To be a leader means to be able to move masses. - Adolf Hitler': 0.3373884683535575,\n",
       " 'It is hard to believe that a man is telling the truth when you know that you would lie if you were in his place. - Henry Mencken': 0.3373884683535575,\n",
       " 'To defend Western Europe we have to let the Pentagon buy all these tanks and guns and things, and the Pentagon is unable to buy any object that that costs less than a condominium in Vail. If the Pentagon needs, say, fruit, it will argue that it must have fruit that can withstand the rigors of combat conditions, and it will wind up purchasing the FX-700 Seedless Tactical Grape, which will cost $160,000 per bunch, and will have an 83 percent failure rate. - Dave Barry': 0.20243308101213453,\n",
       " 'There are three rules for writing a novel. Unfortunately, no one knows what they are. - W. Somerset Maugham': 0.5060827025303363,\n",
       " 'Even if there is only one possible unified theory, it is just a set of rules and equations. What is it that breathes fire into the equations and makes a universe for them to describe? - Stephen Hawking': 0.674776936707115,\n",
       " 'The United States stands at the pinnacle of world power. This is a solemn moment for the American democracy. For with primacy in power is joined an awe-inspiring accountability for the future. - Winston Churchill': 0.25304135126516814,\n",
       " 'One swallow does not make a summer. - Aristotle': 1.0121654050606725,\n",
       " 'Washington is a Hollywood for ugly people. Hollywood is a Washington for the simpleminded. - John McCain': 1.0121654050606725,\n",
       " 'We are living in a world, where what we earn is a function of what we learn. - Bill Clinton': 0.674776936707115,\n",
       " 'Remember that happiness is a way of travel, not a destination. - Roy Goodman': 1.0121654050606725,\n",
       " 'PRESIDENT, n. The leading figure in a small group of men of whom — and of whom only — it is positively known that immense numbers of their countrymen did not want any of them for President. - Ambrose Bierce': 0.20243308101213453,\n",
       " 'I`ve worked for four presidents and watched two others up close, and I know that there`s no such thing as a routine day in the Oval Office. - Dick Cheney': 0.5060827025303363,\n",
       " 'We know life is futile. A man who considers that his life is of very wonderful importance is awfully close to a padded cell. - Clarence Darrow': 0.674776936707115,\n",
       " 'If a woman has to choose between catching a fly ball and saving an infant`s life, she will choose to save the infant`s life without even considering if there are men on base. - Dave Barry': 1.0121654050606725,\n",
       " 'You are young, my son, and, as the years go by, time will change and even reverse many of your present opinions. Refrain therefore awhile from setting yourself up as a judge of the highest matters. - Plato': 0.5060827025303363,\n",
       " 'A nickel isn`t worth a dime today. - Yogi Berra': 1.0121654050606725,\n",
       " 'An optimist is a person who starts a new diet on Thanksgiving Day. - Irv Kupcinet': 1.0121654050606725,\n",
       " 'If the primary aim of a captain were to preserve his ship, he would keep it in port forever. - Thomas Aquinas': 1.0121654050606725,\n",
       " 'Talent alone won`t make you a success. Neither will being in the right place at the right time, unless you are ready. The most important question is: `Are you ready?` - Johnny Carson': 0.3373884683535575,\n",
       " 'I`d rather hear an old truth than a new lie. - Chris Bowyer': 1.0121654050606725,\n",
       " 'If the United Nations once admits that international disputes can be settled by using force, then we will have destroyed the foundation of the organization and our best hope of establishing a world order. - Dwight Eisenhower': 0.3373884683535575,\n",
       " 'Beauty is ever to the lonely mind a shadow fleeting; she is never plain. She is a visitor who leaves behind the gift of grief, the souvenir of pain. - Christopher Morley': 0.674776936707115,\n",
       " 'On account of being a democracy and run by the people, we are the only nation in the world that has to keep a government four years, no matter what it does. - Will Rogers': 0.674776936707115,\n",
       " 'Rings and jewels are not gifts but apologies for gifts. The only true gift is a portion of yourself. - Ralph Waldo Emerson': 0.5060827025303363,\n",
       " 'Everyone is in awe of the lion tamer in a cage with half a dozen lions -- everyone but a school bus driver. - Laurence Peter': 1.0121654050606725,\n",
       " 'There is only one rule for being a good talker - learn to listen. - Christopher Morley': 1.0121654050606725,\n",
       " 'Reason and judgment are the qualities of a leader. - Tacitus': 1.0121654050606725,\n",
       " 'A mathematician is a blind man in a dark room looking for a black cat which isn`t there. - Charles Robert': 1.0121654050606725,\n",
       " 'The nice thing about being a celebrity is that, if you bore people, they think it`s their fault. - Henry Kissinger': 1.0121654050606725,\n",
       " 'It takes a long time to turn a big country around. - Bill Clinton': 1.0121654050606725,\n",
       " 'It still remains true that no justification of virtue will enable a man to be virtuous. - C.S. Lewis': 1.0121654050606725,\n",
       " 'I have never started a poem yet whose end I knew. Writing a poem is discovering. - Robert Frost': 1.0121654050606725,\n",
       " 'Freedom is nothing else but a chance to be better. - Albert Camus': 1.0121654050606725,\n",
       " 'When the human race has once acquired a supersitition nothing short of death is ever likely to remove it. - Mark Twain': 1.0121654050606725,\n",
       " 'In politics, an organized minority is a political majority. - Jesse Jackson': 1.0121654050606725,\n",
       " 'Many a man`s reputation would not know his character if they met on the street. - Elbert Hubbard': 1.0121654050606725,\n",
       " 'The whole life of an American is passed like a game of chance, a revolutionary crisis, or a battle. - Alexis de Tocqueville': 1.0121654050606725,\n",
       " 'You can`t build a reputation on what you are going to do. - Henry Ford': 0.5060827025303363,\n",
       " 'The intellect is not a serious thing, and never has been. It is an instrument on which one plays, that is all. - Oscar Wilde': 0.3373884683535575,\n",
       " 'There is luxury in self-reproach. When we blame ourselves, we feel no one else has a right to blame us. - Oscar Wilde': 0.5060827025303363,\n",
       " 'The function of RAM is to give us guys a way of deciding whose computer has the biggest, studliest, most tumescent MEMORY. This is important, because with today`s complex software, the more memory a computer has, the faster it can produce error messages. So the bottom line is, if you`re a guy, you cannot have enough RAM. - Dave Barry': 0.6072992430364035,\n",
       " 'We need not just a new generation of leadership but a new gender of leadership. - Bill Clinton': 1.0121654050606725,\n",
       " 'What a man`s mind can create, man`s character can control. - Thomas Edison': 0.5060827025303363,\n",
       " 'Sex without love is a meaningless experience, but as far as meaningless experiences go, it`s pretty damn good. - Woody Allen': 0.5060827025303363,\n",
       " 'Forgiveness is not an occasional act: it is a permanent attitude. - Martin Luther King Jr.': 0.5060827025303363,\n",
       " 'A man who desires to get married should know either everything or nothing. - Oscar Wilde': 1.0121654050606725,\n",
       " 'When we`re unemployed, we`re called lazy; when the whites are unemployed it`s called a depression. - Jesse Jackson': 0.5060827025303363,\n",
       " 'The illegal we do immediately. The unconstitutional takes a little longer. - Henry Kissinger': 0.5060827025303363,\n",
       " 'One of the striking differences between a cat and a lie is that a cat has only nine lives. - Mark Twain': 1.0121654050606725,\n",
       " 'A few hours of mountain climbing turn a villain and a saint into two rather equal creature. Exhaustion is the shortest way to equality and fraternity, and liberty is added eventually by sleep. - Friedrich Nietzsche': 1.0121654050606725,\n",
       " 'It is the madness of folly, to expect mercy from those who have refused to do justice; and even mercy, where conquest is the object, is only a trick of war; the cunning of the fox is as murderous as the violence of the wolf. - Thomas Paine': 0.16869423417677876,\n",
       " 'A word is dead when it is said, some say. I say it just begins to live that day. - Emily Dickinson': 0.5060827025303363,\n",
       " 'To you taxpayers out there, let me say this: Make sure you file your tax return on time! And remember that, even though income taxes can be a “pain in the neck,” the folks at the IRS are regular people just like you, except that they can destroy your life. - Dave Barry': 0.3373884683535575,\n",
       " 'Time is a great teacher, but unfortunately it kills all its pupils. - Louis Hector Berlioz': 1.0121654050606725,\n",
       " 'What is it that makes a complete stranger dive into an icy river to save a solid-gold baby? Maybe we`ll never know. - Jack Handey': 1.0121654050606725,\n",
       " '“Take a chance! All life is a chance. The man who goes farthest is generally the one who is willing to do and dare. - Dale Carnegie': 0.674776936707115,\n",
       " 'Painting is just another way of keeping a diary. - Pablo Picasso': 1.0121654050606725,\n",
       " 'Anyone who has never made a mistake has never tried anything new. - Albert Einstein': 0.5060827025303363,\n",
       " 'The surface of American society is covered with a layer of democratic paint, but from time to time one can see the old aristocratic colours breaking through. - Alexis de Tocqueville': 0.5060827025303363,\n",
       " 'Journalism is literature in a hurry. - Matthew Arnold': 1.0121654050606725,\n",
       " 'If you will not fight for the right when you can easily win without bloodshed; if you will not fight when your victory will be sure and not too costly; you may come to the moment when you will have to fight with all the odds against you and only a small chance of survival. There may even be a worse case: you may have to fight when there is no hope of victory, because it is better to perish than to live as slaves. - Winston Churchill': 0.28919011573162073,\n",
       " 'Question with boldness even the existence of a God; because, if there be one, he must more approve of the homage of reason, than that of blind-folded fear. - Thomas Jefferson': 0.25304135126516814,\n",
       " 'Government is not a solution to our problem, government is the problem. - Ronald Reagan': 0.5060827025303363}"
      ]
     },
     "execution_count": 61,
     "metadata": {},
     "output_type": "execute_result"
    }
   ],
   "source": [
    "quote_search_multiple(word_list=word_list_)"
   ]
  }
 ],
 "metadata": {
  "anaconda-cloud": {},
  "kernelspec": {
   "display_name": "Python 3",
   "language": "python",
   "name": "python3"
  },
  "language_info": {
   "codemirror_mode": {
    "name": "ipython",
    "version": 3
   },
   "file_extension": ".py",
   "mimetype": "text/x-python",
   "name": "python",
   "nbconvert_exporter": "python",
   "pygments_lexer": "ipython3",
   "version": "3.8.8"
  }
 },
 "nbformat": 4,
 "nbformat_minor": 1
}
