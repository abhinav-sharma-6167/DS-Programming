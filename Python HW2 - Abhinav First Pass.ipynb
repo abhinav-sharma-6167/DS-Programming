{
 "cells": [
  {
   "cell_type": "code",
   "execution_count": 1,
   "id": "b2579493",
   "metadata": {},
   "outputs": [],
   "source": [
    "import pandas as pd\n",
    "import numpy as np\n",
    "import matplotlib.pyplot as plt\n",
    "%matplotlib inline"
   ]
  },
  {
   "cell_type": "markdown",
   "id": "fb79a302",
   "metadata": {},
   "source": [
    "### NYC Restaurants"
   ]
  },
  {
   "cell_type": "markdown",
   "id": "7b58270e",
   "metadata": {},
   "source": [
    "<font face=\"Tahoma\" size = 3> Setup"
   ]
  },
  {
   "cell_type": "code",
   "execution_count": 69,
   "id": "1cc0b25d",
   "metadata": {},
   "outputs": [
    {
     "data": {
      "text/html": [
       "<div>\n",
       "<style scoped>\n",
       "    .dataframe tbody tr th:only-of-type {\n",
       "        vertical-align: middle;\n",
       "    }\n",
       "\n",
       "    .dataframe tbody tr th {\n",
       "        vertical-align: top;\n",
       "    }\n",
       "\n",
       "    .dataframe thead th {\n",
       "        text-align: right;\n",
       "    }\n",
       "</style>\n",
       "<table border=\"1\" class=\"dataframe\">\n",
       "  <thead>\n",
       "    <tr style=\"text-align: right;\">\n",
       "      <th></th>\n",
       "      <th>Unnamed: 0</th>\n",
       "      <th>CAMIS</th>\n",
       "      <th>DBA</th>\n",
       "      <th>BORO</th>\n",
       "      <th>BUILDING</th>\n",
       "      <th>STREET</th>\n",
       "      <th>ZIPCODE</th>\n",
       "      <th>PHONE</th>\n",
       "      <th>CUISINE DESCRIPTION</th>\n",
       "      <th>INSPECTION DATE</th>\n",
       "      <th>ACTION</th>\n",
       "      <th>VIOLATION CODE</th>\n",
       "      <th>VIOLATION DESCRIPTION</th>\n",
       "      <th>CRITICAL FLAG</th>\n",
       "      <th>SCORE</th>\n",
       "      <th>GRADE</th>\n",
       "      <th>GRADE DATE</th>\n",
       "      <th>RECORD DATE</th>\n",
       "      <th>INSPECTION TYPE</th>\n",
       "    </tr>\n",
       "  </thead>\n",
       "  <tbody>\n",
       "    <tr>\n",
       "      <th>0</th>\n",
       "      <td>0</td>\n",
       "      <td>30112340</td>\n",
       "      <td>WENDY'S</td>\n",
       "      <td>BROOKLYN</td>\n",
       "      <td>469</td>\n",
       "      <td>FLATBUSH AVENUE</td>\n",
       "      <td>11225</td>\n",
       "      <td>7182875005</td>\n",
       "      <td>Hamburgers</td>\n",
       "      <td>12/30/2014</td>\n",
       "      <td>Violations were cited in the following area(s).</td>\n",
       "      <td>06C</td>\n",
       "      <td>Food not protected from potential source of co...</td>\n",
       "      <td>Critical</td>\n",
       "      <td>8</td>\n",
       "      <td>A</td>\n",
       "      <td>12/30/2014</td>\n",
       "      <td>02/12/2015</td>\n",
       "      <td>Cycle Inspection / Re-inspection</td>\n",
       "    </tr>\n",
       "    <tr>\n",
       "      <th>1</th>\n",
       "      <td>1</td>\n",
       "      <td>30112340</td>\n",
       "      <td>WENDY'S</td>\n",
       "      <td>BROOKLYN</td>\n",
       "      <td>469</td>\n",
       "      <td>FLATBUSH AVENUE</td>\n",
       "      <td>11225</td>\n",
       "      <td>7182875005</td>\n",
       "      <td>Hamburgers</td>\n",
       "      <td>12/30/2014</td>\n",
       "      <td>Violations were cited in the following area(s).</td>\n",
       "      <td>10F</td>\n",
       "      <td>Non-food contact surface improperly constructe...</td>\n",
       "      <td>Not Critical</td>\n",
       "      <td>8</td>\n",
       "      <td>A</td>\n",
       "      <td>12/30/2014</td>\n",
       "      <td>02/12/2015</td>\n",
       "      <td>Cycle Inspection / Re-inspection</td>\n",
       "    </tr>\n",
       "  </tbody>\n",
       "</table>\n",
       "</div>"
      ],
      "text/plain": [
       "  Unnamed: 0     CAMIS      DBA      BORO BUILDING           STREET ZIPCODE  \\\n",
       "0          0  30112340  WENDY'S  BROOKLYN      469  FLATBUSH AVENUE   11225   \n",
       "1          1  30112340  WENDY'S  BROOKLYN      469  FLATBUSH AVENUE   11225   \n",
       "\n",
       "        PHONE CUISINE DESCRIPTION INSPECTION DATE  \\\n",
       "0  7182875005          Hamburgers      12/30/2014   \n",
       "1  7182875005          Hamburgers      12/30/2014   \n",
       "\n",
       "                                            ACTION VIOLATION CODE  \\\n",
       "0  Violations were cited in the following area(s).            06C   \n",
       "1  Violations were cited in the following area(s).            10F   \n",
       "\n",
       "                               VIOLATION DESCRIPTION CRITICAL FLAG SCORE  \\\n",
       "0  Food not protected from potential source of co...      Critical     8   \n",
       "1  Non-food contact surface improperly constructe...  Not Critical     8   \n",
       "\n",
       "  GRADE  GRADE DATE RECORD DATE                   INSPECTION TYPE  \n",
       "0     A  12/30/2014  02/12/2015  Cycle Inspection / Re-inspection  \n",
       "1     A  12/30/2014  02/12/2015  Cycle Inspection / Re-inspection  "
      ]
     },
     "execution_count": 69,
     "metadata": {},
     "output_type": "execute_result"
    }
   ],
   "source": [
    "df = pd.read_csv(\"NYC_Restaurants.csv\", dtype=str)\n",
    "df.head(2)"
   ]
  },
  {
   "cell_type": "markdown",
   "id": "4c207eb2",
   "metadata": {},
   "source": [
    "<font face=\"Tahoma\" size = 3> Q1. Create a unique name for each restaurant."
   ]
  },
  {
   "cell_type": "code",
   "execution_count": 70,
   "id": "d5481e83",
   "metadata": {},
   "outputs": [
    {
     "data": {
      "text/plain": [
       "Unnamed: 0                   0\n",
       "CAMIS                        0\n",
       "DBA                          0\n",
       "BORO                         0\n",
       "BUILDING                     0\n",
       "STREET                       0\n",
       "ZIPCODE                      0\n",
       "PHONE                        0\n",
       "CUISINE DESCRIPTION          0\n",
       "INSPECTION DATE              0\n",
       "ACTION                       0\n",
       "VIOLATION CODE             577\n",
       "VIOLATION DESCRIPTION      601\n",
       "CRITICAL FLAG                0\n",
       "SCORE                     2990\n",
       "GRADE                    23624\n",
       "GRADE DATE               24490\n",
       "RECORD DATE                  0\n",
       "INSPECTION TYPE              0\n",
       "dtype: int64"
      ]
     },
     "execution_count": 70,
     "metadata": {},
     "output_type": "execute_result"
    }
   ],
   "source": [
    "df.isnull().sum(axis = 0)"
   ]
  },
  {
   "cell_type": "code",
   "execution_count": 71,
   "id": "d2914f13",
   "metadata": {},
   "outputs": [],
   "source": [
    "cols = ['DBA','BUILDING','STREET','ZIPCODE','BORO']\n",
    "df['Restaurant'] = df[cols].agg(' '.join,axis=1)"
   ]
  },
  {
   "cell_type": "code",
   "execution_count": 72,
   "id": "1115520c",
   "metadata": {},
   "outputs": [
    {
     "data": {
      "text/plain": [
       "0           WENDY'S 469 FLATBUSH AVENUE 11225 BROOKLYN\n",
       "1           WENDY'S 469 FLATBUSH AVENUE 11225 BROOKLYN\n",
       "2           WENDY'S 469 FLATBUSH AVENUE 11225 BROOKLYN\n",
       "3           WENDY'S 469 FLATBUSH AVENUE 11225 BROOKLYN\n",
       "4           WENDY'S 469 FLATBUSH AVENUE 11225 BROOKLYN\n",
       "5        TOV KOSHER KITCHEN 97-22 63 ROAD 11374 QUEENS\n",
       "6        TOV KOSHER KITCHEN 97-22 63 ROAD 11374 QUEENS\n",
       "7        TOV KOSHER KITCHEN 97-22 63 ROAD 11374 QUEENS\n",
       "8        TOV KOSHER KITCHEN 97-22 63 ROAD 11374 QUEENS\n",
       "9    BRUNOS ON THE BOULEVARD 8825 ASTORIA BOULEVARD...\n",
       "Name: Restaurant, dtype: object"
      ]
     },
     "execution_count": 72,
     "metadata": {},
     "output_type": "execute_result"
    }
   ],
   "source": [
    "df['Restaurant'][:10]"
   ]
  },
  {
   "cell_type": "markdown",
   "id": "32d863a9",
   "metadata": {},
   "source": [
    "<font face=\"Tahoma\" size = 3>Q2. How many restaurants are included in the data?"
   ]
  },
  {
   "cell_type": "code",
   "execution_count": 73,
   "id": "9cf8fa09",
   "metadata": {},
   "outputs": [
    {
     "data": {
      "text/plain": [
       "10114"
      ]
     },
     "execution_count": 73,
     "metadata": {},
     "output_type": "execute_result"
    }
   ],
   "source": [
    "df['Restaurant'].nunique()"
   ]
  },
  {
   "cell_type": "code",
   "execution_count": 100,
   "id": "5933d2cb",
   "metadata": {},
   "outputs": [],
   "source": [
    "#df['DBA'].nunique()"
   ]
  },
  {
   "cell_type": "markdown",
   "id": "fc482d2e",
   "metadata": {},
   "source": [
    "<font face=\"Tahoma\" size = 3>Q3. How many chains are there? "
   ]
  },
  {
   "cell_type": "code",
   "execution_count": 74,
   "id": "1a3e3943",
   "metadata": {},
   "outputs": [
    {
     "data": {
      "text/plain": [
       "7824"
      ]
     },
     "execution_count": 74,
     "metadata": {},
     "output_type": "execute_result"
    }
   ],
   "source": [
    "df[df['Restaurant'].map(df['Restaurant'].value_counts() > 1)]['DBA'].nunique()\n"
   ]
  },
  {
   "cell_type": "markdown",
   "id": "25d542ee",
   "metadata": {},
   "source": [
    "<font face=\"Tahoma\" size = 3>Q4. Plot a bar graph of the top 20 most popular chains."
   ]
  },
  {
   "cell_type": "code",
   "execution_count": 75,
   "id": "e62a4690",
   "metadata": {},
   "outputs": [
    {
     "data": {
      "text/plain": [
       "<AxesSubplot:>"
      ]
     },
     "execution_count": 75,
     "metadata": {},
     "output_type": "execute_result"
    },
    {
     "data": {
      "image/png": "[encoded data removed]",
      "text/plain": [
       "<Figure size 432x288 with 1 Axes>"
      ]
     },
     "metadata": {
      "needs_background": "light"
     },
     "output_type": "display_data"
    }
   ],
   "source": [
    "df[df['Restaurant'].map(df['Restaurant'].value_counts() > 1)]['DBA'].value_counts()[0:20].plot(kind='bar')"
   ]
  },
  {
   "cell_type": "markdown",
   "id": "1d1650a2",
   "metadata": {},
   "source": [
    "<font face=\"Tahoma\" size = 3>Q5. What fraction of all restaurants are chain restaurants?"
   ]
  },
  {
   "cell_type": "code",
   "execution_count": 76,
   "id": "055c35ad",
   "metadata": {},
   "outputs": [
    {
     "data": {
      "text/plain": [
       "0.77"
      ]
     },
     "execution_count": 76,
     "metadata": {},
     "output_type": "execute_result"
    }
   ],
   "source": [
    "round(df[df['Restaurant'].map(df['Restaurant'].value_counts() > 1)]['DBA'].nunique() / df['Restaurant'].nunique(),2)"
   ]
  },
  {
   "cell_type": "markdown",
   "id": "a1617603",
   "metadata": {},
   "source": [
    "<font face=\"Tahoma\" size = 3>Q6. Plot the number of non-chain restaurants in each boro"
   ]
  },
  {
   "cell_type": "code",
   "execution_count": 92,
   "id": "3723e530",
   "metadata": {},
   "outputs": [],
   "source": [
    "chains = df[df['Restaurant'].map(df['Restaurant'].value_counts() > 1)][['DBA','Restaurant']]"
   ]
  },
  {
   "cell_type": "code",
   "execution_count": 93,
   "id": "e95ceee5",
   "metadata": {},
   "outputs": [
    {
     "data": {
      "text/plain": [
       "7824"
      ]
     },
     "execution_count": 93,
     "metadata": {},
     "output_type": "execute_result"
    }
   ],
   "source": [
    "chains['DBA'].nunique()"
   ]
  },
  {
   "cell_type": "code",
   "execution_count": 94,
   "id": "c567ead1",
   "metadata": {},
   "outputs": [
    {
     "data": {
      "text/plain": [
       "8849"
      ]
     },
     "execution_count": 94,
     "metadata": {},
     "output_type": "execute_result"
    }
   ],
   "source": [
    "chains['Restaurant'].nunique()"
   ]
  },
  {
   "cell_type": "code",
   "execution_count": 101,
   "id": "1187c1bc",
   "metadata": {},
   "outputs": [],
   "source": [
    "nonchains = df[~(df['DBA'].isin(chains['DBA']))]"
   ]
  },
  {
   "cell_type": "code",
   "execution_count": 106,
   "id": "d8c8762f",
   "metadata": {},
   "outputs": [
    {
     "data": {
      "text/plain": [
       "PHOEBE'S                               2\n",
       "CREDIT SUISSE                          2\n",
       "LOESER'S HEBREW NATIONAL               1\n",
       "EAST SIDE BILLARD                      1\n",
       "CHECKER'S                              1\n",
       "                                      ..\n",
       "NEW LINE INTERNET CAFE                 1\n",
       "DISNEY ABC CAFETERIA                   1\n",
       "ENDLESS SUMMER                         1\n",
       "PRABHU KIRPA SWEETS AND RESTAURANT     1\n",
       "NORTH SHORE TOWERS AND COUNTRY CLUB    1\n",
       "Name: DBA, Length: 992, dtype: int64"
      ]
     },
     "execution_count": 106,
     "metadata": {},
     "output_type": "execute_result"
    }
   ],
   "source": [
    "nonchains['DBA'].value_counts()\n",
    "#nonchains['DBA'].nunique()"
   ]
  },
  {
   "cell_type": "code",
   "execution_count": 107,
   "id": "75a5d948",
   "metadata": {
    "scrolled": true
   },
   "outputs": [
    {
     "data": {
      "text/plain": [
       "BUBBLE CREPE 70-23 AUSTIN STREET 11375 QUEENS                                                 1\n",
       "WILLIAM GREENBERG DESSERT 1 WEST   58 STREET 10019 MANHATTAN                                  1\n",
       "MI RANCHITO MEXICAN RESTAURANT 1468 ST NICHOLAS AVENUE 10033 MANHATTAN                        1\n",
       "GOLDEN CRUST PIZZA AND GRILL 9023 37 AVENUE 11372 QUEENS                                      1\n",
       "Jimmy Deli Grill 2254       EAST TREMONT AVENUE                                10462 BRONX    1\n",
       "                                                                                             ..\n",
       "GOLDEN STAR 2110 CLOVE RD 10305 STATEN ISLAND                                                 1\n",
       "EAST VILLAGE TAVERN 158 AVENUE C 10009 MANHATTAN                                              1\n",
       "CHAN'S VILLAGE 1328 METROPOLITAN AVENUE 10462 BRONX                                           1\n",
       "CHOP SHOP 254        10 AVENUE                                          10001 MANHATTAN       1\n",
       "IL CAFFE LATTE 2 458 WEST 145TH STREET 10031 MANHATTAN                                        1\n",
       "Name: Restaurant, Length: 994, dtype: int64"
      ]
     },
     "execution_count": 107,
     "metadata": {},
     "output_type": "execute_result"
    }
   ],
   "source": [
    "nonchains['Restaurant'].value_counts()\n",
    "#nonchains['Restaurant'].nunique()"
   ]
  },
  {
   "cell_type": "code",
   "execution_count": 111,
   "id": "a9e0ee88",
   "metadata": {},
   "outputs": [
    {
     "data": {
      "text/html": [
       "<div>\n",
       "<style scoped>\n",
       "    .dataframe tbody tr th:only-of-type {\n",
       "        vertical-align: middle;\n",
       "    }\n",
       "\n",
       "    .dataframe tbody tr th {\n",
       "        vertical-align: top;\n",
       "    }\n",
       "\n",
       "    .dataframe thead th {\n",
       "        text-align: right;\n",
       "    }\n",
       "</style>\n",
       "<table border=\"1\" class=\"dataframe\">\n",
       "  <thead>\n",
       "    <tr style=\"text-align: right;\">\n",
       "      <th></th>\n",
       "      <th>Unnamed: 0</th>\n",
       "      <th>CAMIS</th>\n",
       "      <th>DBA</th>\n",
       "      <th>BORO</th>\n",
       "      <th>BUILDING</th>\n",
       "      <th>STREET</th>\n",
       "      <th>ZIPCODE</th>\n",
       "      <th>PHONE</th>\n",
       "      <th>CUISINE DESCRIPTION</th>\n",
       "      <th>INSPECTION DATE</th>\n",
       "      <th>ACTION</th>\n",
       "      <th>VIOLATION CODE</th>\n",
       "      <th>VIOLATION DESCRIPTION</th>\n",
       "      <th>CRITICAL FLAG</th>\n",
       "      <th>SCORE</th>\n",
       "      <th>GRADE</th>\n",
       "      <th>GRADE DATE</th>\n",
       "      <th>RECORD DATE</th>\n",
       "      <th>INSPECTION TYPE</th>\n",
       "      <th>Restaurant</th>\n",
       "    </tr>\n",
       "  </thead>\n",
       "  <tbody>\n",
       "    <tr>\n",
       "      <th>11196</th>\n",
       "      <td>11196</td>\n",
       "      <td>41197540</td>\n",
       "      <td>DJERDAN</td>\n",
       "      <td>Missing</td>\n",
       "      <td>9</td>\n",
       "      <td>E WESLEY ST</td>\n",
       "      <td>07606</td>\n",
       "      <td>7184843180</td>\n",
       "      <td>Mediterranean</td>\n",
       "      <td>12/30/2014</td>\n",
       "      <td>Violations were cited in the following area(s).</td>\n",
       "      <td>08C</td>\n",
       "      <td>Pesticide use not in accordance with label or ...</td>\n",
       "      <td>Not Critical</td>\n",
       "      <td>6</td>\n",
       "      <td>A</td>\n",
       "      <td>12/30/2014</td>\n",
       "      <td>02/12/2015</td>\n",
       "      <td>Cycle Inspection / Initial Inspection</td>\n",
       "      <td>DJERDAN 9 E WESLEY ST 07606 Missing</td>\n",
       "    </tr>\n",
       "    <tr>\n",
       "      <th>11197</th>\n",
       "      <td>11197</td>\n",
       "      <td>41197540</td>\n",
       "      <td>DJERDAN</td>\n",
       "      <td>Missing</td>\n",
       "      <td>9</td>\n",
       "      <td>E WESLEY ST</td>\n",
       "      <td>07606</td>\n",
       "      <td>7184843180</td>\n",
       "      <td>Mediterranean</td>\n",
       "      <td>12/30/2014</td>\n",
       "      <td>Violations were cited in the following area(s).</td>\n",
       "      <td>10F</td>\n",
       "      <td>Non-food contact surface improperly constructe...</td>\n",
       "      <td>Not Critical</td>\n",
       "      <td>6</td>\n",
       "      <td>A</td>\n",
       "      <td>12/30/2014</td>\n",
       "      <td>02/12/2015</td>\n",
       "      <td>Cycle Inspection / Initial Inspection</td>\n",
       "      <td>DJERDAN 9 E WESLEY ST 07606 Missing</td>\n",
       "    </tr>\n",
       "  </tbody>\n",
       "</table>\n",
       "</div>"
      ],
      "text/plain": [
       "      Unnamed: 0     CAMIS      DBA     BORO BUILDING       STREET ZIPCODE  \\\n",
       "11196      11196  41197540  DJERDAN  Missing        9  E WESLEY ST   07606   \n",
       "11197      11197  41197540  DJERDAN  Missing        9  E WESLEY ST   07606   \n",
       "\n",
       "            PHONE CUISINE DESCRIPTION INSPECTION DATE  \\\n",
       "11196  7184843180       Mediterranean      12/30/2014   \n",
       "11197  7184843180       Mediterranean      12/30/2014   \n",
       "\n",
       "                                                ACTION VIOLATION CODE  \\\n",
       "11196  Violations were cited in the following area(s).            08C   \n",
       "11197  Violations were cited in the following area(s).            10F   \n",
       "\n",
       "                                   VIOLATION DESCRIPTION CRITICAL FLAG SCORE  \\\n",
       "11196  Pesticide use not in accordance with label or ...  Not Critical     6   \n",
       "11197  Non-food contact surface improperly constructe...  Not Critical     6   \n",
       "\n",
       "      GRADE  GRADE DATE RECORD DATE                        INSPECTION TYPE  \\\n",
       "11196     A  12/30/2014  02/12/2015  Cycle Inspection / Initial Inspection   \n",
       "11197     A  12/30/2014  02/12/2015  Cycle Inspection / Initial Inspection   \n",
       "\n",
       "                                Restaurant  \n",
       "11196  DJERDAN 9 E WESLEY ST 07606 Missing  \n",
       "11197  DJERDAN 9 E WESLEY ST 07606 Missing  "
      ]
     },
     "execution_count": 111,
     "metadata": {},
     "output_type": "execute_result"
    }
   ],
   "source": [
    "df[df['BORO'] == \"Missing\"][0:2]"
   ]
  },
  {
   "cell_type": "code",
   "execution_count": 118,
   "id": "e0e8e12b",
   "metadata": {},
   "outputs": [],
   "source": [
    "df_subset = df[(df['DBA'].isin(nonchains['DBA'].value_counts().index))]\n",
    "df_subset = df_subset[df_subset['BORO'] != \"Missing\"]"
   ]
  },
  {
   "cell_type": "code",
   "execution_count": 121,
   "id": "ff2fb4e0",
   "metadata": {},
   "outputs": [
    {
     "data": {
      "text/plain": [
       "<AxesSubplot:>"
      ]
     },
     "execution_count": 121,
     "metadata": {},
     "output_type": "execute_result"
    },
    {
     "data": {
      "image/png": "[encoded data removed]",
      "text/plain": [
       "<Figure size 432x288 with 1 Axes>"
      ]
     },
     "metadata": {
      "needs_background": "light"
     },
     "output_type": "display_data"
    }
   ],
   "source": [
    "df_subset['BORO'].value_counts().plot(kind='bar')"
   ]
  },
  {
   "cell_type": "markdown",
   "id": "4b93972b",
   "metadata": {},
   "source": [
    "<font face=\"Tahoma\" size = 3>Q7. Plot the number of non-chain restaurants in each boro"
   ]
  },
  {
   "cell_type": "code",
   "execution_count": null,
   "id": "f2e6540a",
   "metadata": {},
   "outputs": [],
   "source": []
  }
 ],
 "metadata": {
  "kernelspec": {
   "display_name": "Python 3",
   "language": "python",
   "name": "python3"
  },
  "language_info": {
   "codemirror_mode": {
    "name": "ipython",
    "version": 3
   },
   "file_extension": ".py",
   "mimetype": "text/x-python",
   "name": "python",
   "nbconvert_exporter": "python",
   "pygments_lexer": "ipython3",
   "version": "3.8.8"
  }
 },
 "nbformat": 4,
 "nbformat_minor": 5
}
